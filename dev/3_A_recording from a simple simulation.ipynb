{
 "cells": [
  {
   "cell_type": "markdown",
   "metadata": {},
   "source": [
    "# balanced network\n",
    "\n",
    "Let's start with a rather complete example modified from \n",
    "\n",
    "http://neuralensemble.org/docs/PyNN/examples/VAbenchmarks.html\n"
   ]
  },
  {
   "cell_type": "markdown",
   "metadata": {},
   "source": [
    "## initialization"
   ]
  },
  {
   "cell_type": "code",
   "execution_count": 1,
   "metadata": {},
   "outputs": [
    {
     "name": "stdout",
     "output_type": "stream",
     "text": [
      "CSAConnector: libneurosim support not available in NEST.\n",
      "Falling back on PyNN's default CSAConnector.\n",
      "Please re-compile NEST using --with-libneurosim=PATH\n"
     ]
    },
    {
     "name": "stderr",
     "output_type": "stream",
     "text": [
      "/home/laurent/.local/lib/python3.8/site-packages/pyNN/nest/__init__.py:53: UserWarning:Unable to install NEST extensions. Certain models may not be available.\n"
     ]
    }
   ],
   "source": [
    "from pyNN.utility import Timer, ProgressBar, init_logging, normalized_filename\n",
    "from pyNN.random import NumpyRNG, RandomDistribution\n",
    "\n",
    "import pyNN.nest as sim\n",
    "\n",
    "init_logging(None, debug=False)\n",
    "\n",
    "timer = Timer()\n",
    "\n",
    "# === Define parameters ========================================================\n",
    "\n",
    "threads  = 1\n",
    "rngseed  = 98765\n",
    "parallel_safe = True\n",
    "\n",
    "n        = 4000  # number of cells\n",
    "r_ei     = 4.0   # number of excitatory cells:number of inhibitory cells\n",
    "pconn    = 0.01  # connection probability\n",
    "stim_dur = 50.   # (ms) duration of random stimulation\n",
    "rate     = 10.  # (Hz) frequency of the random stimulation\n",
    "\n",
    "dt       = 0.1   # (ms) simulation timestep\n",
    "tstop    = 1000  # (ms) simulaton duration\n",
    "delay    = 0.2\n",
    "n_record = 40\n",
    "# Cell parameters\n",
    "area     = 20000. # (µm²)\n",
    "tau_m    = 20.    # (ms)\n",
    "cm       = 1.     # (µF/cm²)\n",
    "g_leak   = 5e-5   # (S/cm²)\n",
    "E_leak   = -60.  # (mV)\n",
    "v_thresh = -50.   # (mV)\n",
    "v_reset  = -60.   # (mV)\n",
    "t_refrac = 5.     # (ms) (clamped at v_reset)\n",
    "v_mean   = -60.   # (mV) 'mean' membrane potential, for calculating CUBA weights\n",
    "tau_exc  = 5.     # (ms)\n",
    "tau_inh  = 10.    # (ms)\n",
    "\n",
    "# Synapse parameters\n",
    "Gexc = 4.     # (nS)\n",
    "Ginh = 51.    # (nS)\n",
    "Erev_exc = 0.     # (mV)\n",
    "Erev_inh = -80.   # (mV)\n",
    "\n",
    "### what is the synaptic delay???\n",
    "\n",
    "# === Calculate derived parameters =============================================\n",
    "\n",
    "area  = area*1e-8                     # convert to cm²\n",
    "cm    = cm*area*1000                  # convert to nF\n",
    "Rm    = 1e-6/(g_leak*area)            # membrane resistance in MΩ\n",
    "assert tau_m == cm*Rm                 # just to check\n",
    "n_exc = int(round((n*r_ei/(1+r_ei)))) # number of excitatory cells\n",
    "n_inh = n - n_exc                     # number of inhibitory cells\n",
    "celltype = sim.IF_cond_exp\n",
    "w_exc    = Gexc*1e-3              # We convert conductances to uS\n",
    "w_inh    = Ginh*1e-3\n",
    "\n",
    "# === Build the network ========================================================\n",
    "extra = {'threads' : threads,\n",
    "         'filename': \"va.xml\",\n",
    "         'label': 'VA'}\n",
    "\n",
    "cell_params = {\n",
    "    'tau_m'      : tau_m,    'tau_syn_E'  : tau_exc,  'tau_syn_I'  : tau_inh,\n",
    "    'v_rest'     : E_leak,   'v_reset'    : v_reset,  'v_thresh'   : v_thresh,\n",
    "    'cm'         : cm,       'tau_refrac' : t_refrac}\n",
    "\n",
    "cell_params['e_rev_E'] = Erev_exc\n",
    "cell_params['e_rev_I'] = Erev_inh\n",
    "\n"
   ]
  },
  {
   "cell_type": "markdown",
   "metadata": {},
   "source": [
    "## running it..."
   ]
  },
  {
   "cell_type": "code",
   "execution_count": 3,
   "metadata": {},
   "outputs": [
    {
     "name": "stderr",
     "output_type": "stream",
     "text": [
      "2020-12-02 13:15:25,818 WARNING  [PyNN] NEST does not allow setting an initial value for g_ex (/home/laurent/.local/lib/python3.8/site-packages/pyNN/nest/populations.py[174]:_set_initial_value_array)\n",
      "2020-12-02 13:15:25,825 WARNING  [PyNN] NEST does not allow setting an initial value for g_in (/home/laurent/.local/lib/python3.8/site-packages/pyNN/nest/populations.py[174]:_set_initial_value_array)\n"
     ]
    },
    {
     "name": "stdout",
     "output_type": "stream",
     "text": [
      "0 Creating cell populations...\n",
      "0 Initialising membrane potential to random values...\n",
      "0 Connecting populations...\n",
      "0 Setting up recording...0%                                                                                                                                                                                                                                                                                                                                                                                                                                                                                                                                                                                                                                                                                                                                                                                                                                                                                                                                                                                                                                                                                                                                                                                                                                                                                        \n",
      "0 Running simulation...\n",
      "0 Writing data to file...\n",
      "\n",
      "--- Vogels-Abbott Network Simulation ---\n",
      "Nodes                  : 1\n",
      "Number of Neurons      : 4000\n",
      "Number of Synapses     : 128066 e→e,i  32011 i→e,i\n",
      "Excitatory conductance : 4 nS\n",
      "Inhibitory conductance : 51 nS\n",
      "Excitatory rate        : 23.1569 Hz\n",
      "Inhibitory rate        : 21.765 Hz\n",
      "Build time             : 13.1114 s\n",
      "Simulation time        : 10.1807 s\n",
      "Writing time           : 0.918648 s\n"
     ]
    }
   ],
   "source": [
    "node_id = sim.setup(timestep=dt, min_delay=delay, max_delay=1.0, **extra)\n",
    "num_process = sim.num_processes()\n",
    "\n",
    "timer.start()\n",
    "\n",
    "print(\"%s Creating cell populations...\" % node_id)\n",
    "\n",
    "# create a single population of neurons, and then use population views to define\n",
    "# excitatory and inhibitory sub-populations\n",
    "all_cells = sim.Population(n_exc + n_inh, celltype(**cell_params), label=\"All Cells\")\n",
    "exc_cells = all_cells[:n_exc]\n",
    "exc_cells.label = \"Excitatory cells\"\n",
    "inh_cells = all_cells[n_exc:]\n",
    "inh_cells.label = \"Inhibitory cells\"\n",
    "\n",
    "ext_stim = sim.Population(20, sim.SpikeSourcePoisson(rate=rate, duration=stim_dur), label=\"expoisson\")\n",
    "rconn = 0.01\n",
    "ext_conn = sim.FixedProbabilityConnector(rconn)\n",
    "ext_syn = sim.StaticSynapse(weight=0.1)\n",
    "\n",
    "print(\"%s Initialising membrane potential to random values...\" % node_id)\n",
    "rng = NumpyRNG(seed=rngseed, parallel_safe=parallel_safe)\n",
    "uniformDistr = RandomDistribution('uniform', low=v_reset, high=v_thresh, rng=rng)\n",
    "all_cells.initialize(v=uniformDistr)\n",
    "\n",
    "print(\"%s Connecting populations...\" % node_id)\n",
    "progress_bar = ProgressBar(width=20)\n",
    "connector = sim.FixedProbabilityConnector(pconn, rng=rng, callback=progress_bar)\n",
    "exc_syn = sim.StaticSynapse(weight=w_exc, delay=delay)\n",
    "inh_syn = sim.StaticSynapse(weight=w_inh, delay=delay)\n",
    "\n",
    "connections = {}\n",
    "connections['exc'] = sim.Projection(exc_cells, all_cells, connector, exc_syn, receptor_type='excitatory')\n",
    "connections['inh'] = sim.Projection(inh_cells, all_cells, connector, inh_syn, receptor_type='inhibitory')\n",
    "connections['ext'] = sim.Projection(ext_stim, all_cells, ext_conn, ext_syn, receptor_type='excitatory')\n",
    "\n",
    "# === Setup recording ==========================================================\n",
    "print(\"%s Setting up recording...\" % node_id)\n",
    "all_cells.record('spikes')\n",
    "exc_cells[[0, 1]].record('v')\n",
    "\n",
    "buildCPUTime = timer.diff()\n",
    "\n",
    "# === Run simulation ===========================================================\n",
    "print(\"%d Running simulation...\" % node_id)\n",
    "sim.run(tstop)\n",
    "\n",
    "E_count = exc_cells.mean_spike_count()\n",
    "I_count = inh_cells.mean_spike_count()\n",
    "\n",
    "n_connections = \"%d e→e,i  %d i→e,i\" % (connections['exc'].size(),\n",
    "                                      connections['inh'].size())\n",
    "simCPUTime = timer.diff()\n",
    "# === Output results to file ====================================================\n",
    "\n",
    "print(\"%d Writing data to file...\" % node_id)\n",
    "\n",
    "filename = normalized_filename(\"Results\", \"VAbenchmarks_exc\", \"pkl\", 'nest', 1)\n",
    "exc_cells.write_data(filename)\n",
    "inh_cells.write_data(filename.replace(\"exc\", \"inh\"))\n",
    "\n",
    "writeCPUTime = timer.diff()\n",
    "\n",
    "print(\"\\n--- Vogels-Abbott Network Simulation ---\")\n",
    "print(\"Nodes                  : %d\" % 1)\n",
    "print(\"Number of Neurons      : %d\" % n)\n",
    "print(\"Number of Synapses     : %s\" % n_connections)\n",
    "print(\"Excitatory conductance : %g nS\" % Gexc)\n",
    "print(\"Inhibitory conductance : %g nS\" % Ginh)\n",
    "print(\"Excitatory rate        : %g Hz\" % (E_count * 1000.0 / tstop,))\n",
    "print(\"Inhibitory rate        : %g Hz\" % (I_count * 1000.0 / tstop,))\n",
    "print(\"Build time             : %g s\" % buildCPUTime)\n",
    "print(\"Simulation time        : %g s\" % simCPUTime)\n",
    "print(\"Writing time           : %g s\" % writeCPUTime)\n",
    "\n",
    "\n",
    "# === Finished with simulator ==================================================\n",
    "\n",
    "sim.end()"
   ]
  },
  {
   "cell_type": "code",
   "execution_count": 4,
   "metadata": {},
   "outputs": [],
   "source": [
    "# TODO add watermark"
   ]
  }
 ],
 "metadata": {
  "kernelspec": {
   "display_name": "Python 3",
   "language": "python",
   "name": "python3"
  },
  "language_info": {
   "codemirror_mode": {
    "name": "ipython",
    "version": 3
   },
   "file_extension": ".py",
   "mimetype": "text/x-python",
   "name": "python",
   "nbconvert_exporter": "python",
   "pygments_lexer": "ipython3",
   "version": "3.8.5"
  },
  "toc": {
   "base_numbering": 1,
   "nav_menu": {},
   "number_sections": true,
   "sideBar": true,
   "skip_h1_title": false,
   "title_cell": "Table of Contents",
   "title_sidebar": "Contents",
   "toc_cell": false,
   "toc_position": {},
   "toc_section_display": true,
   "toc_window_display": false
  }
 },
 "nbformat": 4,
 "nbformat_minor": 4
}
