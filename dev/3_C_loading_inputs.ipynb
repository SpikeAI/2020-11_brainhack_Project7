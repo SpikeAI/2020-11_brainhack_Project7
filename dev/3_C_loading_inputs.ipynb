{
 "cells": [
  {
   "cell_type": "markdown",
   "metadata": {},
   "source": [
    "http://neuralensemble.org/docs/PyNN/examples/VAbenchmarks.html\n"
   ]
  },
  {
   "cell_type": "markdown",
   "metadata": {},
   "source": [
    "# open h5"
   ]
  },
  {
   "cell_type": "code",
   "execution_count": null,
   "metadata": {},
   "outputs": [],
   "source": [
    "# laod h5\n",
    "%matplotlib inline\n",
    "import numpy as np\n",
    "import matplotlib.pyplot as plt\n",
    "import h5py\n",
    "\n",
    "pathName = \"data.h5\"\n",
    "\n",
    "h5 = h5py.File(pathName,'r')\n",
    "\n",
    "list(h5.keys()) #acts as python dictionary\n"
   ]
  },
  {
   "cell_type": "code",
   "execution_count": null,
   "metadata": {},
   "outputs": [],
   "source": []
  },
  {
   "cell_type": "markdown",
   "metadata": {},
   "source": [
    "# open pickle file"
   ]
  },
  {
   "cell_type": "code",
   "execution_count": null,
   "metadata": {},
   "outputs": [],
   "source": [
    "import pickle \n",
    "\n",
    "def getPklData(pathData):\n",
    "    fileHandle = open(pathData, 'rb')\n",
    "    neoObj = pickle.load(fileHandle)\n",
    "    segments = neoObj.segments[0]\n",
    "    spikeTrains = segments.spiktrains\n",
    "    return spikeTrains\n",
    "\n",
    "pathData = \"data.pkl\"\n",
    "spk = getPklData(pathData)\n"
   ]
  },
  {
   "cell_type": "markdown",
   "metadata": {},
   "source": [
    "# adapt the bottom code to plot inputs"
   ]
  },
  {
   "cell_type": "code",
   "execution_count": null,
   "metadata": {},
   "outputs": [],
   "source": [
    "%matplotlib inline\n",
    "import numpy as np\n",
    "import matplotlib.pyplot as plt\n",
    "\n",
    "def plot(signal, spikes, alpha=.2):\n",
    "    fig_settings = {\n",
    "        'lines.linewidth': 0.5,\n",
    "        'axes.linewidth': 0.5,\n",
    "        'axes.labelsize': 'small',\n",
    "        'legend.fontsize': 'small',\n",
    "        'font.size': 14\n",
    "    }\n",
    "    plt.rcParams.update(fig_settings)\n",
    "\n",
    "    #n_panels = sum(a.shape[1] for a in signal.segments[0].analogsignals) + 1\n",
    "    n_panels = len(signal.segments[0].analogsignals) +1 \n",
    "    fig, axs = plt.subplots(n_panels, 1, figsize=(15, 21))\n",
    "\n",
    "    def plot_spiketrains(ax, segment):\n",
    "        for spiketrain in segment.spiketrains[:100]:\n",
    "            y = np.ones_like(spiketrain) * spiketrain.annotations['source_id']\n",
    "            ax.plot(spiketrain, y, '.')\n",
    "            ax.set_ylabel(segment.name)\n",
    "            #plt.setp(plt.gca().get_xticklabels(), visible=False)\n",
    "\n",
    "    def plot_signal(ax, signal, index, colour='b'):\n",
    "        label = \"Neuron %d\" % signal.annotations['source_ids'][index]\n",
    "        ax.plot(signal.times, signal[:, index], colour, label=label, alpha=alpha)\n",
    "        ax.set_ylabel(\"%s (%s)\" % (signal.name, signal.units._dimensionality.string))\n",
    "        #plt.setp(plt.gca().get_xticklabels(), visible=False)\n",
    "        #plt.legend()\n",
    "\n",
    "    plot_spiketrains(axs[0], spikes.segments[0])\n",
    "    #plot_spiketrains(axs[1], all_spikes.segments[0])\n",
    "    for i_panel, array in enumerate(signal.segments[0].analogsignals):\n",
    "        for i in range(array.shape[1]):\n",
    "            ax = axs[i_panel+1]\n",
    "            plot_signal(ax, array, i, colour='bg'[i_panel % 2])\n",
    "    ax.set_xlabel(\"time (%s)\" % array.times.units._dimensionality.string)\n",
    "    #plt.setp(plt.gca().get_xticklabels(), visible=True)\n",
    "    return fig, axs\n",
    "\n",
    "fig, axs = plot(exc_v, all_spikes)"
   ]
  },
  {
   "cell_type": "markdown",
   "metadata": {},
   "source": [
    "## Modifying connections\n",
    "\n",
    "http://neuralensemble.org/docs/PyNN/connections.html\n"
   ]
  },
  {
   "cell_type": "code",
   "execution_count": null,
   "metadata": {},
   "outputs": [],
   "source": [
    "for pop in ['exc', 'ext', 'inh']:\n",
    "    weights, delays = connections[pop].get(['weight', 'delay'], format='array')\n",
    "    print(weights.shape, delays.shape)"
   ]
  },
  {
   "cell_type": "code",
   "execution_count": null,
   "metadata": {},
   "outputs": [],
   "source": [
    "connections['exc']"
   ]
  },
  {
   "cell_type": "code",
   "execution_count": null,
   "metadata": {},
   "outputs": [],
   "source": [
    "connections"
   ]
  },
  {
   "cell_type": "code",
   "execution_count": null,
   "metadata": {},
   "outputs": [],
   "source": [
    "weights.shape"
   ]
  },
  {
   "cell_type": "code",
   "execution_count": null,
   "metadata": {},
   "outputs": [],
   "source": [
    "weights.sum(axis=0)"
   ]
  },
  {
   "cell_type": "code",
   "execution_count": null,
   "metadata": {},
   "outputs": [],
   "source": [
    "import numpy as np\n",
    "exists = ~np.isnan(weights)"
   ]
  },
  {
   "cell_type": "markdown",
   "metadata": {},
   "source": [
    "number of valid connections:"
   ]
  },
  {
   "cell_type": "code",
   "execution_count": null,
   "metadata": {},
   "outputs": [],
   "source": [
    "exists.sum(axis=0),exists.sum(axis=0).shape"
   ]
  },
  {
   "cell_type": "code",
   "execution_count": null,
   "metadata": {},
   "outputs": [],
   "source": [
    "weights[exists][:10], weights[exists].shape"
   ]
  },
  {
   "cell_type": "code",
   "execution_count": null,
   "metadata": {},
   "outputs": [],
   "source": [
    "weight_cp = weights.copy()\n",
    "weight_cp[np.isnan(weights)] = 0.\n",
    "weight_cp.sum(axis=0)"
   ]
  },
  {
   "cell_type": "code",
   "execution_count": null,
   "metadata": {},
   "outputs": [],
   "source": [
    "weights_norm = weights * weights[exists].mean() / weight_cp.sum(axis=0)"
   ]
  },
  {
   "cell_type": "code",
   "execution_count": null,
   "metadata": {},
   "outputs": [],
   "source": [
    "weight_cp = weights_norm.copy()\n",
    "weight_cp[np.isnan(weights_norm)] = 0.\n",
    "\n",
    "weight_cp.sum(axis=0)"
   ]
  },
  {
   "cell_type": "markdown",
   "metadata": {},
   "source": [
    "setting weights:"
   ]
  },
  {
   "cell_type": "code",
   "execution_count": null,
   "metadata": {},
   "outputs": [],
   "source": [
    "connections[pop].get?"
   ]
  },
  {
   "cell_type": "code",
   "execution_count": null,
   "metadata": {},
   "outputs": [],
   "source": [
    "connections[pop].get"
   ]
  },
  {
   "cell_type": "code",
   "execution_count": null,
   "metadata": {},
   "outputs": [],
   "source": [
    "connections[pop].get"
   ]
  },
  {
   "cell_type": "code",
   "execution_count": null,
   "metadata": {},
   "outputs": [],
   "source": [
    "c_inh = connections['inh']"
   ]
  },
  {
   "cell_type": "code",
   "execution_count": null,
   "metadata": {},
   "outputs": [],
   "source": [
    "c_inh.get('weight', format='array').shape"
   ]
  },
  {
   "cell_type": "code",
   "execution_count": null,
   "metadata": {},
   "outputs": [],
   "source": [
    "weight_cp.shape"
   ]
  },
  {
   "cell_type": "code",
   "execution_count": null,
   "metadata": {},
   "outputs": [],
   "source": [
    "c_inh.set(weight=weight_cp)"
   ]
  },
  {
   "cell_type": "code",
   "execution_count": null,
   "metadata": {},
   "outputs": [],
   "source": []
  },
  {
   "cell_type": "code",
   "execution_count": null,
   "metadata": {},
   "outputs": [],
   "source": []
  },
  {
   "cell_type": "markdown",
   "metadata": {},
   "source": [
    "## applying that strategy "
   ]
  },
  {
   "cell_type": "code",
   "execution_count": null,
   "metadata": {},
   "outputs": [],
   "source": [
    "node_id = sim.setup(timestep=dt, min_delay=delay, max_delay=1.0, **extra)\n",
    "num_process = sim.num_processes()\n",
    "\n",
    "print(\"%s Creating cell populations...\" % node_id)\n",
    "\n",
    "# create a single population of neurons, and then use population views to define\n",
    "# excitatory and inhibitory sub-populations\n",
    "all_cells = sim.Population(n_exc + n_inh, celltype(**cell_params), label=\"All Cells\")\n",
    "exc_cells = all_cells[:n_exc]\n",
    "exc_cells.label = \"Excitatory cells\"\n",
    "inh_cells = all_cells[n_exc:]\n",
    "inh_cells.label = \"Inhibitory cells\"\n",
    "\n",
    "ext_stim = sim.Population(20, sim.SpikeSourcePoisson(rate=rate, duration=stim_dur), label=\"expoisson\")\n",
    "rconn = 0.01\n",
    "ext_conn = sim.FixedProbabilityConnector(rconn)\n",
    "ext_syn = sim.StaticSynapse(weight=0.1)\n",
    "\n",
    "print(\"%s Initialising membrane potential to random values...\" % node_id)\n",
    "rng = NumpyRNG(seed=rngseed, parallel_safe=parallel_safe)\n",
    "uniformDistr = RandomDistribution('uniform', low=v_reset, high=v_thresh, rng=rng)\n",
    "all_cells.initialize(v=uniformDistr)\n",
    "\n",
    "print(\"%s Connecting populations...\" % node_id)\n",
    "progress_bar = ProgressBar(width=100)\n",
    "connector = sim.FixedProbabilityConnector(pconn, rng=rng, callback=progress_bar)\n",
    "exc_syn = sim.StaticSynapse(weight=w_exc, delay=delay)\n",
    "inh_syn = sim.StaticSynapse(weight=w_inh, delay=delay)\n",
    "\n",
    "connections = {}\n",
    "connections['exc'] = sim.Projection(exc_cells, all_cells, connector, exc_syn, receptor_type='excitatory')\n",
    "connections['inh'] = sim.Projection(inh_cells, all_cells, connector, inh_syn, receptor_type='inhibitory')\n",
    "connections['ext'] = sim.Projection(ext_stim, all_cells, ext_conn, ext_syn, receptor_type='excitatory')\n",
    "\n",
    "# normalizing weights\n",
    "for pop in ['exc', 'inh']: # , 'ext'\n",
    "    # weights, delays = connections[pop].get(['weight', 'delay'], format='array')\n",
    "    weight = connections[pop].get('weight', format='array')\n",
    "    print(pop, weight.shape)\n",
    "    weight_cp = weight.copy()\n",
    "    weight_cp[np.isnan(weight)] = 0.\n",
    "    weight_norm = weight_cp * (weight[~np.isnan(weight)].mean()) / weight_cp.mean(axis=0)\n",
    "    print(pop, weight_norm.shape)\n",
    "    connections[pop].set(weight=weight_norm)\n",
    "    \n",
    "# === Setup recording ==========================================================\n",
    "print(\"%s Setting up recording...\" % node_id)\n",
    "all_cells.record('spikes')\n",
    "exc_cells[:n_record].record(['v', 'gsyn_exc', 'gsyn_inh'])\n",
    "\n",
    "# === Run simulation ===========================================================\n",
    "print(\"%d Running simulation...\" % node_id)\n",
    "sim.run(tstop)\n",
    "\n",
    "E_count = exc_cells.mean_spike_count()\n",
    "I_count = inh_cells.mean_spike_count()\n",
    "\n",
    "n_connections = \"%d e→e,i  %d i→e,i\" % (connections['exc'].size(),\n",
    "                                      connections['inh'].size())\n",
    "\n",
    "print(\"\\n--- Vogels-Abbott Network Simulation ---\")\n",
    "print(\"Number of Neurons      : %d\" % n)\n",
    "print(\"Number of Synapses     : %s\" % n_connections)\n",
    "print(\"Excitatory conductance : %g nS\" % Gexc)\n",
    "print(\"Inhibitory conductance : %g nS\" % Ginh)\n",
    "print(\"Excitatory rate        : %g Hz\" % (E_count * 1000.0 / tstop,))\n",
    "print(\"Inhibitory rate        : %g Hz\" % (I_count * 1000.0 / tstop,))\n",
    "\n",
    "# === Finished with simulator ==================================================\n",
    "\n",
    "sim.end()"
   ]
  },
  {
   "cell_type": "code",
   "execution_count": null,
   "metadata": {},
   "outputs": [],
   "source": [
    "all_spikes = all_cells.get_data()\n",
    "exc_v = exc_cells.get_data()\n",
    "\n",
    "fig, axs = plot(exc_v, all_spikes)"
   ]
  },
  {
   "cell_type": "code",
   "execution_count": null,
   "metadata": {},
   "outputs": [],
   "source": []
  }
 ],
 "metadata": {
  "kernelspec": {
   "display_name": "Python 3",
   "language": "python",
   "name": "python3"
  },
  "language_info": {
   "codemirror_mode": {
    "name": "ipython",
    "version": 3
   },
   "file_extension": ".py",
   "mimetype": "text/x-python",
   "name": "python",
   "nbconvert_exporter": "python",
   "pygments_lexer": "ipython3",
   "version": "3.6.9"
  },
  "toc": {
   "base_numbering": 1,
   "nav_menu": {},
   "number_sections": true,
   "sideBar": true,
   "skip_h1_title": false,
   "title_cell": "Table of Contents",
   "title_sidebar": "Contents",
   "toc_cell": false,
   "toc_position": {},
   "toc_section_display": true,
   "toc_window_display": false
  }
 },
 "nbformat": 4,
 "nbformat_minor": 4
}
