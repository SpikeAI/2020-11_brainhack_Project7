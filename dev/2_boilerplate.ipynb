{
 "cells": [
  {
   "cell_type": "markdown",
   "metadata": {},
   "source": [
    "# balanced network\n",
    "\n",
    "Let's start with a rather complete example modified from \n",
    "\n",
    "http://neuralensemble.org/docs/PyNN/examples/VAbenchmarks.html\n"
   ]
  },
  {
   "cell_type": "code",
   "execution_count": 1,
   "metadata": {},
   "outputs": [
    {
     "name": "stdout",
     "output_type": "stream",
     "text": [
      "CSAConnector: libneurosim support not available in NEST.\n",
      "Falling back on PyNN's default CSAConnector.\n",
      "Please re-compile NEST using --with-libneurosim=PATH\n"
     ]
    },
    {
     "name": "stderr",
     "output_type": "stream",
     "text": [
      "/home/laurent/.local/lib/python3.8/site-packages/pyNN/nest/__init__.py:53: UserWarning:Unable to install NEST extensions. Certain models may not be available.\n"
     ]
    }
   ],
   "source": [
    "try:\n",
    "    import pyNN.spiNNaker as sim\n",
    "    simulator = 'spinnaker'\n",
    "except ModuleNotFoundError:\n",
    "    import pyNN.nest as sim\n",
    "    simulator = 'nest'"
   ]
  },
  {
   "cell_type": "markdown",
   "metadata": {},
   "source": [
    "\n",
    "## initialization"
   ]
  },
  {
   "cell_type": "code",
   "execution_count": 2,
   "metadata": {},
   "outputs": [],
   "source": [
    "\n",
    "# === Define parameters ========================================================\n",
    "\n",
    "threads  = 1\n",
    "rngseed  = 98765\n",
    "parallel_safe = True\n",
    "\n",
    "n        = 4000  # number of cells\n",
    "r_ei     = 4.0   # number of excitatory cells:number of inhibitory cells\n",
    "pconn    = 0.01  # connection probability\n",
    "stim_dur = 50.   # (ms) duration of random stimulation\n",
    "rate     = 10.  # (Hz) frequency of the random stimulation\n",
    "\n",
    "dt       = 0.1   # (ms) simulation timestep\n",
    "tstop    = 1000  # (ms) simulaton duration\n",
    "delay    = 0.2\n",
    "n_record = 40\n",
    "# Cell parameters\n",
    "area     = 20000. # (µm²)\n",
    "tau_m    = 20.    # (ms)\n",
    "cm       = 1.     # (µF/cm²)\n",
    "g_leak   = 5e-5   # (S/cm²)\n",
    "E_leak   = -60.  # (mV)\n",
    "v_thresh = -50.   # (mV)\n",
    "v_reset  = -60.   # (mV)\n",
    "t_refrac = 5.     # (ms) (clamped at v_reset)\n",
    "v_mean   = -60.   # (mV) 'mean' membrane potential, for calculating CUBA weights\n",
    "tau_exc  = 5.     # (ms)\n",
    "tau_inh  = 10.    # (ms)\n",
    "\n",
    "# Synapse parameters\n",
    "Gexc = 4.     # (nS)\n",
    "Ginh = 51.    # (nS)\n",
    "Erev_exc = 0.     # (mV)\n",
    "Erev_inh = -80.   # (mV)\n",
    "\n",
    "### what is the synaptic delay???\n",
    "\n",
    "# === Calculate derived parameters =============================================\n",
    "\n",
    "area  = area*1e-8                     # convert to cm²\n",
    "cm    = cm*area*1000                  # convert to nF\n",
    "Rm    = 1e-6/(g_leak*area)            # membrane resistance in MΩ\n",
    "assert tau_m == cm*Rm                 # just to check\n",
    "n_exc = int(round((n*r_ei/(1+r_ei)))) # number of excitatory cells\n",
    "n_inh = n - n_exc                     # number of inhibitory cells\n",
    "w_exc    = Gexc*1e-3              # We convert conductances to uS\n",
    "w_inh    = Ginh*1e-3\n",
    "\n",
    "# === Build the network ========================================================\n",
    "extra = {'threads' : threads,\n",
    "         'filename': \"va.xml\",\n",
    "         'label': 'VA'}\n",
    "\n",
    "cell_params = {\n",
    "    'tau_m'      : tau_m,    'tau_syn_E'  : tau_exc,  'tau_syn_I'  : tau_inh,\n",
    "    'v_rest'     : E_leak,   'v_reset'    : v_reset,  'v_thresh'   : v_thresh,\n",
    "    'cm'         : cm,       'tau_refrac' : t_refrac}\n",
    "\n",
    "cell_params['e_rev_E'] = Erev_exc\n",
    "cell_params['e_rev_I'] = Erev_inh\n"
   ]
  },
  {
   "cell_type": "code",
   "execution_count": 3,
   "metadata": {},
   "outputs": [
    {
     "name": "stdout",
     "output_type": "stream",
     "text": [
      "Python implementation: CPython\n",
      "Python version       : 3.8.5\n",
      "IPython version      : 7.18.1\n",
      "\n",
      "numpy     : 1.19.2\n",
      "matplotlib: 3.3.2\n",
      "pyNN      : 0.9.5\n",
      "neo       : 0.8.0\n",
      "\n",
      "Compiler    : GCC 9.3.0\n",
      "OS          : Linux\n",
      "Release     : 5.4.0-53-generic\n",
      "Machine     : x86_64\n",
      "Processor   : x86_64\n",
      "CPU cores   : 4\n",
      "Architecture: 64bit\n",
      "\n",
      "Hostname: inv-ope-de06\n",
      "\n",
      "Git hash: 6ae442d6e5aefed07811da70356fd7373c626aaf\n",
      "\n",
      "Git repo: https://github.com/SpikeAI/2020-11_brainhack_Project7\n",
      "\n",
      "Git branch: main\n",
      "\n"
     ]
    }
   ],
   "source": [
    "%load_ext watermark\n",
    "%watermark -i -h -m -v -p numpy,matplotlib,pyNN,neo  -r -g -b"
   ]
  },
  {
   "cell_type": "code",
   "execution_count": null,
   "metadata": {},
   "outputs": [],
   "source": []
  }
 ],
 "metadata": {
  "kernelspec": {
   "display_name": "Python 3",
   "language": "python",
   "name": "python3"
  },
  "language_info": {
   "codemirror_mode": {
    "name": "ipython",
    "version": 3
   },
   "file_extension": ".py",
   "mimetype": "text/x-python",
   "name": "python",
   "nbconvert_exporter": "python",
   "pygments_lexer": "ipython3",
   "version": "3.8.5"
  },
  "toc": {
   "base_numbering": 1,
   "nav_menu": {},
   "number_sections": true,
   "sideBar": true,
   "skip_h1_title": false,
   "title_cell": "Table of Contents",
   "title_sidebar": "Contents",
   "toc_cell": false,
   "toc_position": {},
   "toc_section_display": true,
   "toc_window_display": false
  }
 },
 "nbformat": 4,
 "nbformat_minor": 4
}
