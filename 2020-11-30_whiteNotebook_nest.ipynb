{
 "cells": [
  {
   "cell_type": "code",
   "execution_count": null,
   "metadata": {},
   "outputs": [],
   "source": [
    "from IPython.display import HTML\n",
    "\n",
    "HTML('''<script>\n",
    "code_show=true; \n",
    "function code_toggle() {\n",
    " if (code_show){\n",
    " $('div.input').hide();\n",
    " } else {\n",
    " $('div.input').show();\n",
    " }\n",
    " code_show = !code_show\n",
    "} \n",
    "$( document ).ready(code_toggle);\n",
    "</script>\n",
    "<form action=\"javascript:code_toggle()\"><input type=\"submit\" value=\"Click here to toggle on/off the raw code.\">\n",
    "</form>''')"
   ]
  },
  {
   "cell_type": "markdown",
   "metadata": {},
   "source": [
    "<H1> Modulation of activity by travelling waves in V1 topographical model</H1>\n",
    "\n",
    "<br>\n",
    "<p>The principal tasks are:\n",
    "    <ul>\n",
    "    <li> <b>translate</b> in a spiking neuronal network (SNNs) model the phenomenological model of V1 topographic map presented in\n",
    "        <a href=\"https://www.biorxiv.org/content/10.1101/2020.03.26.010017v2\"> Benvenuti et al 2020</a>\n",
    "    <li> <b>reproduce</b> the anticipation effect </p>\n",
    "    </ul>\n"
   ]
  },
  {
   "cell_type": "markdown",
   "metadata": {},
   "source": [
    "## introduction and motivations"
   ]
  },
  {
   "cell_type": "markdown",
   "metadata": {},
   "source": [
    "### neural anticipation "
   ]
  },
  {
   "cell_type": "markdown",
   "metadata": {},
   "source": [
    "<img src='extras/anticipation.png' alt='2DBump' width='700' height='600'>"
   ]
  },
  {
   "cell_type": "markdown",
   "metadata": {},
   "source": [
    "### the phenomenological model (Benvenuti et al 2020):\n"
   ]
  },
  {
   "cell_type": "markdown",
   "metadata": {},
   "source": [
    "<img src='extras/benvenuti_model.png' alt='2DBump' width='700' height='600'>"
   ]
  },
  {
   "cell_type": "markdown",
   "metadata": {},
   "source": [
    "### the bump attractor network model"
   ]
  },
  {
   "cell_type": "code",
   "execution_count": 1,
   "metadata": {},
   "outputs": [
    {
     "data": {
      "text/html": [
       "\n",
       "        <iframe\n",
       "            width=\"1000\"\n",
       "            height=\"500\"\n",
       "            src=\"extras/diagram-20201123.png\"\n",
       "            frameborder=\"0\"\n",
       "            allowfullscreen\n",
       "        ></iframe>\n",
       "        "
      ],
      "text/plain": [
       "<IPython.lib.display.IFrame at 0x7efd60d9c450>"
      ]
     },
     "execution_count": 1,
     "metadata": {},
     "output_type": "execute_result"
    }
   ],
   "source": [
    "from IPython.display import IFrame\n",
    "IFrame('extras/diagram-20201123.png', width=1000, height=500)"
   ]
  },
  {
   "cell_type": "markdown",
   "metadata": {},
   "source": [
    "### the neuronal model"
   ]
  },
  {
   "cell_type": "markdown",
   "metadata": {},
   "source": [
    "<p>Leaky integrate and fire model with fixed threshold and exponentially-decaying post-sinaptic conductance</p>\n",
    "<p> <a href=\"https://neuralensemble.org/PyNN/\"> https://neuralensemble.org/PyNN/ </a>\n",
    "<p> <a href=\"https://www.nest-simulator.org/\"> https://www.nest-simulator.org/ </a>\n",
    "<p> <a href=\"http://spinnakermanchester.github.io/\"> http://spinnakermanchester.github.io/ </a>"
   ]
  },
  {
   "cell_type": "code",
   "execution_count": 2,
   "metadata": {},
   "outputs": [
    {
     "data": {
      "text/latex": [
       "$\\displaystyle \\frac{dV_M}{dt} =  \\frac{( -I_{Leak} - I^{syn}_{Ex} - I^{syn}_{In} + I_{Ext} )}{C_M}$"
      ],
      "text/plain": [
       "<IPython.core.display.Math object>"
      ]
     },
     "metadata": {},
     "output_type": "display_data"
    },
    {
     "data": {
      "text/latex": [
       "$\\displaystyle I^{syn}_{Exc} = G_{Ex} \\times ( V_M - E^{rev}_{Ex} )$"
      ],
      "text/plain": [
       "<IPython.core.display.Math object>"
      ]
     },
     "metadata": {},
     "output_type": "display_data"
    },
    {
     "data": {
      "text/latex": [
       "$\\displaystyle I^{syn}_{Inh} = G_{In} \\times ( V_M - E^{rev}_{In} )$"
      ],
      "text/plain": [
       "<IPython.core.display.Math object>"
      ]
     },
     "metadata": {},
     "output_type": "display_data"
    },
    {
     "data": {
      "text/latex": [
       "$\\displaystyle I_{Leak} = \\frac { C_M \\times (V_M - V_{rest})}{\\tau_M}$"
      ],
      "text/plain": [
       "<IPython.core.display.Math object>"
      ]
     },
     "metadata": {},
     "output_type": "display_data"
    },
    {
     "data": {
      "text/latex": [
       "$\\displaystyle G_{Ex}(t) = k_{Ex} \\times t \\times e^{-\\frac{t}{\\tau^{syn}_{Ex}}}$"
      ],
      "text/plain": [
       "<IPython.core.display.Math object>"
      ]
     },
     "metadata": {},
     "output_type": "display_data"
    },
    {
     "data": {
      "text/latex": [
       "$\\displaystyle G_{In}(t) = k_{In} \\times t \\times e^{-\\frac{t}{\\tau^{syn}_{In}}}$"
      ],
      "text/plain": [
       "<IPython.core.display.Math object>"
      ]
     },
     "metadata": {},
     "output_type": "display_data"
    }
   ],
   "source": [
    "from IPython.display import display, Math, Latex\n",
    "display(Math(r'\\frac{dV_M}{dt} =  \\frac{( -I_{Leak} - I^{syn}_{Ex} - I^{syn}_{In} + I_{Ext} )}{C_M}'))\n",
    "display(Math(r'I^{syn}_{Exc} = G_{Ex} \\times ( V_M - E^{rev}_{Ex} )'))\n",
    "display(Math(r'I^{syn}_{Inh} = G_{In} \\times ( V_M - E^{rev}_{In} )'))\n",
    "display(Math(r'I_{Leak} = \\frac { C_M \\times (V_M - V_{rest})}{\\tau_M}'))\n",
    "display(Math(r'G_{Ex}(t) = k_{Ex} \\times t \\times e^{-\\frac{t}{\\tau^{syn}_{Ex}}}'))\n",
    "display(Math(r'G_{In}(t) = k_{In} \\times t \\times e^{-\\frac{t}{\\tau^{syn}_{In}}}'))"
   ]
  },
  {
   "cell_type": "markdown",
   "metadata": {},
   "source": [
    "## simulation configurations and results"
   ]
  },
  {
   "cell_type": "code",
   "execution_count": null,
   "metadata": {},
   "outputs": [],
   "source": [
    "import numpy as np\n",
    "import VisionSNN\n",
    "\n",
    "# loading args\n",
    "args = VisionSNN.init()\n",
    "args.simulator = \"pyNN.nest\" # https://spinn-20.cs.man.ac.uk/\n",
    "args.N_pop = 900 # numbers of neurons for each layer (LGN, EXC, INH)\n",
    "\n",
    "# simulations pars\n",
    "args.dt = 1 # ms\n",
    "args.min_delay = 1 # ms\n",
    "args.max_delay = 100 # ms\n",
    "args.simtime = 1000 # ms # timebin = simtime / dt\n",
    "\n",
    "# stimulus\n",
    "args.im_noise = 0.025 # 2.5 %\n",
    "args.im_contrast = 0.15 # 15 %  \n",
    "\n",
    "# network pars\n",
    "args.E_expPar = 1.2 # horizontal projection exponential parameter for E layer\n",
    "args.I_expPar = 1.15 # horizontal projection exponential parameter for I layer\n",
    "\n",
    "args.E_weight = 0.06 # [uS] from E to E (distance based delay)\n",
    "args.Eone_weight =  0.40 # [uS] from E to I (with 30ms of delay)\n",
    "args.I_weight = 2.5 # [uS] from I to I (distance based delay)\n",
    "args.Ione_weight = 9.0  # [uS] from I to E (with 30ms of delay)\n",
    "\n",
    "args.waveVelocity = 0.35 # [mm/ms] in Muller 2014 is 0.35 m/s http://www.int.univ-amu.fr/IMG/pdf/Muller_Nature_Communications2014.pdf\n",
    "args.scalePar = 1.0 # distance scale par \n",
    "\n",
    "args.E_v_tresh = -50.0 # [mv] excitatory neuron voltage treshold\n",
    "args.I_v_tresh = -50.0 # [mv] inhibitry neuron voltage treshold\n",
    "\n",
    "# tag and bump class call\n",
    "args.tag = '2020-XX-XX_whiteNotebook' + '_noise=' + str(args.im_noise) + '_im_contrast=' + str(args.im_contrast) + '_Ivt=' + str(args.I_v_tresh) + '_Evt=' + str(args.E_v_tresh)+ \"_EexpPar=\" + str(args.E_expPar) + \"_IexpPar=\" + str(args.I_expPar) + \"_Eweight=\" + str(args.E_weight)+ \"_Iweight=\" + str(args.I_weight) + \"_Eoneweight=\" + str(args.Eone_weight)+ \"_Ioneweight=\" + str(args.Ione_weight)\n",
    "bump = VisionSNN.Bump2D(args)\n",
    "\n",
    "# runs simulations / load simulutions\n",
    "results = bump.run()"
   ]
  },
  {
   "cell_type": "code",
   "execution_count": null,
   "metadata": {},
   "outputs": [],
   "source": [
    "# runs simulations / load simulutions\n",
    "results = bump.run()\n",
    "\n",
    "# post processing class call\n",
    "p = VisionSNN.PlotSNN(args, results)"
   ]
  },
  {
   "cell_type": "markdown",
   "metadata": {},
   "source": [
    "### average firing rate for the different sub-layers of the model"
   ]
  },
  {
   "cell_type": "code",
   "execution_count": null,
   "metadata": {},
   "outputs": [],
   "source": [
    "startingTime = 0 # ms\n",
    "endingTime = 1000 # ms\n",
    "windowStep = 200 # ms \n",
    "p.plot_figure1(startingTime, endingTime, windowStep, showArg='True', figsize=(14,12))  \n"
   ]
  },
  {
   "cell_type": "markdown",
   "metadata": {},
   "source": [
    "### differential activity in the different sub-layers for three positions along the dot’s trajectory"
   ]
  },
  {
   "cell_type": "code",
   "execution_count": null,
   "metadata": {
    "scrolled": true
   },
   "outputs": [],
   "source": [
    "n1=428 #(14, 8)\n",
    "n2=434 #(14, 14)\n",
    "n3=440 #(14, 20)\n",
    "print(n1%30, n2%30, n3%30)\n",
    "print(n1//30, n2//30, n3//30)\n",
    "p.plot_figure2(n1, n2, n3, showArg='True', figsize=(13,5)) "
   ]
  },
  {
   "cell_type": "markdown",
   "metadata": {},
   "source": [
    "## next steps "
   ]
  },
  {
   "cell_type": "markdown",
   "metadata": {},
   "source": [
    "## other plots"
   ]
  },
  {
   "cell_type": "markdown",
   "metadata": {},
   "source": [
    "### conductances "
   ]
  },
  {
   "cell_type": "code",
   "execution_count": null,
   "metadata": {},
   "outputs": [],
   "source": [
    "p.plot_conductances(showArg='True') # it makes three figures"
   ]
  },
  {
   "cell_type": "markdown",
   "metadata": {},
   "source": [
    "### voltages"
   ]
  },
  {
   "cell_type": "code",
   "execution_count": null,
   "metadata": {},
   "outputs": [],
   "source": [
    "p.plot_voltage(showArg='False', fname='voltage.png', figsize=(12, 12)) "
   ]
  },
  {
   "cell_type": "code",
   "execution_count": null,
   "metadata": {},
   "outputs": [],
   "source": [
    "## see in postprocessing class other plots"
   ]
  },
  {
   "cell_type": "code",
   "execution_count": null,
   "metadata": {},
   "outputs": [],
   "source": []
  }
 ],
 "metadata": {
  "kernelspec": {
   "display_name": "Python 3",
   "language": "python",
   "name": "python3"
  },
  "language_info": {
   "codemirror_mode": {
    "name": "ipython",
    "version": 3
   },
   "file_extension": ".py",
   "mimetype": "text/x-python",
   "name": "python",
   "nbconvert_exporter": "python",
   "pygments_lexer": "ipython3",
   "version": "3.7.6"
  },
  "toc": {
   "base_numbering": 1,
   "nav_menu": {},
   "number_sections": true,
   "sideBar": true,
   "skip_h1_title": false,
   "title_cell": "Table of Contents",
   "title_sidebar": "Contents",
   "toc_cell": false,
   "toc_position": {
    "height": "calc(100% - 180px)",
    "left": "10px",
    "top": "150px",
    "width": "302.5px"
   },
   "toc_section_display": true,
   "toc_window_display": true
  }
 },
 "nbformat": 4,
 "nbformat_minor": 4
}
