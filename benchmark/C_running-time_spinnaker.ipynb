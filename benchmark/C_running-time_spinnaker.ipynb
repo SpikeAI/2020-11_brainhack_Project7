{
 "cells": [
  {
   "cell_type": "code",
   "execution_count": null,
   "metadata": {},
   "outputs": [],
   "source": [
    "%load_ext autoreload\n",
    "%autoreload 2\n",
    "%run A_simple_net.ipynb"
   ]
  },
  {
   "cell_type": "code",
   "execution_count": null,
   "metadata": {},
   "outputs": [],
   "source": [
    "%mkdir -p outputs"
   ]
  },
  {
   "cell_type": "code",
   "execution_count": null,
   "metadata": {},
   "outputs": [],
   "source": [
    "%mkdir -p Results/20201204/"
   ]
  },
  {
   "cell_type": "markdown",
   "metadata": {},
   "source": [
    "# scanning over single parameters"
   ]
  },
  {
   "cell_type": "markdown",
   "metadata": {},
   "source": [
    "## initializing parameters"
   ]
  },
  {
   "cell_type": "code",
   "execution_count": null,
   "metadata": {},
   "outputs": [],
   "source": [
    "tag = '2020-12-04_scan_' + simulator"
   ]
  },
  {
   "cell_type": "code",
   "execution_count": null,
   "metadata": {},
   "outputs": [],
   "source": [
    "buildCPUTime, simCPUTime, writeCPUTime = run(verbose=True)"
   ]
  },
  {
   "cell_type": "markdown",
   "metadata": {},
   "source": [
    "## Running Model and Loading Results"
   ]
  },
  {
   "cell_type": "code",
   "execution_count": null,
   "metadata": {},
   "outputs": [],
   "source": [
    "import os\n",
    "import pandas as pd\n",
    "verbose = True\n",
    "def scan(variable, values, tag=tag, verbose=verbose):\n",
    "    filename = 'outputs/{tag}_{variable}.json'.format(tag=tag, variable=variable)\n",
    "    try:\n",
    "        df = pd.read_json(filename)\n",
    "        print('Loaded file')\n",
    "    except:\n",
    "        df = pd.DataFrame([], columns=[variable, 'buildCPUTime', 'simCPUTime', 'writeCPUTime'])\n",
    "        for i, value in enumerate(values):\n",
    "            if verbose: print('{variable=}---{value=}'.format(value=value, variable=variable))\n",
    "            args = {}\n",
    "            args[variable] = value\n",
    "            buildCPUTime, simCPUTime, writeCPUTime = run(**args)\n",
    "            df.loc[i]= {variable: value, 'buildCPUTime':buildCPUTime, 'simCPUTime':simCPUTime, 'writeCPUTime':writeCPUTime}\n",
    "        df.to_json(filename)\n",
    "    return df"
   ]
  },
  {
   "cell_type": "code",
   "execution_count": null,
   "metadata": {},
   "outputs": [],
   "source": [
    "import matplotlib.pyplot as plt\n",
    "\n",
    "# https://stackoverflow.com/questions/31978948/python-stats-models-quadratic-term-in-regression\n",
    "def plot(df, do_intercept=False):\n",
    "    variable = df.columns[0]\n",
    "    fig, ax = plt.subplots(figsize=(8,8))\n",
    "    \n",
    "    for regressor, color in zip(['buildCPUTime', 'simCPUTime', 'writeCPUTime'],\n",
    "                                ['r', 'g', 'b']):\n",
    "\n",
    "        import patsy\n",
    "        if do_intercept:\n",
    "            y, X = patsy.dmatrices('{regressor} ~ {variable}'.format(regressor=regressor, variable=variable), data=df, return_type='dataframe')\n",
    "        else:\n",
    "            y, X = patsy.dmatrices('{regressor} ~ 0 + {variable}'.format(regressor=regressor, variable=variable), data=df, return_type='dataframe')\n",
    "\n",
    "        import statsmodels.api as sm\n",
    "        fit = sm.OLS(y, X).fit()\n",
    "        print(fit.summary())\n",
    "\n",
    "        if do_intercept: intercept = fit.params.Intercept\n",
    "        slope = fit.params[variable]\n",
    "\n",
    "        values = np.array(df[variable])\n",
    "        if do_intercept:\n",
    "            ax.plot(values, intercept + slope*values, c=color, lw=2, label=f\"{regressor}={slope:.3f}*{variable} + {intercept:.3f}\")\n",
    "        else:\n",
    "            ax.plot(values, slope*values, c=color, lw=2, label=f\"{regressor}={slope:.3f}*{variable}\")\n",
    "        df.plot(x=variable, y=regressor, c=color, lw=1, ls='-.', ax=ax, legend=False)\n",
    "\n",
    "    ax.set_xlim(0)\n",
    "    ax.set_ylabel('Time (ms)')\n",
    "    ax.set_ylim(0)\n",
    "    ax.legend()\n",
    "    return fig, ax"
   ]
  },
  {
   "cell_type": "markdown",
   "metadata": {},
   "source": [
    "## plot as a function of neuron numbers"
   ]
  },
  {
   "cell_type": "code",
   "execution_count": null,
   "metadata": {},
   "outputs": [],
   "source": [
    "import numpy as np\n",
    "N_pops = np.array([int(k)**2 for k in np.linspace(8**2, 45**2, 14, endpoint=True)**.5])\n",
    "N_pops"
   ]
  },
  {
   "cell_type": "code",
   "execution_count": null,
   "metadata": {},
   "outputs": [],
   "source": [
    "results_pop = scan('N_pop', N_pops)"
   ]
  },
  {
   "cell_type": "code",
   "execution_count": null,
   "metadata": {},
   "outputs": [],
   "source": [
    "fig, ax = plot(results_pop)"
   ]
  },
  {
   "cell_type": "code",
   "execution_count": null,
   "metadata": {},
   "outputs": [],
   "source": [
    "fig.savefig(tag + '_N_pop.png')"
   ]
  },
  {
   "cell_type": "markdown",
   "metadata": {},
   "source": [
    "## plot as a function of simtime"
   ]
  },
  {
   "cell_type": "code",
   "execution_count": null,
   "metadata": {},
   "outputs": [],
   "source": [
    "simtimes = np.linspace(500, 3000, 15, endpoint=True)\n",
    "simtimes"
   ]
  },
  {
   "cell_type": "code",
   "execution_count": null,
   "metadata": {},
   "outputs": [],
   "source": [
    "results_simtime = scan('simtime', simtimes)"
   ]
  },
  {
   "cell_type": "code",
   "execution_count": null,
   "metadata": {},
   "outputs": [],
   "source": [
    "fig, ax = plot(results_simtime, do_intercept=True)      "
   ]
  },
  {
   "cell_type": "code",
   "execution_count": null,
   "metadata": {},
   "outputs": [],
   "source": [
    "fig.savefig(tag + '_simtime.png')"
   ]
  },
  {
   "cell_type": "markdown",
   "metadata": {},
   "source": [
    "# scanning over two parameters"
   ]
  },
  {
   "cell_type": "markdown",
   "metadata": {},
   "source": [
    "## Setting-up model and initializing parameters"
   ]
  },
  {
   "cell_type": "code",
   "execution_count": null,
   "metadata": {},
   "outputs": [],
   "source": [
    "tag = '2020-12-04_scan-2D_' + simulator"
   ]
  },
  {
   "cell_type": "markdown",
   "metadata": {},
   "source": [
    "## Running Model and Loading Results"
   ]
  },
  {
   "cell_type": "code",
   "execution_count": null,
   "metadata": {},
   "outputs": [],
   "source": [
    "variables = ['N_pop', 'simtime']\n",
    "filename = 'outputs/' + tag\n",
    "for variable in variables: filename +=  '_' + variable\n",
    "filename += '.json'"
   ]
  },
  {
   "cell_type": "code",
   "execution_count": null,
   "metadata": {},
   "outputs": [],
   "source": [
    "import os\n",
    "import time\n",
    "import pandas as pd\n",
    "verbose = True\n",
    "def scan(variables, values, tag=tag, verbose=verbose):\n",
    "    filename = 'outputs/' + tag\n",
    "    for variable in variables: filename +=  '_' + variable\n",
    "    filename += '.json'\n",
    "    try:\n",
    "        df = pd.read_json(filename)\n",
    "        print('Loaded file')\n",
    "    except:\n",
    "        df = pd.DataFrame([], columns=variables + ['buildCPUTime', 'simCPUTime', 'writeCPUTime'])\n",
    "        for i, values_ in enumerate(values):\n",
    "            if verbose: print('{variable}---{values_}'.format(values_=values_, variable=variable))\n",
    "            args = {}\n",
    "            for variable, value in zip(variables, values_):\n",
    "                args[variable] = value\n",
    "            buildCPUTime, simCPUTime, writeCPUTime = run(**args)\n",
    "            df.loc[i]= dict(zip(variables + ['buildCPUTime', 'simCPUTime', 'writeCPUTime'], \n",
    "                                list(values_) + [buildCPUTime, simCPUTime, writeCPUTime]))\n",
    "\n",
    "        df.to_json(filename)\n",
    "        \n",
    "    return df"
   ]
  },
  {
   "cell_type": "markdown",
   "metadata": {},
   "source": [
    "## Running time as a function of neuron numbers and simtime"
   ]
  },
  {
   "cell_type": "code",
   "execution_count": null,
   "metadata": {},
   "outputs": [],
   "source": [
    "import numpy as np"
   ]
  },
  {
   "cell_type": "code",
   "execution_count": null,
   "metadata": {},
   "outputs": [],
   "source": [
    "N_trials = 200\n",
    "N_pops = [int(k)**2 for k in np.linspace(15, 60, N_trials, endpoint=True)]\n",
    "simtimes = np.linspace(200, 3000, N_trials, endpoint=True)"
   ]
  },
  {
   "cell_type": "code",
   "execution_count": null,
   "metadata": {},
   "outputs": [],
   "source": [
    "np.random.seed(42)\n",
    "np.random.shuffle(N_pops)\n",
    "np.random.shuffle(simtimes)\n",
    "values = zip(N_pops, simtimes)"
   ]
  },
  {
   "cell_type": "code",
   "execution_count": null,
   "metadata": {},
   "outputs": [],
   "source": [
    "results = scan(variables=variables, values=values)\n",
    "results"
   ]
  },
  {
   "cell_type": "markdown",
   "metadata": {},
   "source": [
    "## analysis"
   ]
  },
  {
   "cell_type": "code",
   "execution_count": null,
   "metadata": {},
   "outputs": [],
   "source": [
    "results_ext = results.copy()\n",
    "results_ext['simtime_N_pop'] = results_ext['simtime'] * results_ext['N_pop']\n",
    "results_ext"
   ]
  },
  {
   "cell_type": "code",
   "execution_count": null,
   "metadata": {},
   "outputs": [],
   "source": [
    "variables_ext = ['N_pop', 'simtime_N_pop']\n",
    "X = results_ext[variables_ext].values.reshape(-1, len(variables_ext))\n"
   ]
  },
  {
   "cell_type": "markdown",
   "metadata": {},
   "source": [
    "https://aegis4048.github.io/mutiple_linear_regression_and_visualization_in_python"
   ]
  },
  {
   "cell_type": "markdown",
   "metadata": {},
   "source": [
    "See https://patsy.readthedocs.io/en/latest/quickstart.html"
   ]
  },
  {
   "cell_type": "code",
   "execution_count": null,
   "metadata": {},
   "outputs": [],
   "source": [
    "import patsy\n",
    "import statsmodels.api as sm\n",
    "\n",
    "for regressor in ['buildCPUTime', 'simCPUTime', 'writeCPUTime']:\n",
    "    y = results_ext[regressor].values\n",
    "    #print(variables_ext, X.shape, y.shape)\n",
    "    y, X = patsy.dmatrices('{regressor} ~ 0 + N_pop + simtime_N_pop'.format(regressor=regressor), data=results_ext, return_type='dataframe')\n",
    "\n",
    "    fit = sm.OLS(y, X).fit()\n",
    "    fit.summary()\n",
    "\n",
    "    print('{regressor} (ms) = {fit0:.3f} * N_pop + {fit1:.3f}/1000 * simtime (ms) * N_pop'.format(regressor=regressor, fit0=fit.params[0], fit1=fit.params[1]*1000))"
   ]
  }
 ],
 "metadata": {
  "anaconda-cloud": {},
  "kernelspec": {
   "display_name": "Python 3",
   "language": "python",
   "name": "python3"
  },
  "language_info": {
   "codemirror_mode": {
    "name": "ipython",
    "version": 3
   },
   "file_extension": ".py",
   "mimetype": "text/x-python",
   "name": "python",
   "nbconvert_exporter": "python",
   "pygments_lexer": "ipython3",
   "version": "3.8.5"
  },
  "toc": {
   "base_numbering": 1,
   "nav_menu": {},
   "number_sections": true,
   "sideBar": true,
   "skip_h1_title": false,
   "title_cell": "Table of Contents",
   "title_sidebar": "Contents",
   "toc_cell": false,
   "toc_position": {
    "height": "calc(100% - 180px)",
    "left": "10px",
    "top": "150px",
    "width": "414.667px"
   },
   "toc_section_display": true,
   "toc_window_display": true
  },
  "toc-autonumbering": true
 },
 "nbformat": 4,
 "nbformat_minor": 4
}
