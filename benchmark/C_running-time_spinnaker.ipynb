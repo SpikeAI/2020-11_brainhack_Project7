{
 "cells": [
  {
   "cell_type": "code",
   "execution_count": 1,
   "metadata": {},
   "outputs": [
    {
     "name": "stdout",
     "output_type": "stream",
     "text": [
      "Detected PyNN version 0.9.4 and Neo version 0.6.1\n",
      "2020-12-04T16:06:02+00:00\n",
      "\n",
      "CPython 3.6.9\n",
      "IPython 7.15.0\n",
      "\n",
      "numpy 1.19.0\n",
      "matplotlib 3.2.2\n",
      "pyNN 0.9.4\n",
      "neo 0.6.1\n",
      "nixio 1.4.9\n",
      "pandas 1.1.4\n",
      "\n",
      "compiler   : GCC 8.4.0\n",
      "system     : Linux\n",
      "release    : 4.4.0-87-generic\n",
      "machine    : x86_64\n",
      "processor  : x86_64\n",
      "CPU cores  : 32\n",
      "interpreter: 64bit\n",
      "host name  : 96c3276e2566\n",
      "Git hash   : e285ebe8e23b57072e33028b5bbfd585227727a6\n",
      "Git repo   : https://github.com/SpikeAI/2020-11_brainhack_Project7\n",
      "Git branch : main\n"
     ]
    }
   ],
   "source": [
    "%load_ext autoreload\n",
    "%autoreload 2\n",
    "%run A_simple_net.ipynb"
   ]
  },
  {
   "cell_type": "code",
   "execution_count": 2,
   "metadata": {},
   "outputs": [],
   "source": [
    "%mkdir -p outputs"
   ]
  },
  {
   "cell_type": "code",
   "execution_count": 3,
   "metadata": {},
   "outputs": [],
   "source": [
    "%mkdir -p Results/20201204/"
   ]
  },
  {
   "cell_type": "markdown",
   "metadata": {},
   "source": [
    "# scanning over single parameters"
   ]
  },
  {
   "cell_type": "markdown",
   "metadata": {},
   "source": [
    "## initializing parameters"
   ]
  },
  {
   "cell_type": "code",
   "execution_count": 4,
   "metadata": {},
   "outputs": [],
   "source": [
    "tag = '2020-12-04_scan_' + simulator"
   ]
  },
  {
   "cell_type": "code",
   "execution_count": 5,
   "metadata": {},
   "outputs": [
    {
     "name": "stderr",
     "output_type": "stream",
     "text": [
      "2020-12-04 16:06:03 INFO: Read cfg files: /home/spinnaker/sPyNNaker/lib/python3.6/site-packages/spinn_front_end_common/interface/spinnaker.cfg, /home/spinnaker/sPyNNaker/lib/python3.6/site-packages/spynnaker/pyNN/spynnaker.cfg, /home/spinnaker/.spynnaker.cfg\n",
      "2020-12-04 16:06:03 INFO: Will search these locations for binaries: /home/spinnaker/sPyNNaker/lib/python3.6/site-packages/spinn_front_end_common/common_model_binaries : /home/spinnaker/sPyNNaker/lib/python3.6/site-packages/spynnaker/pyNN/model_binaries\n",
      "2020-12-04 16:06:03 WARNING: A timestep was entered that has forced sPyNNaker to automatically slow the simulation down from real time by a factor of 10. To remove this automatic behaviour, please enter a timescaleFactor value in your .spynnaker.cfg\n",
      "2020-12-04 16:06:03 INFO: Setting time scale factor to 10.\n",
      "2020-12-04 16:06:03 INFO: Setting machine time step to 100 micro-seconds.\n",
      "2020-12-04 16:06:03 WARNING: Extra params {'threads': 1, 'filename': 'va.xml', 'label': 'VA'} have been applied to the setup command which we do not consider\n",
      "2020-12-04 16:06:03 INFO: Simulating for 10000 0.1ms timesteps using a hardware timestep of 10us\n",
      "2020-12-04 16:06:03 INFO: Starting execution process\n"
     ]
    },
    {
     "name": "stdout",
     "output_type": "stream",
     "text": [
      "['/home/spinnaker/sPyNNaker/lib/python3.6/site-packages/spinn_front_end_common/interface/spinnaker.cfg', '/home/spinnaker/sPyNNaker/lib/python3.6/site-packages/spynnaker/pyNN/spynnaker.cfg', '/home/spinnaker/.spynnaker.cfg']\n",
      "0 Creating cell populations...\n",
      "0 Initialising membrane potential to random values...\n",
      "0 Connecting populations...\n",
      "0 Setting up recording...\n",
      "0 Running simulation...\n"
     ]
    },
    {
     "name": "stderr",
     "output_type": "stream",
     "text": [
      "2020-12-04 16:06:07 INFO: Time 0:00:03.388149 taken by SpallocMaxMachineGenerator\n",
      "Pre allocating resources for Extra Monitor support vertices\n",
      "|0%                          50%                         100%|\n",
      " ============================================================\n",
      "2020-12-04 16:06:16 INFO: Time 0:00:08.949629 taken by PreAllocateResourcesForExtraMonitorSupport\n",
      "Partitioning graph vertices\n",
      "|0%                          50%                         100%|\n",
      " ============================================================\n",
      "Partitioning graph edges\n",
      "|0%                          50%                         100%|\n",
      " ============================================================\n",
      "2020-12-04 16:06:21 INFO: Time 0:00:05.535818 taken by PartitionAndPlacePartitioner\n",
      "Created spalloc job 5540789\n",
      "2020-12-04 16:06:21 INFO: Created spalloc job 5540789\n",
      "Waiting for board power commands to complete.\n",
      "2020-12-04 16:06:21 INFO: Waiting for board power commands to complete.\n",
      "2020-12-04 16:06:26 INFO: Time 0:00:05.048832 taken by SpallocAllocator\n",
      "2020-12-04 16:06:26 INFO: Creating transceiver for 10.11.193.65\n",
      "2020-12-04 16:06:26 INFO: Working out if machine is booted\n",
      "2020-12-04 16:06:30 INFO: Attempting to boot machine\n",
      "2020-12-04 16:06:36 INFO: Found board with version [Version: SC&MP 3.2.5 at SpiNNaker:0:0:0 (built Thu Aug  1 08:15:06 2019)]\n",
      "2020-12-04 16:06:36 INFO: Machine communication successful\n",
      "2020-12-04 16:06:36 INFO: Detected a machine on IP address 10.11.193.65 which has 854 cores and 120.0 links\n",
      "2020-12-04 16:06:36 INFO: Time 0:00:09.635133 taken by MachineGenerator\n",
      "Generating partitioner report\n",
      "|0%                          50%                         100%|\n",
      " ============================================================\n",
      "2020-12-04 16:06:36 INFO: Time 0:00:00.009684 taken by PartitionerReport\n",
      "2020-12-04 16:06:36 INFO: Time 0:00:00.000502 taken by NetworkSpecificationReport\n",
      "Allocating virtual identifiers\n",
      "|0%                          50%                         100%|\n",
      " ============================================================\n",
      "2020-12-04 16:06:36 INFO: Time 0:00:00.025718 taken by MallocBasedChipIDAllocator\n",
      "Inserting extra monitors into graphs\n",
      "|0%                          50%                         100%|\n",
      " ============================================================\n",
      "2020-12-04 16:06:36 INFO: Time 0:00:00.028518 taken by InsertExtraMonitorVerticesToGraphs\n",
      "Writing the board chip report\n",
      "|0%                          50%                         100%|\n",
      " ============================================================\n",
      "2020-12-04 16:06:36 INFO: Time 0:00:00.007417 taken by BoardChipReport\n",
      "Filtering edges\n",
      "|0%                          50%                         100%|\n",
      " ============================================================\n",
      "2020-12-04 16:06:36 INFO: Time 0:00:00.031005 taken by GraphEdgeFilter\n",
      "Placing graph vertices\n",
      "|0%                          50%                         100%|\n",
      " ============================================================\n",
      "2020-12-04 16:06:36 INFO: Time 0:00:00.037613 taken by OneToOnePlacer\n",
      "Inserting edges between vertices which require FR speed up functionality.\n",
      "|0%                          50%                         100%|\n",
      " ============================================================\n",
      "2020-12-04 16:06:36 INFO: Time 0:00:00.078664 taken by InsertEdgesToExtraMonitorFunctionality\n",
      "Generating routing tables for data in system processes\n",
      "|0%                          50%                         100%|\n",
      " ============================================================\n",
      "2020-12-04 16:06:36 INFO: Time 0:00:00.007764 taken by DataInMulticastRoutingGenerator\n",
      "Generating fixed router routes\n",
      "|0%                          50%                         100%|\n",
      " ============================================================\n",
      "2020-12-04 16:06:36 INFO: Time 0:00:00.009919 taken by FixedRouteRouter\n",
      "Generating placement report\n",
      "|0%                          50%                         100%|\n",
      " ============================================================\n",
      "Generating placement by core report\n",
      "|0%                          50%                         100%|\n",
      " ============================================================\n",
      "2020-12-04 16:06:36 INFO: Time 0:00:00.057927 taken by PlacerReportWithApplicationGraph\n",
      "Routing\n",
      "|0%                          50%                         100%|\n",
      " ============================================================\n",
      "\n",
      "2020-12-04 16:06:36 INFO: Time 0:00:00.028867 taken by NerRoute\n",
      "Discovering tags\n",
      "|0%                          50%                         100%|\n",
      " ============================================================\n",
      "Allocating tags\n",
      "|0%                          50%                         100%|\n",
      " ============================================================\n",
      "2020-12-04 16:06:36 INFO: Time 0:00:00.040255 taken by BasicTagAllocator\n",
      "Reporting Tags\n",
      "|0%                          50%                         100%|\n",
      " ============================================================\n",
      "2020-12-04 16:06:36 INFO: Time 0:00:00.007594 taken by TagReport\n",
      "Getting number of keys required by each edge using application graph\n",
      "|0%                          50%                         100%|\n",
      " ============================================================\n",
      "2020-12-04 16:06:36 INFO: Time 0:00:00.024364 taken by EdgeToNKeysMapper\n",
      "Getting constraints for application graph\n",
      "|0%                          50%                         100%|\n",
      " ============================================================\n",
      "2020-12-04 16:06:36 INFO: Time 0:00:00.024101 taken by ProcessPartitionConstraints\n",
      "Allocating routing keys\n",
      "|0%                          50%                         100%|\n",
      " ============================================================\n",
      "2020-12-04 16:06:36 INFO: Time 0:00:00.006700 taken by MallocBasedRoutingInfoAllocator\n",
      "Generating Routing info report\n",
      "|0%                          50%                         100%|\n",
      " ============================================================\n",
      "2020-12-04 16:06:36 INFO: Time 0:00:00.028947 taken by routingInfoReports\n",
      "Generating routing tables\n",
      "|0%                          50%                         100%|\n",
      " ============================================================\n",
      "2020-12-04 16:06:36 INFO: Time 0:00:00.021702 taken by BasicRoutingTableGenerator\n",
      "Finding executable start types\n",
      "|0%                          50%                         100%|\n",
      " ============================================================\n",
      "2020-12-04 16:06:36 INFO: Time 0:00:00.041860 taken by LocateExecutableStartType\n",
      "Initialising buffers\n",
      "|0%                          50%                         100%|\n",
      " ============================================================\n",
      "2020-12-04 16:06:36 INFO: Time 0:00:00.031749 taken by BufferManagerCreator\n",
      "Generating data specifications\n",
      "|0%                          50%                         100%|\n",
      " ============================================================\n",
      "2020-12-04 16:06:37 INFO: Time 0:00:00.310411 taken by SpynnakerDataSpecificationWriter\n",
      "Preparing Routing Tables\n",
      "|0%                          50%                         100%|\n",
      " ============================================================\n",
      "2020-12-04 16:06:37 INFO: Time 0:00:00.010859 taken by RoutingSetup\n",
      "Finding binaries\n",
      "|0%                          50%                         100%|\n",
      " ============================================================\n",
      "2020-12-04 16:06:37 INFO: Time 0:00:00.029479 taken by GraphBinaryGatherer\n",
      "Running routing table compression on chip\n",
      "|0%                          50%                         100%|\n",
      " ============================================================\n",
      "2020-12-04 16:06:41 INFO: Time 0:00:04.540181 taken by MundyOnChipRouterCompression\n",
      "Generating Router table report\n",
      "|0%                          50%                         100%|\n",
      " ============================================================\n",
      "2020-12-04 16:06:41 INFO: Time 0:00:00.008501 taken by unCompressedRoutingTableReports\n",
      "loading fixed routes\n",
      "|0%                          50%                         100%|\n",
      " ============================================================\n",
      "2020-12-04 16:06:41 INFO: Time 0:00:00.046199 taken by LoadFixedRoutes\n",
      "Executing data specifications and loading data for system vertices\n",
      "|0%                          50%                         100%|\n",
      " ============================================================\n",
      "2020-12-04 16:06:42 INFO: Time 0:00:01.148146 taken by HostExecuteSystemDataSpecification\n",
      "Loading system executables onto the machine\n",
      "|0%                          50%                         100%|\n",
      " ============================================================\n",
      "2020-12-04 16:06:48 INFO: Time 0:00:05.736659 taken by LoadSystemExecutableImages\n",
      "Clearing tags\n",
      "|0%                          50%                         100%|\n",
      " ============================================================\n",
      "Loading Tags\n",
      "|0%                          50%                         100%|\n",
      " ============================================================\n",
      "2020-12-04 16:06:48 INFO: Time 0:00:00.026972 taken by TagsLoader\n",
      "Writing data\n",
      "|0%                          50%                         100%|\n",
      " ============================================================\n",
      "2020-12-04 16:06:48 INFO: Time 0:00:00.031867 taken by WriteMemoryIOData\n",
      "Executing data specifications and loading data for application vertices\n",
      "|0%                          50%                         100%|\n",
      " ============================================================\n",
      "2020-12-04 16:06:48 INFO: Time 0:00:00.205817 taken by HostExecuteApplicationDataSpecification\n",
      "Expanding Synapses\n",
      "|0%                          50%                         100%|\n",
      " ============================================================\n",
      "2020-12-04 16:06:52 INFO: Time 0:00:03.881957 taken by SynapseExpander\n",
      "Writing fixed route report\n",
      "|0%                          50%                         100%|\n",
      " ============================================================\n",
      "2020-12-04 16:06:52 INFO: Time 0:00:00.045549 taken by FixedRouteFromMachineReport\n",
      "Loading executables onto the machine\n",
      "|0%                          50%                         100%|\n",
      " ============================================================\n",
      "2020-12-04 16:06:59 INFO: Time 0:00:06.882132 taken by LoadApplicationExecutableImages\n",
      "Reading Routing Tables from Machine\n",
      "|0%                          50%                         100%|\n",
      " ============================================================\n",
      "2020-12-04 16:06:59 INFO: Time 0:00:00.010666 taken by RoutingTableFromMachineReport\n",
      "Generating compressed router table report\n",
      "|0%                          50%                         100%|\n",
      " ============================================================\n",
      "2020-12-04 16:06:59 INFO: Time 0:00:00.005660 taken by compressedRoutingTableReports\n",
      "Generating comparison of router table report\n",
      "|0%                          50%                         100%|\n",
      " ============================================================\n",
      "2020-12-04 16:06:59 INFO: Time 0:00:00.005520 taken by comparisonOfRoutingTablesReport\n",
      "2020-12-04 16:06:59 INFO: Running for 1 steps for a total of 1000.0ms\n",
      "2020-12-04 16:06:59 INFO: Run 1 of 1\n",
      "Generating SDRAM usage report\n",
      "|0%                          50%                         100%|\n",
      " ============================================================\n",
      "2020-12-04 16:06:59 INFO: Time 0:00:00.062152 taken by SdramUsageReportPerChip\n",
      "Updating run time\n",
      "|0%                          50%                         100%|\n",
      " ============================================================\n",
      "2020-12-04 16:06:59 INFO: Time 0:00:00.029352 taken by ChipRuntimeUpdater\n",
      "2020-12-04 16:06:59 INFO: creating live event connection database in /home/spinnaker/2020-11_brainhack_Project7/benchmark/application_generated_data_files/2020-12-04-16-06-03-650138/run_1/input_output_database.db\n",
      "Creating graph description database\n",
      "|0%                          50%                         100%|\n",
      " ============================================================\n",
      "2020-12-04 16:07:00 INFO: Time 0:00:00.069067 taken by DatabaseInterface\n",
      "2020-12-04 16:07:00 INFO: ** Notifying external sources that the database is ready for reading **\n",
      "2020-12-04 16:07:00 INFO: Time 0:00:00.001299 taken by NotificationProtocol\n",
      "2020-12-04 16:07:00 INFO: *** Running simulation... *** \n",
      "Loading buffers\n",
      "|0%                          50%                         100%|\n",
      " ============================================================\n",
      "2020-12-04 16:07:00 INFO: ** Awaiting for a response from an external source to state its ready for the simulation to start **\n",
      "2020-12-04 16:07:00 INFO: ** Sending start / resume message to external sources to state the simulation has started or resumed. **\n",
      "2020-12-04 16:07:00 INFO: ** Awaiting for a response from an external source to state its ready for the simulation to start **\n",
      "2020-12-04 16:07:00 INFO: Application started; waiting 10.1s for it to stop\n",
      "2020-12-04 16:07:10 INFO: ** Sending pause / stop message to external sources to state the simulation has been paused or stopped. **\n",
      "2020-12-04 16:07:10 INFO: Time 0:00:10.195774 taken by ApplicationRunner\n",
      "Extracting buffers from the last run\n",
      "|0%                          50%                         100%|\n",
      " ============================================================\n",
      "2020-12-04 16:07:10 INFO: Time 0:00:00.146090 taken by BufferExtractor\n",
      "Getting provenance data from machine graph\n",
      "|0%                          50%                         100%|\n",
      " ============================================================\n",
      "Getting provenance data from application graph\n",
      "|0%                          50%                         100%|\n",
      " ============================================================\n",
      "2020-12-04 16:07:10 INFO: Time 0:00:00.090154 taken by GraphProvenanceGatherer\n",
      "Getting provenance data\n",
      "|0%                          50%                         100%|\n",
      " ============================================================\n",
      "2020-12-04 16:07:10 INFO: Time 0:00:00.029605 taken by PlacementsProvenanceGatherer\n",
      "Getting Router Provenance\n",
      "|0%                          50%                         100%|\n",
      " ============================================================\n",
      "2020-12-04 16:07:10 INFO: Time 0:00:00.052765 taken by RouterProvenanceGatherer\n",
      "Getting profile data\n",
      "|0%                          50%                         100%|\n",
      " ============================================================\n",
      "2020-12-04 16:07:10 INFO: Time 0:00:00.034032 taken by ProfileDataGatherer\n",
      "2020-12-04 16:07:10 INFO: get_spike_counts is inefficient as it just counts the results of get_datas('spikes')\n",
      "Getting spikes for All Cells\n",
      "|0%                          50%                         100%|\n",
      " ============================================================\n",
      "2020-12-04 16:07:10 INFO: get_spike_counts is inefficient as it just counts the results of get_datas('spikes')\n",
      "Getting spikes for All Cells\n",
      "|0%                          50%                         100%|\n",
      " ============================================================\n",
      "Getting spikes for All Cells\n",
      "|0%                          50%                         100%|\n",
      " ============================================================\n",
      "Getting v for All Cells\n",
      "|0%                          50%                         100%|\n",
      " ============================================================\n",
      "Getting spikes for All Cells\n",
      "|0%                          50%                         100%|\n",
      " ============================================================"
     ]
    },
    {
     "name": "stdout",
     "output_type": "stream",
     "text": [
      "0 Writing data to file...\n"
     ]
    },
    {
     "name": "stderr",
     "output_type": "stream",
     "text": [
      "\n",
      "Getting v for All Cells\n",
      "|0%                          50%                         100%|\n",
      " ============================================================"
     ]
    },
    {
     "name": "stdout",
     "output_type": "stream",
     "text": [
      "\n",
      "--- Vogels-Abbott Network Simulation ---\n",
      "Nodes                  : 1\n",
      "Number of Neurons      : 1000\n",
      "Excitatory conductance : 4 nS\n",
      "Inhibitory conductance : 51 nS\n",
      "Excitatory rate        : 1.125 Hz\n",
      "Inhibitory rate        : 1.17 Hz\n",
      "Build time             : 5.46932 ms\n",
      "Simulation time        : 67137.7 ms\n",
      "Writing time           : 236.391 ms\n"
     ]
    },
    {
     "name": "stderr",
     "output_type": "stream",
     "text": [
      "\n"
     ]
    }
   ],
   "source": [
    "buildCPUTime, simCPUTime, writeCPUTime = run(verbose=True)"
   ]
  },
  {
   "cell_type": "markdown",
   "metadata": {},
   "source": [
    "## Running Model and Loading Results"
   ]
  },
  {
   "cell_type": "code",
   "execution_count": 6,
   "metadata": {},
   "outputs": [],
   "source": [
    "import os\n",
    "import pandas as pd\n",
    "verbose = True\n",
    "def scan(variable, values, tag=tag, verbose=verbose):\n",
    "    filename = 'outputs/{tag}_{variable}.json'.format(tag=tag, variable=variable)\n",
    "    try:\n",
    "        df = pd.read_json(filename)\n",
    "        print('Loaded file')\n",
    "    except:\n",
    "        df = pd.DataFrame([], columns=[variable, 'buildCPUTime', 'simCPUTime', 'writeCPUTime'])\n",
    "        for i, value in enumerate(values):\n",
    "            if verbose: print('{variable=}---{value=}'.format(value=value, variable=variable))\n",
    "            args = {}\n",
    "            args[variable] = value\n",
    "            buildCPUTime, simCPUTime, writeCPUTime = run(**args)\n",
    "            df.loc[i]= {variable: value, 'buildCPUTime':buildCPUTime, 'simCPUTime':simCPUTime, 'writeCPUTime':writeCPUTime}\n",
    "        df.to_json(filename)\n",
    "    return df"
   ]
  },
  {
   "cell_type": "code",
   "execution_count": 7,
   "metadata": {},
   "outputs": [],
   "source": [
    "import matplotlib.pyplot as plt\n",
    "\n",
    "# https://stackoverflow.com/questions/31978948/python-stats-models-quadratic-term-in-regression\n",
    "def plot(df, do_intercept=True):\n",
    "    variable = df.columns[0]\n",
    "    fig, ax = plt.subplots(figsize=(8,8))\n",
    "    \n",
    "    for regressor, color in zip(['buildCPUTime', 'simCPUTime', 'writeCPUTime'],\n",
    "                                ['r', 'g', 'b']):\n",
    "\n",
    "        import patsy\n",
    "        if do_intercept:\n",
    "            y, X = patsy.dmatrices('{regressor} ~ {variable}'.format(regressor=regressor, variable=variable), data=df, return_type='dataframe')\n",
    "        else:\n",
    "            y, X = patsy.dmatrices('{regressor} ~ 0 + {variable}'.format(regressor=regressor, variable=variable), data=df, return_type='dataframe')\n",
    "\n",
    "        import statsmodels.api as sm\n",
    "        fit = sm.OLS(y, X).fit()\n",
    "        print(fit.summary())\n",
    "\n",
    "        if do_intercept: intercept = fit.params.Intercept\n",
    "        slope = fit.params[variable]\n",
    "\n",
    "        values = np.array(df[variable])\n",
    "        if do_intercept:\n",
    "            ax.plot(values, intercept + slope*values, c=color, lw=2, label=f\"{regressor}={slope:.3f}*{variable} + {intercept:.3f}\")\n",
    "        else:\n",
    "            ax.plot(values, slope*values, c=color, lw=2, label=f\"{regressor}={slope:.3f}*{variable}\")\n",
    "        df.plot(x=variable, y=regressor, c=color, lw=1, ls='-.', ax=ax, legend=False)\n",
    "\n",
    "    ax.set_xlim(0)\n",
    "    ax.set_ylabel('Time (ms)')\n",
    "    ax.set_ylim(0)\n",
    "    ax.legend()\n",
    "    return fig, ax"
   ]
  },
  {
   "cell_type": "markdown",
   "metadata": {},
   "source": [
    "## plot as a function of neuron numbers"
   ]
  },
  {
   "cell_type": "code",
   "execution_count": 8,
   "metadata": {},
   "outputs": [
    {
     "data": {
      "text/plain": [
       "array([  64,  196,  361,  484,  625,  784,  961, 1089, 1225, 1369, 1521,\n",
       "       1681, 1849, 2025])"
      ]
     },
     "execution_count": 8,
     "metadata": {},
     "output_type": "execute_result"
    }
   ],
   "source": [
    "import numpy as np\n",
    "N_pops = np.array([int(k)**2 for k in np.linspace(8**2, 45**2, 14, endpoint=True)**.5])\n",
    "N_pops"
   ]
  },
  {
   "cell_type": "code",
   "execution_count": 9,
   "metadata": {},
   "outputs": [
    {
     "name": "stdout",
     "output_type": "stream",
     "text": [
      "Loaded file\n"
     ]
    }
   ],
   "source": [
    "results_pop = scan('N_pop', N_pops)"
   ]
  },
  {
   "cell_type": "code",
   "execution_count": 10,
   "metadata": {},
   "outputs": [
    {
     "data": {
      "application/vnd.jupyter.widget-view+json": {
       "model_id": "4cecaf876d114bd4b0663ba029a2e79d",
       "version_major": 2,
       "version_minor": 0
      },
      "text/plain": [
       "Canvas(toolbar=Toolbar(toolitems=[('Home', 'Reset original view', 'home', 'home'), ('Back', 'Back to previous …"
      ]
     },
     "metadata": {},
     "output_type": "display_data"
    },
    {
     "name": "stdout",
     "output_type": "stream",
     "text": [
      "                            OLS Regression Results                            \n",
      "==============================================================================\n",
      "Dep. Variable:           buildCPUTime   R-squared:                       0.003\n",
      "Model:                            OLS   Adj. R-squared:                 -0.080\n",
      "Method:                 Least Squares   F-statistic:                   0.03301\n",
      "Date:                Fri, 04 Dec 2020   Prob (F-statistic):              0.859\n",
      "Time:                        16:07:11   Log-Likelihood:                -11.424\n",
      "No. Observations:                  14   AIC:                             26.85\n",
      "Df Residuals:                      12   BIC:                             28.13\n",
      "Df Model:                           1                                         \n",
      "Covariance Type:            nonrobust                                         \n",
      "==============================================================================\n",
      "                 coef    std err          t      P>|t|      [0.025      0.975]\n",
      "------------------------------------------------------------------------------\n",
      "Intercept      5.7428      0.310     18.536      0.000       5.068       6.418\n",
      "N_pop      -4.763e-05      0.000     -0.182      0.859      -0.001       0.001\n",
      "==============================================================================\n",
      "Omnibus:                       10.684   Durbin-Watson:                   0.907\n",
      "Prob(Omnibus):                  0.005   Jarque-Bera (JB):                6.622\n",
      "Skew:                           1.277   Prob(JB):                       0.0365\n",
      "Kurtosis:                       5.198   Cond. No.                     2.32e+03\n",
      "==============================================================================\n",
      "\n",
      "Notes:\n",
      "[1] Standard Errors assume that the covariance matrix of the errors is correctly specified.\n",
      "[2] The condition number is large, 2.32e+03. This might indicate that there are\n",
      "strong multicollinearity or other numerical problems.\n",
      "                            OLS Regression Results                            \n",
      "==============================================================================\n",
      "Dep. Variable:             simCPUTime   R-squared:                       0.079\n",
      "Model:                            OLS   Adj. R-squared:                  0.003\n",
      "Method:                 Least Squares   F-statistic:                     1.034\n",
      "Date:                Fri, 04 Dec 2020   Prob (F-statistic):              0.329\n",
      "Time:                        16:07:11   Log-Likelihood:                -122.20\n",
      "No. Observations:                  14   AIC:                             248.4\n",
      "Df Residuals:                      12   BIC:                             249.7\n",
      "Df Model:                           1                                         \n",
      "Covariance Type:            nonrobust                                         \n",
      "==============================================================================\n",
      "                 coef    std err          t      P>|t|      [0.025      0.975]\n",
      "------------------------------------------------------------------------------\n",
      "Intercept   6.656e+04    846.356     78.642      0.000    6.47e+04    6.84e+04\n",
      "N_pop          0.7281      0.716      1.017      0.329      -0.832       2.288\n",
      "==============================================================================\n",
      "Omnibus:                        2.411   Durbin-Watson:                   2.376\n",
      "Prob(Omnibus):                  0.300   Jarque-Bera (JB):                1.664\n",
      "Skew:                           0.669   Prob(JB):                        0.435\n",
      "Kurtosis:                       1.971   Cond. No.                     2.32e+03\n",
      "==============================================================================\n",
      "\n",
      "Notes:\n",
      "[1] Standard Errors assume that the covariance matrix of the errors is correctly specified.\n",
      "[2] The condition number is large, 2.32e+03. This might indicate that there are\n",
      "strong multicollinearity or other numerical problems.\n",
      "                            OLS Regression Results                            \n",
      "==============================================================================\n",
      "Dep. Variable:           writeCPUTime   R-squared:                       0.834\n",
      "Model:                            OLS   Adj. R-squared:                  0.820\n",
      "Method:                 Least Squares   F-statistic:                     60.17\n",
      "Date:                Fri, 04 Dec 2020   Prob (F-statistic):           5.15e-06\n",
      "Time:                        16:07:11   Log-Likelihood:                -84.539\n",
      "No. Observations:                  14   AIC:                             173.1\n",
      "Df Residuals:                      12   BIC:                             174.4\n",
      "Df Model:                           1                                         \n",
      "Covariance Type:            nonrobust                                         \n",
      "==============================================================================\n",
      "                 coef    std err          t      P>|t|      [0.025      0.975]\n",
      "------------------------------------------------------------------------------\n",
      "Intercept    -52.8055     57.440     -0.919      0.376    -177.957      72.346\n",
      "N_pop          0.3770      0.049      7.757      0.000       0.271       0.483\n",
      "==============================================================================\n",
      "Omnibus:                        0.314   Durbin-Watson:                   0.648\n",
      "Prob(Omnibus):                  0.855   Jarque-Bera (JB):                0.461\n",
      "Skew:                           0.170   Prob(JB):                        0.794\n",
      "Kurtosis:                       2.179   Cond. No.                     2.32e+03\n",
      "==============================================================================\n",
      "\n",
      "Notes:\n",
      "[1] Standard Errors assume that the covariance matrix of the errors is correctly specified.\n",
      "[2] The condition number is large, 2.32e+03. This might indicate that there are\n",
      "strong multicollinearity or other numerical problems.\n"
     ]
    },
    {
     "name": "stderr",
     "output_type": "stream",
     "text": [
      "/home/spinnaker/sPyNNaker/lib/python3.6/site-packages/scipy/stats/stats.py:1604: UserWarning: kurtosistest only valid for n>=20 ... continuing anyway, n=14\n",
      "  \"anyway, n=%i\" % int(n))\n",
      "/home/spinnaker/sPyNNaker/lib/python3.6/site-packages/scipy/stats/stats.py:1604: UserWarning: kurtosistest only valid for n>=20 ... continuing anyway, n=14\n",
      "  \"anyway, n=%i\" % int(n))\n",
      "/home/spinnaker/sPyNNaker/lib/python3.6/site-packages/scipy/stats/stats.py:1604: UserWarning: kurtosistest only valid for n>=20 ... continuing anyway, n=14\n",
      "  \"anyway, n=%i\" % int(n))\n"
     ]
    }
   ],
   "source": [
    "fig, ax = plot(results_pop)"
   ]
  },
  {
   "cell_type": "code",
   "execution_count": 11,
   "metadata": {},
   "outputs": [],
   "source": [
    "fig.savefig(tag + '_N_pop.png')"
   ]
  },
  {
   "cell_type": "markdown",
   "metadata": {},
   "source": [
    "## plot as a function of simtime"
   ]
  },
  {
   "cell_type": "code",
   "execution_count": 12,
   "metadata": {},
   "outputs": [
    {
     "data": {
      "text/plain": [
       "array([ 500.        ,  678.57142857,  857.14285714, 1035.71428571,\n",
       "       1214.28571429, 1392.85714286, 1571.42857143, 1750.        ,\n",
       "       1928.57142857, 2107.14285714, 2285.71428571, 2464.28571429,\n",
       "       2642.85714286, 2821.42857143, 3000.        ])"
      ]
     },
     "execution_count": 12,
     "metadata": {},
     "output_type": "execute_result"
    }
   ],
   "source": [
    "simtimes = np.linspace(500, 3000, 15, endpoint=True)\n",
    "simtimes"
   ]
  },
  {
   "cell_type": "code",
   "execution_count": 13,
   "metadata": {},
   "outputs": [
    {
     "name": "stdout",
     "output_type": "stream",
     "text": [
      "Loaded file\n"
     ]
    }
   ],
   "source": [
    "results_simtime = scan('simtime', simtimes)"
   ]
  },
  {
   "cell_type": "code",
   "execution_count": 14,
   "metadata": {},
   "outputs": [
    {
     "data": {
      "application/vnd.jupyter.widget-view+json": {
       "model_id": "397753d1743f423e81111e5aa2974a00",
       "version_major": 2,
       "version_minor": 0
      },
      "text/plain": [
       "Canvas(toolbar=Toolbar(toolitems=[('Home', 'Reset original view', 'home', 'home'), ('Back', 'Back to previous …"
      ]
     },
     "metadata": {},
     "output_type": "display_data"
    },
    {
     "name": "stdout",
     "output_type": "stream",
     "text": [
      "                            OLS Regression Results                            \n",
      "==============================================================================\n",
      "Dep. Variable:           buildCPUTime   R-squared:                       0.006\n",
      "Model:                            OLS   Adj. R-squared:                 -0.070\n",
      "Method:                 Least Squares   F-statistic:                   0.08426\n",
      "Date:                Fri, 04 Dec 2020   Prob (F-statistic):              0.776\n",
      "Time:                        16:07:11   Log-Likelihood:                -3.8948\n",
      "No. Observations:                  15   AIC:                             11.79\n",
      "Df Residuals:                      13   BIC:                             13.21\n",
      "Df Model:                           1                                         \n",
      "Covariance Type:            nonrobust                                         \n",
      "==============================================================================\n",
      "                 coef    std err          t      P>|t|      [0.025      0.975]\n",
      "------------------------------------------------------------------------------\n",
      "Intercept      5.0068      0.216     23.213      0.000       4.541       5.473\n",
      "simtime    -3.273e-05      0.000     -0.290      0.776      -0.000       0.000\n",
      "==============================================================================\n",
      "Omnibus:                        0.354   Durbin-Watson:                   2.282\n",
      "Prob(Omnibus):                  0.838   Jarque-Bera (JB):                0.237\n",
      "Skew:                           0.259   Prob(JB):                        0.888\n",
      "Kurtosis:                       2.667   Cond. No.                     4.74e+03\n",
      "==============================================================================\n",
      "\n",
      "Notes:\n",
      "[1] Standard Errors assume that the covariance matrix of the errors is correctly specified.\n",
      "[2] The condition number is large, 4.74e+03. This might indicate that there are\n",
      "strong multicollinearity or other numerical problems.\n",
      "                            OLS Regression Results                            \n",
      "==============================================================================\n",
      "Dep. Variable:             simCPUTime   R-squared:                       0.960\n",
      "Model:                            OLS   Adj. R-squared:                  0.956\n",
      "Method:                 Least Squares   F-statistic:                     308.2\n",
      "Date:                Fri, 04 Dec 2020   Prob (F-statistic):           1.95e-10\n",
      "Time:                        16:07:11   Log-Likelihood:                -131.23\n",
      "No. Observations:                  15   AIC:                             266.5\n",
      "Df Residuals:                      13   BIC:                             267.9\n",
      "Df Model:                           1                                         \n",
      "Covariance Type:            nonrobust                                         \n",
      "==============================================================================\n",
      "                 coef    std err          t      P>|t|      [0.025      0.975]\n",
      "------------------------------------------------------------------------------\n",
      "Intercept   5.821e+04   1048.712     55.508      0.000    5.59e+04    6.05e+04\n",
      "simtime        9.6265      0.548     17.556      0.000       8.442      10.811\n",
      "==============================================================================\n",
      "Omnibus:                        0.756   Durbin-Watson:                   2.295\n",
      "Prob(Omnibus):                  0.685   Jarque-Bera (JB):                0.737\n",
      "Skew:                           0.356   Prob(JB):                        0.692\n",
      "Kurtosis:                       2.180   Cond. No.                     4.74e+03\n",
      "==============================================================================\n",
      "\n",
      "Notes:\n",
      "[1] Standard Errors assume that the covariance matrix of the errors is correctly specified.\n",
      "[2] The condition number is large, 4.74e+03. This might indicate that there are\n",
      "strong multicollinearity or other numerical problems.\n",
      "                            OLS Regression Results                            \n",
      "==============================================================================\n",
      "Dep. Variable:           writeCPUTime   R-squared:                       0.158\n",
      "Model:                            OLS   Adj. R-squared:                  0.093\n",
      "Method:                 Least Squares   F-statistic:                     2.432\n",
      "Date:                Fri, 04 Dec 2020   Prob (F-statistic):              0.143\n",
      "Time:                        16:07:11   Log-Likelihood:                -82.638\n",
      "No. Observations:                  15   AIC:                             169.3\n",
      "Df Residuals:                      13   BIC:                             170.7\n",
      "Df Model:                           1                                         \n",
      "Covariance Type:            nonrobust                                         \n",
      "==============================================================================\n",
      "                 coef    std err          t      P>|t|      [0.025      0.975]\n",
      "------------------------------------------------------------------------------\n",
      "Intercept    328.4541     41.084      7.995      0.000     239.698     417.210\n",
      "simtime       -0.0335      0.021     -1.559      0.143      -0.080       0.013\n",
      "==============================================================================\n",
      "Omnibus:                       23.502   Durbin-Watson:                   1.454\n",
      "Prob(Omnibus):                  0.000   Jarque-Bera (JB):               28.008\n",
      "Skew:                           2.169   Prob(JB):                     8.28e-07\n",
      "Kurtosis:                       8.098   Cond. No.                     4.74e+03\n",
      "==============================================================================\n",
      "\n",
      "Notes:\n",
      "[1] Standard Errors assume that the covariance matrix of the errors is correctly specified.\n",
      "[2] The condition number is large, 4.74e+03. This might indicate that there are\n",
      "strong multicollinearity or other numerical problems.\n"
     ]
    },
    {
     "name": "stderr",
     "output_type": "stream",
     "text": [
      "/home/spinnaker/sPyNNaker/lib/python3.6/site-packages/scipy/stats/stats.py:1604: UserWarning: kurtosistest only valid for n>=20 ... continuing anyway, n=15\n",
      "  \"anyway, n=%i\" % int(n))\n",
      "/home/spinnaker/sPyNNaker/lib/python3.6/site-packages/scipy/stats/stats.py:1604: UserWarning: kurtosistest only valid for n>=20 ... continuing anyway, n=15\n",
      "  \"anyway, n=%i\" % int(n))\n",
      "/home/spinnaker/sPyNNaker/lib/python3.6/site-packages/scipy/stats/stats.py:1604: UserWarning: kurtosistest only valid for n>=20 ... continuing anyway, n=15\n",
      "  \"anyway, n=%i\" % int(n))\n"
     ]
    }
   ],
   "source": [
    "fig, ax = plot(results_simtime, do_intercept=True)      "
   ]
  },
  {
   "cell_type": "code",
   "execution_count": 15,
   "metadata": {},
   "outputs": [],
   "source": [
    "fig.savefig(tag + '_simtime.png')"
   ]
  },
  {
   "cell_type": "markdown",
   "metadata": {},
   "source": [
    "# scanning over two parameters"
   ]
  },
  {
   "cell_type": "markdown",
   "metadata": {},
   "source": [
    "## Setting-up model and initializing parameters"
   ]
  },
  {
   "cell_type": "code",
   "execution_count": 16,
   "metadata": {},
   "outputs": [],
   "source": [
    "tag = '2020-12-04_scan-2D_' + simulator"
   ]
  },
  {
   "cell_type": "markdown",
   "metadata": {},
   "source": [
    "## Running Model and Loading Results"
   ]
  },
  {
   "cell_type": "code",
   "execution_count": 17,
   "metadata": {},
   "outputs": [],
   "source": [
    "variables = ['N_pop', 'simtime']\n",
    "filename = 'outputs/' + tag\n",
    "for variable in variables: filename +=  '_' + variable\n",
    "filename += '.json'"
   ]
  },
  {
   "cell_type": "code",
   "execution_count": 18,
   "metadata": {},
   "outputs": [],
   "source": [
    "import os\n",
    "import time\n",
    "import pandas as pd\n",
    "verbose = True\n",
    "def scan(variables, values, tag=tag, verbose=verbose):\n",
    "    filename = 'outputs/' + tag\n",
    "    for variable in variables: filename +=  '_' + variable\n",
    "    filename += '.json'\n",
    "    try:\n",
    "        df = pd.read_json(filename)\n",
    "        print('Loaded file')\n",
    "    except:\n",
    "        df = pd.DataFrame([], columns=variables + ['buildCPUTime', 'simCPUTime', 'writeCPUTime'])\n",
    "        for i, values_ in enumerate(values):\n",
    "            if verbose: print('{variable}---{values_}'.format(values_=values_, variable=variable))\n",
    "            args = {}\n",
    "            for variable, value in zip(variables, values_):\n",
    "                args[variable] = value\n",
    "            buildCPUTime, simCPUTime, writeCPUTime = run(**args)\n",
    "            df.loc[i]= dict(zip(variables + ['buildCPUTime', 'simCPUTime', 'writeCPUTime'], \n",
    "                                list(values_) + [buildCPUTime, simCPUTime, writeCPUTime]))\n",
    "\n",
    "        df.to_json(filename)\n",
    "        \n",
    "    return df"
   ]
  },
  {
   "cell_type": "markdown",
   "metadata": {},
   "source": [
    "## Running time as a function of neuron numbers and simtime"
   ]
  },
  {
   "cell_type": "code",
   "execution_count": 19,
   "metadata": {},
   "outputs": [],
   "source": [
    "import numpy as np"
   ]
  },
  {
   "cell_type": "code",
   "execution_count": 20,
   "metadata": {},
   "outputs": [],
   "source": [
    "N_trials = 200\n",
    "N_pops = [int(k)**2 for k in np.linspace(15, 60, N_trials, endpoint=True)]\n",
    "simtimes = np.linspace(200, 3000, N_trials, endpoint=True)"
   ]
  },
  {
   "cell_type": "code",
   "execution_count": 21,
   "metadata": {},
   "outputs": [],
   "source": [
    "np.random.seed(42)\n",
    "np.random.shuffle(N_pops)\n",
    "np.random.shuffle(simtimes)\n",
    "values = zip(N_pops, simtimes)"
   ]
  },
  {
   "cell_type": "code",
   "execution_count": null,
   "metadata": {},
   "outputs": [
    {
     "name": "stderr",
     "output_type": "stream",
     "text": [
      "2020-12-04 16:07:12 INFO: Read cfg files: /home/spinnaker/sPyNNaker/lib/python3.6/site-packages/spinn_front_end_common/interface/spinnaker.cfg, /home/spinnaker/sPyNNaker/lib/python3.6/site-packages/spynnaker/pyNN/spynnaker.cfg, /home/spinnaker/.spynnaker.cfg\n",
      "2020-12-04 16:07:12 INFO: Will search these locations for binaries: /home/spinnaker/sPyNNaker/lib/python3.6/site-packages/spinn_front_end_common/common_model_binaries : /home/spinnaker/sPyNNaker/lib/python3.6/site-packages/spynnaker/pyNN/model_binaries\n",
      "2020-12-04 16:07:12 WARNING: A timestep was entered that has forced sPyNNaker to automatically slow the simulation down from real time by a factor of 10. To remove this automatic behaviour, please enter a timescaleFactor value in your .spynnaker.cfg\n",
      "2020-12-04 16:07:12 INFO: Setting time scale factor to 10.\n",
      "2020-12-04 16:07:12 INFO: Setting machine time step to 100 micro-seconds.\n",
      "2020-12-04 16:07:12 WARNING: Extra params {'threads': 1, 'filename': 'va.xml', 'label': 'VA'} have been applied to the setup command which we do not consider\n",
      "2020-12-04 16:07:12 INFO: Simulating for 26763 0.1ms timesteps using a hardware timestep of 10us\n",
      "2020-12-04 16:07:12 INFO: Starting execution process\n"
     ]
    },
    {
     "name": "stdout",
     "output_type": "stream",
     "text": [
      "simtime---(1296, 2676.381909547739)\n",
      "['/home/spinnaker/sPyNNaker/lib/python3.6/site-packages/spinn_front_end_common/interface/spinnaker.cfg', '/home/spinnaker/sPyNNaker/lib/python3.6/site-packages/spynnaker/pyNN/spynnaker.cfg', '/home/spinnaker/.spynnaker.cfg']\n"
     ]
    },
    {
     "name": "stderr",
     "output_type": "stream",
     "text": [
      "2020-12-04 16:07:15 INFO: Time 0:00:03.688597 taken by SpallocMaxMachineGenerator\n",
      "Pre allocating resources for Extra Monitor support vertices\n",
      "|0%                          50%                         100%|\n",
      " =================="
     ]
    }
   ],
   "source": [
    "results = scan(variables=variables, values=values)\n",
    "results"
   ]
  },
  {
   "cell_type": "markdown",
   "metadata": {},
   "source": [
    "## analysis"
   ]
  },
  {
   "cell_type": "code",
   "execution_count": null,
   "metadata": {},
   "outputs": [],
   "source": [
    "results_ext = results.copy()\n",
    "results_ext['simtime_N_pop'] = results_ext['simtime'] * results_ext['N_pop']\n",
    "results_ext"
   ]
  },
  {
   "cell_type": "code",
   "execution_count": null,
   "metadata": {},
   "outputs": [],
   "source": [
    "variables_ext = ['N_pop', 'simtime_N_pop']\n",
    "X = results_ext[variables_ext].values.reshape(-1, len(variables_ext))\n"
   ]
  },
  {
   "cell_type": "markdown",
   "metadata": {},
   "source": [
    "https://aegis4048.github.io/mutiple_linear_regression_and_visualization_in_python"
   ]
  },
  {
   "cell_type": "markdown",
   "metadata": {},
   "source": [
    "See https://patsy.readthedocs.io/en/latest/quickstart.html"
   ]
  },
  {
   "cell_type": "code",
   "execution_count": null,
   "metadata": {},
   "outputs": [],
   "source": [
    "import patsy\n",
    "import statsmodels.api as sm\n",
    "\n",
    "for regressor in ['buildCPUTime', 'simCPUTime', 'writeCPUTime']:\n",
    "    y = results_ext[regressor].values\n",
    "    #print(variables_ext, X.shape, y.shape)\n",
    "    y, X = patsy.dmatrices('{regressor} ~ 0 + N_pop + simtime_N_pop'.format(regressor=regressor), data=results_ext, return_type='dataframe')\n",
    "\n",
    "    fit = sm.OLS(y, X).fit()\n",
    "    fit.summary()\n",
    "\n",
    "    print('{regressor} (ms) = {fit0:.3f} * N_pop + {fit1:.3f}/1000 * simtime (ms) * N_pop'.format(regressor=regressor, fit0=fit.params[0], fit1=fit.params[1]*1000))"
   ]
  }
 ],
 "metadata": {
  "anaconda-cloud": {},
  "kernelspec": {
   "display_name": "Python 3",
   "language": "python",
   "name": "python3"
  },
  "language_info": {
   "codemirror_mode": {
    "name": "ipython",
    "version": 3
   },
   "file_extension": ".py",
   "mimetype": "text/x-python",
   "name": "python",
   "nbconvert_exporter": "python",
   "pygments_lexer": "ipython3",
   "version": "3.8.5"
  },
  "toc": {
   "base_numbering": 1,
   "nav_menu": {},
   "number_sections": true,
   "sideBar": true,
   "skip_h1_title": false,
   "title_cell": "Table of Contents",
   "title_sidebar": "Contents",
   "toc_cell": false,
   "toc_position": {
    "height": "calc(100% - 180px)",
    "left": "10px",
    "top": "150px",
    "width": "414.667px"
   },
   "toc_section_display": true,
   "toc_window_display": true
  },
  "toc-autonumbering": true
 },
 "nbformat": 4,
 "nbformat_minor": 4
}
