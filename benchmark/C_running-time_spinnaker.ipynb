{
 "cells": [
  {
   "cell_type": "code",
   "execution_count": 1,
   "metadata": {},
   "outputs": [
    {
     "name": "stdout",
     "output_type": "stream",
     "text": [
      "Detected PyNN version 0.9.4 and Neo version 0.6.1\n",
      "2020-12-07T09:15:18+00:00\n",
      "\n",
      "CPython 3.6.9\n",
      "IPython 7.15.0\n",
      "\n",
      "numpy 1.19.0\n",
      "matplotlib 3.2.2\n",
      "pyNN 0.9.4\n",
      "neo 0.6.1\n",
      "nixio 1.4.9\n",
      "pandas 1.1.4\n",
      "\n",
      "compiler   : GCC 8.4.0\n",
      "system     : Linux\n",
      "release    : 4.4.0-87-generic\n",
      "machine    : x86_64\n",
      "processor  : x86_64\n",
      "CPU cores  : 32\n",
      "interpreter: 64bit\n",
      "host name  : 96c3276e2566\n",
      "Git hash   : 6673a6ed412b75cef571cd9236f1cdc419ae601e\n",
      "Git repo   : https://github.com/SpikeAI/2020-11_brainhack_Project7\n",
      "Git branch : main\n"
     ]
    }
   ],
   "source": [
    "%load_ext autoreload\n",
    "%autoreload 2\n",
    "%run A_simple_net.ipynb"
   ]
  },
  {
   "cell_type": "code",
   "execution_count": 2,
   "metadata": {},
   "outputs": [],
   "source": [
    "%mkdir -p outputs"
   ]
  },
  {
   "cell_type": "code",
   "execution_count": 3,
   "metadata": {},
   "outputs": [],
   "source": [
    "%mkdir -p Results/20201207/"
   ]
  },
  {
   "cell_type": "markdown",
   "metadata": {},
   "source": [
    "# scanning over single parameters"
   ]
  },
  {
   "cell_type": "markdown",
   "metadata": {},
   "source": [
    "## initializing parameters"
   ]
  },
  {
   "cell_type": "code",
   "execution_count": 4,
   "metadata": {},
   "outputs": [],
   "source": [
    "tag = '2020-12-04_scan_' + simulator"
   ]
  },
  {
   "cell_type": "code",
   "execution_count": 5,
   "metadata": {},
   "outputs": [
    {
     "name": "stderr",
     "output_type": "stream",
     "text": [
      "2020-12-07 09:15:19 INFO: Read cfg files: /home/spinnaker/sPyNNaker/lib/python3.6/site-packages/spinn_front_end_common/interface/spinnaker.cfg, /home/spinnaker/sPyNNaker/lib/python3.6/site-packages/spynnaker/pyNN/spynnaker.cfg, /home/spinnaker/.spynnaker.cfg\n",
      "2020-12-07 09:15:19 INFO: Will search these locations for binaries: /home/spinnaker/sPyNNaker/lib/python3.6/site-packages/spinn_front_end_common/common_model_binaries : /home/spinnaker/sPyNNaker/lib/python3.6/site-packages/spynnaker/pyNN/model_binaries\n"
     ]
    },
    {
     "name": "stdout",
     "output_type": "stream",
     "text": [
      "['/home/spinnaker/sPyNNaker/lib/python3.6/site-packages/spinn_front_end_common/interface/spinnaker.cfg', '/home/spinnaker/sPyNNaker/lib/python3.6/site-packages/spynnaker/pyNN/spynnaker.cfg', '/home/spinnaker/.spynnaker.cfg']\n"
     ]
    },
    {
     "name": "stderr",
     "output_type": "stream",
     "text": [
      "2020-12-07 09:15:19 WARNING: /home/spinnaker/2020-11_brainhack_Project7/benchmark/reports has 4 old reports that have not been closed\n",
      "2020-12-07 09:15:19 WARNING: /home/spinnaker/2020-11_brainhack_Project7/benchmark/application_generated_data_files has 4 old reports that have not been closed\n",
      "2020-12-07 09:15:19 WARNING: A timestep was entered that has forced sPyNNaker to automatically slow the simulation down from real time by a factor of 10. To remove this automatic behaviour, please enter a timescaleFactor value in your .spynnaker.cfg\n",
      "2020-12-07 09:15:19 INFO: Setting time scale factor to 10.\n",
      "2020-12-07 09:15:19 INFO: Setting machine time step to 100 micro-seconds.\n",
      "2020-12-07 09:15:19 WARNING: Extra params {'threads': 1, 'filename': 'va.xml', 'label': 'VA'} have been applied to the setup command which we do not consider\n",
      "2020-12-07 09:15:19 INFO: Simulating for 10000 0.1ms timesteps using a hardware timestep of 10us\n",
      "2020-12-07 09:15:19 INFO: Starting execution process\n"
     ]
    },
    {
     "name": "stdout",
     "output_type": "stream",
     "text": [
      "0 Creating cell populations...\n",
      "0 Initialising membrane potential to random values...\n",
      "0 Connecting populations...\n",
      "0 Setting up recording...\n",
      "0 Running simulation...\n"
     ]
    },
    {
     "name": "stderr",
     "output_type": "stream",
     "text": [
      "2020-12-07 09:15:23 INFO: Time 0:00:03.273703 taken by SpallocMaxMachineGenerator\n",
      "Pre allocating resources for Extra Monitor support vertices\n",
      "|0%                          50%                         100%|\n",
      " ============================================================\n",
      "2020-12-07 09:15:31 INFO: Time 0:00:08.890400 taken by PreAllocateResourcesForExtraMonitorSupport\n",
      "Partitioning graph vertices\n",
      "|0%                          50%                         100%|\n",
      " ============================================================\n",
      "Partitioning graph edges\n",
      "|0%                          50%                         100%|\n",
      " ============================================================\n",
      "2020-12-07 09:15:37 INFO: Time 0:00:05.374019 taken by PartitionAndPlacePartitioner\n",
      "Created spalloc job 5541646\n",
      "2020-12-07 09:15:37 INFO: Created spalloc job 5541646\n",
      "Waiting for board power commands to complete.\n",
      "2020-12-07 09:15:37 INFO: Waiting for board power commands to complete.\n",
      "2020-12-07 09:15:42 INFO: Time 0:00:05.050148 taken by SpallocAllocator\n",
      "2020-12-07 09:15:42 INFO: Creating transceiver for 10.11.195.65\n",
      "2020-12-07 09:15:42 INFO: Working out if machine is booted\n",
      "2020-12-07 09:15:46 INFO: Attempting to boot machine\n",
      "2020-12-07 09:15:51 INFO: Found board with version [Version: SC&MP 3.2.5 at SpiNNaker:0:0:0 (built Thu Aug  1 08:15:06 2019)]\n",
      "2020-12-07 09:15:51 INFO: Machine communication successful\n",
      "2020-12-07 09:15:51 INFO: Detected a machine on IP address 10.11.195.65 which has 838 cores and 117.0 links\n",
      "2020-12-07 09:15:51 INFO: Time 0:00:09.634178 taken by MachineGenerator\n",
      "Generating partitioner report\n",
      "|0%                          50%                         100%|\n",
      " ============================================================\n",
      "2020-12-07 09:15:51 INFO: Time 0:00:00.005532 taken by PartitionerReport\n",
      "2020-12-07 09:15:51 INFO: Time 0:00:00.000691 taken by NetworkSpecificationReport\n",
      "Allocating virtual identifiers\n",
      "|0%                          50%                         100%|\n",
      " ============================================================\n",
      "2020-12-07 09:15:52 INFO: Time 0:00:00.026786 taken by MallocBasedChipIDAllocator\n",
      "Inserting extra monitors into graphs\n",
      "|0%                          50%                         100%|\n",
      " ============================================================\n",
      "2020-12-07 09:15:52 INFO: Time 0:00:00.030870 taken by InsertExtraMonitorVerticesToGraphs\n",
      "Writing the board chip report\n",
      "|0%                          50%                         100%|\n",
      " ============================================================\n",
      "2020-12-07 09:15:52 INFO: Time 0:00:00.006692 taken by BoardChipReport\n",
      "Filtering edges\n",
      "|0%                          50%                         100%|\n",
      " ============================================================\n",
      "2020-12-07 09:15:52 INFO: Time 0:00:00.033813 taken by GraphEdgeFilter\n",
      "Placing graph vertices\n",
      "|0%                          50%                         100%|\n",
      " ============================================================\n",
      "2020-12-07 09:15:52 INFO: Time 0:00:00.038649 taken by OneToOnePlacer\n",
      "Inserting edges between vertices which require FR speed up functionality.\n",
      "|0%                          50%                         100%|\n",
      " ============================================================\n",
      "2020-12-07 09:15:52 INFO: Time 0:00:00.061087 taken by InsertEdgesToExtraMonitorFunctionality\n",
      "Generating routing tables for data in system processes\n",
      "|0%                          50%                         100%|\n",
      " ============================================================\n",
      "2020-12-07 09:15:52 INFO: Time 0:00:00.010476 taken by DataInMulticastRoutingGenerator\n",
      "Generating fixed router routes\n",
      "|0%                          50%                         100%|\n",
      " ============================================================\n",
      "2020-12-07 09:15:52 INFO: Time 0:00:00.025279 taken by FixedRouteRouter\n",
      "Generating placement report\n",
      "|0%                          50%                         100%|\n",
      " ============================================================\n",
      "Generating placement by core report\n",
      "|0%                          50%                         100%|\n",
      " ============================================================\n",
      "2020-12-07 09:15:52 INFO: Time 0:00:00.062936 taken by PlacerReportWithApplicationGraph\n",
      "Routing\n",
      "|0%                          50%                         100%|\n",
      " ============================================================\n",
      "\n",
      "2020-12-07 09:15:52 INFO: Time 0:00:00.027543 taken by NerRoute\n",
      "Discovering tags\n",
      "|0%                          50%                         100%|\n",
      " ============================================================\n",
      "Allocating tags\n",
      "|0%                          50%                         100%|\n",
      " ============================================================\n",
      "2020-12-07 09:15:52 INFO: Time 0:00:00.031033 taken by BasicTagAllocator\n",
      "Reporting Tags\n",
      "|0%                          50%                         100%|\n",
      " ============================================================\n",
      "2020-12-07 09:15:52 INFO: Time 0:00:00.014190 taken by TagReport\n",
      "Getting number of keys required by each edge using application graph\n",
      "|0%                          50%                         100%|\n",
      " ============================================================\n",
      "2020-12-07 09:15:52 INFO: Time 0:00:00.032445 taken by EdgeToNKeysMapper\n",
      "Getting constraints for application graph\n",
      "|0%                          50%                         100%|\n",
      " ============================================================\n",
      "2020-12-07 09:15:52 INFO: Time 0:00:00.028793 taken by ProcessPartitionConstraints\n",
      "Allocating routing keys\n",
      "|0%                          50%                         100%|\n",
      " ============================================================\n",
      "2020-12-07 09:15:52 INFO: Time 0:00:00.010933 taken by MallocBasedRoutingInfoAllocator\n",
      "Generating Routing info report\n",
      "|0%                          50%                         100%|\n",
      " ============================================================\n",
      "2020-12-07 09:15:52 INFO: Time 0:00:00.028748 taken by routingInfoReports\n",
      "Generating routing tables\n",
      "|0%                          50%                         100%|\n",
      " ============================================================\n",
      "2020-12-07 09:15:52 INFO: Time 0:00:00.023281 taken by BasicRoutingTableGenerator\n",
      "Finding executable start types\n",
      "|0%                          50%                         100%|\n",
      " ============================================================\n",
      "2020-12-07 09:15:52 INFO: Time 0:00:00.037939 taken by LocateExecutableStartType\n",
      "Initialising buffers\n",
      "|0%                          50%                         100%|\n",
      " ============================================================\n",
      "2020-12-07 09:15:52 INFO: Time 0:00:00.030301 taken by BufferManagerCreator\n",
      "Generating data specifications\n",
      "|0%                          50%                         100%|\n",
      " ============================================================\n",
      "2020-12-07 09:15:52 INFO: Time 0:00:00.369137 taken by SpynnakerDataSpecificationWriter\n",
      "Preparing Routing Tables\n",
      "|0%                          50%                         100%|\n",
      " ============================================================\n",
      "2020-12-07 09:15:52 INFO: Time 0:00:00.007260 taken by RoutingSetup\n",
      "Finding binaries\n",
      "|0%                          50%                         100%|\n",
      " ============================================================\n",
      "2020-12-07 09:15:53 INFO: Time 0:00:00.028425 taken by GraphBinaryGatherer\n",
      "Running routing table compression on chip\n",
      "|0%                          50%                         100%|\n",
      " ============================================================\n",
      "2020-12-07 09:15:57 INFO: Time 0:00:04.516971 taken by MundyOnChipRouterCompression\n",
      "Generating Router table report\n",
      "|0%                          50%                         100%|\n",
      " ============================================================\n",
      "2020-12-07 09:15:57 INFO: Time 0:00:00.007315 taken by unCompressedRoutingTableReports\n",
      "loading fixed routes\n",
      "|0%                          50%                         100%|\n",
      " ============================================================\n",
      "2020-12-07 09:15:57 INFO: Time 0:00:00.047415 taken by LoadFixedRoutes\n",
      "Executing data specifications and loading data for system vertices\n",
      "|0%                          50%                         100%|\n",
      " ============================================================\n",
      "2020-12-07 09:15:57 INFO: Time 0:00:00.150152 taken by HostExecuteSystemDataSpecification\n",
      "Loading system executables onto the machine\n",
      "|0%                          50%                         100%|\n",
      " ============================================================\n",
      "2020-12-07 09:16:03 INFO: Time 0:00:05.720072 taken by LoadSystemExecutableImages\n",
      "Clearing tags\n",
      "|0%                          50%                         100%|\n",
      " ============================================================\n",
      "Loading Tags\n",
      "|0%                          50%                         100%|\n",
      " ============================================================\n",
      "2020-12-07 09:16:03 INFO: Time 0:00:00.018710 taken by TagsLoader\n",
      "Writing data\n",
      "|0%                          50%                         100%|\n",
      " ============================================================\n",
      "2020-12-07 09:16:03 INFO: Time 0:00:00.030182 taken by WriteMemoryIOData\n",
      "Executing data specifications and loading data for application vertices\n",
      "|0%                          50%                         100%|\n",
      " ============================================================\n",
      "2020-12-07 09:16:03 INFO: Time 0:00:00.205004 taken by HostExecuteApplicationDataSpecification\n",
      "Expanding Synapses\n",
      "|0%                          50%                         100%|\n",
      " ============================================================\n",
      "2020-12-07 09:16:07 INFO: Time 0:00:03.881632 taken by SynapseExpander\n",
      "Writing fixed route report\n",
      "|0%                          50%                         100%|\n",
      " ============================================================\n",
      "2020-12-07 09:16:07 INFO: Time 0:00:00.040015 taken by FixedRouteFromMachineReport\n",
      "Loading executables onto the machine\n",
      "|0%                          50%                         100%|\n",
      " ============================================================\n",
      "2020-12-07 09:16:14 INFO: Time 0:00:06.876557 taken by LoadApplicationExecutableImages\n",
      "Reading Routing Tables from Machine\n",
      "|0%                          50%                         100%|\n",
      " ============================================================\n",
      "2020-12-07 09:16:14 INFO: Time 0:00:00.013182 taken by RoutingTableFromMachineReport\n",
      "Generating compressed router table report\n",
      "|0%                          50%                         100%|\n",
      " ============================================================\n",
      "2020-12-07 09:16:14 INFO: Time 0:00:00.007420 taken by compressedRoutingTableReports\n",
      "Generating comparison of router table report\n",
      "|0%                          50%                         100%|\n",
      " ============================================================\n",
      "2020-12-07 09:16:14 INFO: Time 0:00:00.007824 taken by comparisonOfRoutingTablesReport\n",
      "2020-12-07 09:16:14 INFO: Running for 1 steps for a total of 1000.0ms\n",
      "2020-12-07 09:16:14 INFO: Run 1 of 1\n",
      "Generating SDRAM usage report\n",
      "|0%                          50%                         100%|\n",
      " ============================================================\n",
      "2020-12-07 09:16:14 INFO: Time 0:00:00.054891 taken by SdramUsageReportPerChip\n",
      "Updating run time\n",
      "|0%                          50%                         100%|\n",
      " ============================================================\n",
      "2020-12-07 09:16:14 INFO: Time 0:00:00.027686 taken by ChipRuntimeUpdater\n",
      "2020-12-07 09:16:14 INFO: creating live event connection database in /home/spinnaker/2020-11_brainhack_Project7/benchmark/application_generated_data_files/2020-12-07-09-15-19-672548/run_1/input_output_database.db\n",
      "Creating graph description database\n",
      "|0%                          50%                         100%|\n",
      " ============================================================\n",
      "2020-12-07 09:16:14 INFO: Time 0:00:00.066520 taken by DatabaseInterface\n",
      "2020-12-07 09:16:14 INFO: ** Notifying external sources that the database is ready for reading **\n",
      "2020-12-07 09:16:14 INFO: Time 0:00:00.001496 taken by NotificationProtocol\n",
      "2020-12-07 09:16:14 INFO: *** Running simulation... *** \n",
      "Loading buffers\n",
      "|0%                          50%                         100%|\n",
      " ============================================================\n",
      "2020-12-07 09:16:14 INFO: ** Awaiting for a response from an external source to state its ready for the simulation to start **\n",
      "2020-12-07 09:16:14 INFO: ** Sending start / resume message to external sources to state the simulation has started or resumed. **\n",
      "2020-12-07 09:16:14 INFO: ** Awaiting for a response from an external source to state its ready for the simulation to start **\n",
      "2020-12-07 09:16:14 INFO: Application started; waiting 10.1s for it to stop\n",
      "2020-12-07 09:16:24 INFO: ** Sending pause / stop message to external sources to state the simulation has been paused or stopped. **\n",
      "2020-12-07 09:16:24 INFO: Time 0:00:10.192777 taken by ApplicationRunner\n",
      "Extracting buffers from the last run\n",
      "|0%                          50%                         100%|\n",
      " ============================================================\n",
      "2020-12-07 09:16:25 INFO: Time 0:00:00.132661 taken by BufferExtractor\n",
      "Getting provenance data from machine graph\n",
      "|0%                          50%                         100%|\n",
      " ============================================================\n",
      "Getting provenance data from application graph\n",
      "|0%                          50%                         100%|\n",
      " ============================================================\n",
      "2020-12-07 09:16:25 INFO: Time 0:00:00.083164 taken by GraphProvenanceGatherer\n",
      "Getting provenance data\n",
      "|0%                          50%                         100%|\n",
      " ============================================================\n",
      "2020-12-07 09:16:25 INFO: Time 0:00:00.034105 taken by PlacementsProvenanceGatherer\n",
      "Getting Router Provenance\n",
      "|0%                          50%                         100%|\n",
      " ============================================================\n",
      "2020-12-07 09:16:25 INFO: Time 0:00:00.053278 taken by RouterProvenanceGatherer\n",
      "Getting profile data\n",
      "|0%                          50%                         100%|\n",
      " ============================================================\n",
      "2020-12-07 09:16:25 INFO: Time 0:00:00.034257 taken by ProfileDataGatherer\n",
      "2020-12-07 09:16:25 INFO: get_spike_counts is inefficient as it just counts the results of get_datas('spikes')\n",
      "Getting spikes for All Cells\n",
      "|0%                          50%                         100%|\n",
      " ============================================================\n",
      "2020-12-07 09:16:25 INFO: get_spike_counts is inefficient as it just counts the results of get_datas('spikes')\n",
      "Getting spikes for All Cells\n",
      "|0%                          50%                         100%|\n",
      " ============================================================\n",
      "Getting spikes for All Cells\n",
      "|0%                          50%                         100%|\n",
      " ============================================================\n",
      "Getting v for All Cells\n",
      "|0%                          50%                         100%|\n",
      " ============================================================\n",
      "Getting spikes for All Cells\n",
      "|0%                          50%                         100%|\n",
      " ============================================================"
     ]
    },
    {
     "name": "stdout",
     "output_type": "stream",
     "text": [
      "0 Writing data to file...\n"
     ]
    },
    {
     "name": "stderr",
     "output_type": "stream",
     "text": [
      "\n",
      "Getting v for All Cells\n",
      "|0%                          50%                         100%|\n",
      " ============================================================"
     ]
    },
    {
     "name": "stdout",
     "output_type": "stream",
     "text": [
      "\n",
      "--- Vogels-Abbott Network Simulation ---\n",
      "Nodes                  : 1\n",
      "Number of Neurons      : 1000\n",
      "Excitatory conductance : 4 nS\n",
      "Inhibitory conductance : 51 nS\n",
      "Excitatory rate        : 1.37 Hz\n",
      "Inhibitory rate        : 1.285 Hz\n",
      "Build time             : 5.7838 ms\n",
      "Simulation time        : 65769.8 ms\n",
      "Writing time           : 243.355 ms\n"
     ]
    },
    {
     "name": "stderr",
     "output_type": "stream",
     "text": [
      "\n"
     ]
    }
   ],
   "source": [
    "buildCPUTime, simCPUTime, writeCPUTime = run(verbose=True)"
   ]
  },
  {
   "cell_type": "markdown",
   "metadata": {},
   "source": [
    "## Running Model and Loading Results"
   ]
  },
  {
   "cell_type": "code",
   "execution_count": 6,
   "metadata": {},
   "outputs": [],
   "source": [
    "import os\n",
    "import pandas as pd\n",
    "verbose = True\n",
    "def scan(variable, values, tag=tag, verbose=verbose):\n",
    "    filename = 'outputs/{tag}_{variable}.json'.format(tag=tag, variable=variable)\n",
    "    try:\n",
    "        df = pd.read_json(filename)\n",
    "        print('Loaded file')\n",
    "    except:\n",
    "        df = pd.DataFrame([], columns=[variable, 'buildCPUTime', 'simCPUTime', 'writeCPUTime'])\n",
    "        for i, value in enumerate(values):\n",
    "            if verbose: print('{variable=}---{value=}'.format(value=value, variable=variable))\n",
    "            args = {}\n",
    "            args[variable] = value\n",
    "            buildCPUTime, simCPUTime, writeCPUTime = run(**args)\n",
    "            df.loc[i]= {variable: value, 'buildCPUTime':buildCPUTime, 'simCPUTime':simCPUTime, 'writeCPUTime':writeCPUTime}\n",
    "        df.to_json(filename)\n",
    "    return df"
   ]
  },
  {
   "cell_type": "code",
   "execution_count": 7,
   "metadata": {},
   "outputs": [],
   "source": [
    "import matplotlib.pyplot as plt\n",
    "\n",
    "# https://stackoverflow.com/questions/31978948/python-stats-models-quadratic-term-in-regression\n",
    "def plot(df, do_intercept=True):\n",
    "    variable = df.columns[0]\n",
    "    fig, ax = plt.subplots(figsize=(8,8))\n",
    "    \n",
    "    for regressor, color in zip(['buildCPUTime', 'simCPUTime', 'writeCPUTime'],\n",
    "                                ['r', 'g', 'b']):\n",
    "\n",
    "        import patsy\n",
    "        if do_intercept:\n",
    "            y, X = patsy.dmatrices('{regressor} ~ {variable}'.format(regressor=regressor, variable=variable), data=df, return_type='dataframe')\n",
    "        else:\n",
    "            y, X = patsy.dmatrices('{regressor} ~ 0 + {variable}'.format(regressor=regressor, variable=variable), data=df, return_type='dataframe')\n",
    "\n",
    "        import statsmodels.api as sm\n",
    "        fit = sm.OLS(y, X).fit()\n",
    "        print(fit.summary())\n",
    "\n",
    "        if do_intercept: intercept = fit.params.Intercept\n",
    "        slope = fit.params[variable]\n",
    "\n",
    "        values = np.array(df[variable])\n",
    "        if do_intercept:\n",
    "            ax.plot(values, intercept + slope*values, c=color, lw=2, label=f\"{regressor}={slope:.3f}*{variable} + {intercept:.3f}\")\n",
    "        else:\n",
    "            ax.plot(values, slope*values, c=color, lw=2, label=f\"{regressor}={slope:.3f}*{variable}\")\n",
    "        df.plot(x=variable, y=regressor, c=color, lw=1, ls='-.', ax=ax, legend=False)\n",
    "\n",
    "    ax.set_xlim(0)\n",
    "    ax.set_ylabel('Time (ms)')\n",
    "    ax.set_ylim(0)\n",
    "    ax.legend()\n",
    "    return fig, ax"
   ]
  },
  {
   "cell_type": "markdown",
   "metadata": {},
   "source": [
    "## plot as a function of neuron numbers"
   ]
  },
  {
   "cell_type": "code",
   "execution_count": 8,
   "metadata": {},
   "outputs": [
    {
     "data": {
      "text/plain": [
       "array([  64,  196,  361,  484,  625,  784,  961, 1089, 1225, 1369, 1521,\n",
       "       1681, 1849, 2025])"
      ]
     },
     "execution_count": 8,
     "metadata": {},
     "output_type": "execute_result"
    }
   ],
   "source": [
    "import numpy as np\n",
    "N_pops = np.array([int(k)**2 for k in np.linspace(8**2, 45**2, 14, endpoint=True)**.5])\n",
    "N_pops"
   ]
  },
  {
   "cell_type": "code",
   "execution_count": 9,
   "metadata": {},
   "outputs": [
    {
     "name": "stdout",
     "output_type": "stream",
     "text": [
      "Loaded file\n"
     ]
    }
   ],
   "source": [
    "results_pop = scan('N_pop', N_pops)"
   ]
  },
  {
   "cell_type": "code",
   "execution_count": 10,
   "metadata": {},
   "outputs": [
    {
     "data": {
      "application/vnd.jupyter.widget-view+json": {
       "model_id": "4f5f74d7b25d439097f5fd910c62897b",
       "version_major": 2,
       "version_minor": 0
      },
      "text/plain": [
       "Canvas(toolbar=Toolbar(toolitems=[('Home', 'Reset original view', 'home', 'home'), ('Back', 'Back to previous …"
      ]
     },
     "metadata": {},
     "output_type": "display_data"
    },
    {
     "name": "stdout",
     "output_type": "stream",
     "text": [
      "                            OLS Regression Results                            \n",
      "==============================================================================\n",
      "Dep. Variable:           buildCPUTime   R-squared:                       0.003\n",
      "Model:                            OLS   Adj. R-squared:                 -0.080\n",
      "Method:                 Least Squares   F-statistic:                   0.03301\n",
      "Date:                Mon, 07 Dec 2020   Prob (F-statistic):              0.859\n",
      "Time:                        09:16:27   Log-Likelihood:                -11.424\n",
      "No. Observations:                  14   AIC:                             26.85\n",
      "Df Residuals:                      12   BIC:                             28.13\n",
      "Df Model:                           1                                         \n",
      "Covariance Type:            nonrobust                                         \n",
      "==============================================================================\n",
      "                 coef    std err          t      P>|t|      [0.025      0.975]\n",
      "------------------------------------------------------------------------------\n",
      "Intercept      5.7428      0.310     18.536      0.000       5.068       6.418\n",
      "N_pop      -4.763e-05      0.000     -0.182      0.859      -0.001       0.001\n",
      "==============================================================================\n",
      "Omnibus:                       10.684   Durbin-Watson:                   0.907\n",
      "Prob(Omnibus):                  0.005   Jarque-Bera (JB):                6.622\n",
      "Skew:                           1.277   Prob(JB):                       0.0365\n",
      "Kurtosis:                       5.198   Cond. No.                     2.32e+03\n",
      "==============================================================================\n",
      "\n",
      "Notes:\n",
      "[1] Standard Errors assume that the covariance matrix of the errors is correctly specified.\n",
      "[2] The condition number is large, 2.32e+03. This might indicate that there are\n",
      "strong multicollinearity or other numerical problems.\n",
      "                            OLS Regression Results                            \n",
      "==============================================================================\n",
      "Dep. Variable:             simCPUTime   R-squared:                       0.079\n",
      "Model:                            OLS   Adj. R-squared:                  0.003\n",
      "Method:                 Least Squares   F-statistic:                     1.034\n",
      "Date:                Mon, 07 Dec 2020   Prob (F-statistic):              0.329\n",
      "Time:                        09:16:27   Log-Likelihood:                -122.20\n",
      "No. Observations:                  14   AIC:                             248.4\n",
      "Df Residuals:                      12   BIC:                             249.7\n",
      "Df Model:                           1                                         \n",
      "Covariance Type:            nonrobust                                         \n",
      "==============================================================================\n",
      "                 coef    std err          t      P>|t|      [0.025      0.975]\n",
      "------------------------------------------------------------------------------\n",
      "Intercept   6.656e+04    846.356     78.642      0.000    6.47e+04    6.84e+04\n",
      "N_pop          0.7281      0.716      1.017      0.329      -0.832       2.288\n",
      "==============================================================================\n",
      "Omnibus:                        2.411   Durbin-Watson:                   2.376\n",
      "Prob(Omnibus):                  0.300   Jarque-Bera (JB):                1.664\n",
      "Skew:                           0.669   Prob(JB):                        0.435\n",
      "Kurtosis:                       1.971   Cond. No.                     2.32e+03\n",
      "==============================================================================\n",
      "\n",
      "Notes:\n",
      "[1] Standard Errors assume that the covariance matrix of the errors is correctly specified.\n",
      "[2] The condition number is large, 2.32e+03. This might indicate that there are\n",
      "strong multicollinearity or other numerical problems.\n",
      "                            OLS Regression Results                            \n",
      "==============================================================================\n",
      "Dep. Variable:           writeCPUTime   R-squared:                       0.834\n",
      "Model:                            OLS   Adj. R-squared:                  0.820\n",
      "Method:                 Least Squares   F-statistic:                     60.17\n",
      "Date:                Mon, 07 Dec 2020   Prob (F-statistic):           5.15e-06\n",
      "Time:                        09:16:27   Log-Likelihood:                -84.539\n",
      "No. Observations:                  14   AIC:                             173.1\n",
      "Df Residuals:                      12   BIC:                             174.4\n",
      "Df Model:                           1                                         \n",
      "Covariance Type:            nonrobust                                         \n",
      "==============================================================================\n",
      "                 coef    std err          t      P>|t|      [0.025      0.975]\n",
      "------------------------------------------------------------------------------\n",
      "Intercept    -52.8055     57.440     -0.919      0.376    -177.957      72.346\n",
      "N_pop          0.3770      0.049      7.757      0.000       0.271       0.483\n",
      "==============================================================================\n",
      "Omnibus:                        0.314   Durbin-Watson:                   0.648\n",
      "Prob(Omnibus):                  0.855   Jarque-Bera (JB):                0.461\n",
      "Skew:                           0.170   Prob(JB):                        0.794\n",
      "Kurtosis:                       2.179   Cond. No.                     2.32e+03\n",
      "==============================================================================\n",
      "\n",
      "Notes:\n",
      "[1] Standard Errors assume that the covariance matrix of the errors is correctly specified.\n",
      "[2] The condition number is large, 2.32e+03. This might indicate that there are\n",
      "strong multicollinearity or other numerical problems.\n"
     ]
    },
    {
     "name": "stderr",
     "output_type": "stream",
     "text": [
      "/home/spinnaker/sPyNNaker/lib/python3.6/site-packages/scipy/stats/stats.py:1604: UserWarning: kurtosistest only valid for n>=20 ... continuing anyway, n=14\n",
      "  \"anyway, n=%i\" % int(n))\n",
      "/home/spinnaker/sPyNNaker/lib/python3.6/site-packages/scipy/stats/stats.py:1604: UserWarning: kurtosistest only valid for n>=20 ... continuing anyway, n=14\n",
      "  \"anyway, n=%i\" % int(n))\n",
      "/home/spinnaker/sPyNNaker/lib/python3.6/site-packages/scipy/stats/stats.py:1604: UserWarning: kurtosistest only valid for n>=20 ... continuing anyway, n=14\n",
      "  \"anyway, n=%i\" % int(n))\n"
     ]
    }
   ],
   "source": [
    "fig, ax = plot(results_pop)"
   ]
  },
  {
   "cell_type": "code",
   "execution_count": 11,
   "metadata": {},
   "outputs": [],
   "source": [
    "fig.savefig(tag + '_N_pop.png')"
   ]
  },
  {
   "cell_type": "markdown",
   "metadata": {},
   "source": [
    "## plot as a function of simtime"
   ]
  },
  {
   "cell_type": "code",
   "execution_count": 12,
   "metadata": {},
   "outputs": [
    {
     "data": {
      "text/plain": [
       "array([ 500.        ,  678.57142857,  857.14285714, 1035.71428571,\n",
       "       1214.28571429, 1392.85714286, 1571.42857143, 1750.        ,\n",
       "       1928.57142857, 2107.14285714, 2285.71428571, 2464.28571429,\n",
       "       2642.85714286, 2821.42857143, 3000.        ])"
      ]
     },
     "execution_count": 12,
     "metadata": {},
     "output_type": "execute_result"
    }
   ],
   "source": [
    "simtimes = np.linspace(500, 3000, 15, endpoint=True)\n",
    "simtimes"
   ]
  },
  {
   "cell_type": "code",
   "execution_count": 13,
   "metadata": {},
   "outputs": [
    {
     "name": "stdout",
     "output_type": "stream",
     "text": [
      "Loaded file\n"
     ]
    }
   ],
   "source": [
    "results_simtime = scan('simtime', simtimes)"
   ]
  },
  {
   "cell_type": "code",
   "execution_count": 14,
   "metadata": {},
   "outputs": [
    {
     "data": {
      "application/vnd.jupyter.widget-view+json": {
       "model_id": "b8f9c763780543e6b28a199b972e8f64",
       "version_major": 2,
       "version_minor": 0
      },
      "text/plain": [
       "Canvas(toolbar=Toolbar(toolitems=[('Home', 'Reset original view', 'home', 'home'), ('Back', 'Back to previous …"
      ]
     },
     "metadata": {},
     "output_type": "display_data"
    },
    {
     "name": "stdout",
     "output_type": "stream",
     "text": [
      "                            OLS Regression Results                            \n",
      "==============================================================================\n",
      "Dep. Variable:           buildCPUTime   R-squared:                       0.006\n",
      "Model:                            OLS   Adj. R-squared:                 -0.070\n",
      "Method:                 Least Squares   F-statistic:                   0.08426\n",
      "Date:                Mon, 07 Dec 2020   Prob (F-statistic):              0.776\n",
      "Time:                        09:16:28   Log-Likelihood:                -3.8948\n",
      "No. Observations:                  15   AIC:                             11.79\n",
      "Df Residuals:                      13   BIC:                             13.21\n",
      "Df Model:                           1                                         \n",
      "Covariance Type:            nonrobust                                         \n",
      "==============================================================================\n",
      "                 coef    std err          t      P>|t|      [0.025      0.975]\n",
      "------------------------------------------------------------------------------\n",
      "Intercept      5.0068      0.216     23.213      0.000       4.541       5.473\n",
      "simtime    -3.273e-05      0.000     -0.290      0.776      -0.000       0.000\n",
      "==============================================================================\n",
      "Omnibus:                        0.354   Durbin-Watson:                   2.282\n",
      "Prob(Omnibus):                  0.838   Jarque-Bera (JB):                0.237\n",
      "Skew:                           0.259   Prob(JB):                        0.888\n",
      "Kurtosis:                       2.667   Cond. No.                     4.74e+03\n",
      "==============================================================================\n",
      "\n",
      "Notes:\n",
      "[1] Standard Errors assume that the covariance matrix of the errors is correctly specified.\n",
      "[2] The condition number is large, 4.74e+03. This might indicate that there are\n",
      "strong multicollinearity or other numerical problems.\n",
      "                            OLS Regression Results                            \n",
      "==============================================================================\n",
      "Dep. Variable:             simCPUTime   R-squared:                       0.960\n",
      "Model:                            OLS   Adj. R-squared:                  0.956\n",
      "Method:                 Least Squares   F-statistic:                     308.2\n",
      "Date:                Mon, 07 Dec 2020   Prob (F-statistic):           1.95e-10\n",
      "Time:                        09:16:28   Log-Likelihood:                -131.23\n",
      "No. Observations:                  15   AIC:                             266.5\n",
      "Df Residuals:                      13   BIC:                             267.9\n",
      "Df Model:                           1                                         \n",
      "Covariance Type:            nonrobust                                         \n",
      "==============================================================================\n",
      "                 coef    std err          t      P>|t|      [0.025      0.975]\n",
      "------------------------------------------------------------------------------\n",
      "Intercept   5.821e+04   1048.712     55.508      0.000    5.59e+04    6.05e+04\n",
      "simtime        9.6265      0.548     17.556      0.000       8.442      10.811\n",
      "==============================================================================\n",
      "Omnibus:                        0.756   Durbin-Watson:                   2.295\n",
      "Prob(Omnibus):                  0.685   Jarque-Bera (JB):                0.737\n",
      "Skew:                           0.356   Prob(JB):                        0.692\n",
      "Kurtosis:                       2.180   Cond. No.                     4.74e+03\n",
      "==============================================================================\n",
      "\n",
      "Notes:\n",
      "[1] Standard Errors assume that the covariance matrix of the errors is correctly specified.\n",
      "[2] The condition number is large, 4.74e+03. This might indicate that there are\n",
      "strong multicollinearity or other numerical problems.\n",
      "                            OLS Regression Results                            \n",
      "==============================================================================\n",
      "Dep. Variable:           writeCPUTime   R-squared:                       0.158\n",
      "Model:                            OLS   Adj. R-squared:                  0.093\n",
      "Method:                 Least Squares   F-statistic:                     2.432\n",
      "Date:                Mon, 07 Dec 2020   Prob (F-statistic):              0.143\n",
      "Time:                        09:16:28   Log-Likelihood:                -82.638\n",
      "No. Observations:                  15   AIC:                             169.3\n",
      "Df Residuals:                      13   BIC:                             170.7\n",
      "Df Model:                           1                                         \n",
      "Covariance Type:            nonrobust                                         \n",
      "==============================================================================\n",
      "                 coef    std err          t      P>|t|      [0.025      0.975]\n",
      "------------------------------------------------------------------------------\n",
      "Intercept    328.4541     41.084      7.995      0.000     239.698     417.210\n",
      "simtime       -0.0335      0.021     -1.559      0.143      -0.080       0.013\n",
      "==============================================================================\n",
      "Omnibus:                       23.502   Durbin-Watson:                   1.454\n",
      "Prob(Omnibus):                  0.000   Jarque-Bera (JB):               28.008\n",
      "Skew:                           2.169   Prob(JB):                     8.28e-07\n",
      "Kurtosis:                       8.098   Cond. No.                     4.74e+03\n",
      "==============================================================================\n",
      "\n",
      "Notes:\n",
      "[1] Standard Errors assume that the covariance matrix of the errors is correctly specified.\n",
      "[2] The condition number is large, 4.74e+03. This might indicate that there are\n",
      "strong multicollinearity or other numerical problems.\n"
     ]
    },
    {
     "name": "stderr",
     "output_type": "stream",
     "text": [
      "/home/spinnaker/sPyNNaker/lib/python3.6/site-packages/scipy/stats/stats.py:1604: UserWarning: kurtosistest only valid for n>=20 ... continuing anyway, n=15\n",
      "  \"anyway, n=%i\" % int(n))\n",
      "/home/spinnaker/sPyNNaker/lib/python3.6/site-packages/scipy/stats/stats.py:1604: UserWarning: kurtosistest only valid for n>=20 ... continuing anyway, n=15\n",
      "  \"anyway, n=%i\" % int(n))\n",
      "/home/spinnaker/sPyNNaker/lib/python3.6/site-packages/scipy/stats/stats.py:1604: UserWarning: kurtosistest only valid for n>=20 ... continuing anyway, n=15\n",
      "  \"anyway, n=%i\" % int(n))\n"
     ]
    }
   ],
   "source": [
    "fig, ax = plot(results_simtime, do_intercept=True)      "
   ]
  },
  {
   "cell_type": "code",
   "execution_count": 15,
   "metadata": {},
   "outputs": [],
   "source": [
    "fig.savefig(tag + '_simtime.png')"
   ]
  },
  {
   "cell_type": "markdown",
   "metadata": {},
   "source": [
    "# scanning over two parameters"
   ]
  },
  {
   "cell_type": "markdown",
   "metadata": {},
   "source": [
    "## Setting-up model and initializing parameters"
   ]
  },
  {
   "cell_type": "code",
   "execution_count": 16,
   "metadata": {},
   "outputs": [],
   "source": [
    "tag = '2020-12-04_scan-2D_' + simulator"
   ]
  },
  {
   "cell_type": "markdown",
   "metadata": {},
   "source": [
    "## Running Model and Loading Results"
   ]
  },
  {
   "cell_type": "code",
   "execution_count": 17,
   "metadata": {},
   "outputs": [],
   "source": [
    "variables = ['N_pop', 'simtime']\n",
    "filename = 'outputs/' + tag\n",
    "for variable in variables: filename +=  '_' + variable\n",
    "filename += '.json'"
   ]
  },
  {
   "cell_type": "code",
   "execution_count": 18,
   "metadata": {},
   "outputs": [],
   "source": [
    "import os\n",
    "import time\n",
    "import pandas as pd\n",
    "verbose = True\n",
    "def scan(variables, values, tag=tag, verbose=verbose):\n",
    "    filename = 'outputs/' + tag\n",
    "    for variable in variables: filename +=  '_' + variable\n",
    "    filename += '.json'\n",
    "    try:\n",
    "        df = pd.read_json(filename)\n",
    "        print('Loaded file')\n",
    "    except:\n",
    "        df = pd.DataFrame([], columns=variables + ['buildCPUTime', 'simCPUTime', 'writeCPUTime'])\n",
    "        for i, values_ in enumerate(values):\n",
    "            if verbose: print('{variable}---{values_}'.format(values_=values_, variable=variable))\n",
    "            args = {}\n",
    "            for variable, value in zip(variables, values_):\n",
    "                args[variable] = value\n",
    "            buildCPUTime, simCPUTime, writeCPUTime = run(**args)\n",
    "            df.loc[i]= dict(zip(variables + ['buildCPUTime', 'simCPUTime', 'writeCPUTime'], \n",
    "                                list(values_) + [buildCPUTime, simCPUTime, writeCPUTime]))\n",
    "\n",
    "        df.to_json(filename)\n",
    "        \n",
    "    return df"
   ]
  },
  {
   "cell_type": "markdown",
   "metadata": {},
   "source": [
    "## Running time as a function of neuron numbers and simtime"
   ]
  },
  {
   "cell_type": "code",
   "execution_count": 19,
   "metadata": {},
   "outputs": [],
   "source": [
    "import numpy as np"
   ]
  },
  {
   "cell_type": "code",
   "execution_count": 20,
   "metadata": {},
   "outputs": [],
   "source": [
    "N_trials = 200\n",
    "N_pops = [int(k)**2 for k in np.linspace(15, 60, N_trials, endpoint=True)]\n",
    "simtimes = np.linspace(200, 3000, N_trials, endpoint=True)"
   ]
  },
  {
   "cell_type": "code",
   "execution_count": 21,
   "metadata": {},
   "outputs": [],
   "source": [
    "np.random.seed(42)\n",
    "np.random.shuffle(N_pops)\n",
    "np.random.shuffle(simtimes)\n",
    "values = zip(N_pops, simtimes)"
   ]
  },
  {
   "cell_type": "code",
   "execution_count": 22,
   "metadata": {},
   "outputs": [
    {
     "name": "stdout",
     "output_type": "stream",
     "text": [
      "Loaded file\n"
     ]
    },
    {
     "data": {
      "text/html": [
       "<div>\n",
       "<style scoped>\n",
       "    .dataframe tbody tr th:only-of-type {\n",
       "        vertical-align: middle;\n",
       "    }\n",
       "\n",
       "    .dataframe tbody tr th {\n",
       "        vertical-align: top;\n",
       "    }\n",
       "\n",
       "    .dataframe thead th {\n",
       "        text-align: right;\n",
       "    }\n",
       "</style>\n",
       "<table border=\"1\" class=\"dataframe\">\n",
       "  <thead>\n",
       "    <tr style=\"text-align: right;\">\n",
       "      <th></th>\n",
       "      <th>N_pop</th>\n",
       "      <th>simtime</th>\n",
       "      <th>buildCPUTime</th>\n",
       "      <th>simCPUTime</th>\n",
       "      <th>writeCPUTime</th>\n",
       "    </tr>\n",
       "  </thead>\n",
       "  <tbody>\n",
       "    <tr>\n",
       "      <th>0</th>\n",
       "      <td>1296</td>\n",
       "      <td>2676.381910</td>\n",
       "      <td>4.710913</td>\n",
       "      <td>86330.511570</td>\n",
       "      <td>586.471796</td>\n",
       "    </tr>\n",
       "    <tr>\n",
       "      <th>1</th>\n",
       "      <td>324</td>\n",
       "      <td>664.321608</td>\n",
       "      <td>4.064798</td>\n",
       "      <td>62028.760672</td>\n",
       "      <td>116.994858</td>\n",
       "    </tr>\n",
       "    <tr>\n",
       "      <th>2</th>\n",
       "      <td>441</td>\n",
       "      <td>1902.512563</td>\n",
       "      <td>5.387783</td>\n",
       "      <td>74981.198549</td>\n",
       "      <td>128.357410</td>\n",
       "    </tr>\n",
       "    <tr>\n",
       "      <th>3</th>\n",
       "      <td>2500</td>\n",
       "      <td>2732.663317</td>\n",
       "      <td>4.662275</td>\n",
       "      <td>90571.746588</td>\n",
       "      <td>2382.756233</td>\n",
       "    </tr>\n",
       "    <tr>\n",
       "      <th>4</th>\n",
       "      <td>1849</td>\n",
       "      <td>1635.175879</td>\n",
       "      <td>5.050659</td>\n",
       "      <td>74322.613001</td>\n",
       "      <td>1120.280027</td>\n",
       "    </tr>\n",
       "    <tr>\n",
       "      <th>...</th>\n",
       "      <td>...</td>\n",
       "      <td>...</td>\n",
       "      <td>...</td>\n",
       "      <td>...</td>\n",
       "      <td>...</td>\n",
       "    </tr>\n",
       "    <tr>\n",
       "      <th>195</th>\n",
       "      <td>1444</td>\n",
       "      <td>2606.030151</td>\n",
       "      <td>4.149437</td>\n",
       "      <td>83879.153252</td>\n",
       "      <td>382.340908</td>\n",
       "    </tr>\n",
       "    <tr>\n",
       "      <th>196</th>\n",
       "      <td>324</td>\n",
       "      <td>931.658291</td>\n",
       "      <td>4.332304</td>\n",
       "      <td>64301.814318</td>\n",
       "      <td>110.289812</td>\n",
       "    </tr>\n",
       "    <tr>\n",
       "      <th>197</th>\n",
       "      <td>1225</td>\n",
       "      <td>2015.075377</td>\n",
       "      <td>4.499912</td>\n",
       "      <td>78651.786804</td>\n",
       "      <td>318.945408</td>\n",
       "    </tr>\n",
       "    <tr>\n",
       "      <th>198</th>\n",
       "      <td>3025</td>\n",
       "      <td>1958.793970</td>\n",
       "      <td>4.953384</td>\n",
       "      <td>79250.867367</td>\n",
       "      <td>2133.352995</td>\n",
       "    </tr>\n",
       "    <tr>\n",
       "      <th>199</th>\n",
       "      <td>1444</td>\n",
       "      <td>2254.271357</td>\n",
       "      <td>5.326748</td>\n",
       "      <td>78497.060299</td>\n",
       "      <td>345.886230</td>\n",
       "    </tr>\n",
       "  </tbody>\n",
       "</table>\n",
       "<p>200 rows × 5 columns</p>\n",
       "</div>"
      ],
      "text/plain": [
       "     N_pop      simtime  buildCPUTime    simCPUTime  writeCPUTime\n",
       "0     1296  2676.381910      4.710913  86330.511570    586.471796\n",
       "1      324   664.321608      4.064798  62028.760672    116.994858\n",
       "2      441  1902.512563      5.387783  74981.198549    128.357410\n",
       "3     2500  2732.663317      4.662275  90571.746588   2382.756233\n",
       "4     1849  1635.175879      5.050659  74322.613001   1120.280027\n",
       "..     ...          ...           ...           ...           ...\n",
       "195   1444  2606.030151      4.149437  83879.153252    382.340908\n",
       "196    324   931.658291      4.332304  64301.814318    110.289812\n",
       "197   1225  2015.075377      4.499912  78651.786804    318.945408\n",
       "198   3025  1958.793970      4.953384  79250.867367   2133.352995\n",
       "199   1444  2254.271357      5.326748  78497.060299    345.886230\n",
       "\n",
       "[200 rows x 5 columns]"
      ]
     },
     "execution_count": 22,
     "metadata": {},
     "output_type": "execute_result"
    }
   ],
   "source": [
    "results = scan(variables=variables, values=values)\n",
    "results"
   ]
  },
  {
   "cell_type": "markdown",
   "metadata": {},
   "source": [
    "## analysis"
   ]
  },
  {
   "cell_type": "code",
   "execution_count": 23,
   "metadata": {},
   "outputs": [
    {
     "data": {
      "text/html": [
       "<div>\n",
       "<style scoped>\n",
       "    .dataframe tbody tr th:only-of-type {\n",
       "        vertical-align: middle;\n",
       "    }\n",
       "\n",
       "    .dataframe tbody tr th {\n",
       "        vertical-align: top;\n",
       "    }\n",
       "\n",
       "    .dataframe thead th {\n",
       "        text-align: right;\n",
       "    }\n",
       "</style>\n",
       "<table border=\"1\" class=\"dataframe\">\n",
       "  <thead>\n",
       "    <tr style=\"text-align: right;\">\n",
       "      <th></th>\n",
       "      <th>N_pop</th>\n",
       "      <th>simtime</th>\n",
       "      <th>buildCPUTime</th>\n",
       "      <th>simCPUTime</th>\n",
       "      <th>writeCPUTime</th>\n",
       "      <th>simtime_N_pop</th>\n",
       "    </tr>\n",
       "  </thead>\n",
       "  <tbody>\n",
       "    <tr>\n",
       "      <th>0</th>\n",
       "      <td>1296</td>\n",
       "      <td>2676.381910</td>\n",
       "      <td>4.710913</td>\n",
       "      <td>86330.511570</td>\n",
       "      <td>586.471796</td>\n",
       "      <td>3.468591e+06</td>\n",
       "    </tr>\n",
       "    <tr>\n",
       "      <th>1</th>\n",
       "      <td>324</td>\n",
       "      <td>664.321608</td>\n",
       "      <td>4.064798</td>\n",
       "      <td>62028.760672</td>\n",
       "      <td>116.994858</td>\n",
       "      <td>2.152402e+05</td>\n",
       "    </tr>\n",
       "    <tr>\n",
       "      <th>2</th>\n",
       "      <td>441</td>\n",
       "      <td>1902.512563</td>\n",
       "      <td>5.387783</td>\n",
       "      <td>74981.198549</td>\n",
       "      <td>128.357410</td>\n",
       "      <td>8.390080e+05</td>\n",
       "    </tr>\n",
       "    <tr>\n",
       "      <th>3</th>\n",
       "      <td>2500</td>\n",
       "      <td>2732.663317</td>\n",
       "      <td>4.662275</td>\n",
       "      <td>90571.746588</td>\n",
       "      <td>2382.756233</td>\n",
       "      <td>6.831658e+06</td>\n",
       "    </tr>\n",
       "    <tr>\n",
       "      <th>4</th>\n",
       "      <td>1849</td>\n",
       "      <td>1635.175879</td>\n",
       "      <td>5.050659</td>\n",
       "      <td>74322.613001</td>\n",
       "      <td>1120.280027</td>\n",
       "      <td>3.023440e+06</td>\n",
       "    </tr>\n",
       "    <tr>\n",
       "      <th>...</th>\n",
       "      <td>...</td>\n",
       "      <td>...</td>\n",
       "      <td>...</td>\n",
       "      <td>...</td>\n",
       "      <td>...</td>\n",
       "      <td>...</td>\n",
       "    </tr>\n",
       "    <tr>\n",
       "      <th>195</th>\n",
       "      <td>1444</td>\n",
       "      <td>2606.030151</td>\n",
       "      <td>4.149437</td>\n",
       "      <td>83879.153252</td>\n",
       "      <td>382.340908</td>\n",
       "      <td>3.763108e+06</td>\n",
       "    </tr>\n",
       "    <tr>\n",
       "      <th>196</th>\n",
       "      <td>324</td>\n",
       "      <td>931.658291</td>\n",
       "      <td>4.332304</td>\n",
       "      <td>64301.814318</td>\n",
       "      <td>110.289812</td>\n",
       "      <td>3.018573e+05</td>\n",
       "    </tr>\n",
       "    <tr>\n",
       "      <th>197</th>\n",
       "      <td>1225</td>\n",
       "      <td>2015.075377</td>\n",
       "      <td>4.499912</td>\n",
       "      <td>78651.786804</td>\n",
       "      <td>318.945408</td>\n",
       "      <td>2.468467e+06</td>\n",
       "    </tr>\n",
       "    <tr>\n",
       "      <th>198</th>\n",
       "      <td>3025</td>\n",
       "      <td>1958.793970</td>\n",
       "      <td>4.953384</td>\n",
       "      <td>79250.867367</td>\n",
       "      <td>2133.352995</td>\n",
       "      <td>5.925352e+06</td>\n",
       "    </tr>\n",
       "    <tr>\n",
       "      <th>199</th>\n",
       "      <td>1444</td>\n",
       "      <td>2254.271357</td>\n",
       "      <td>5.326748</td>\n",
       "      <td>78497.060299</td>\n",
       "      <td>345.886230</td>\n",
       "      <td>3.255168e+06</td>\n",
       "    </tr>\n",
       "  </tbody>\n",
       "</table>\n",
       "<p>200 rows × 6 columns</p>\n",
       "</div>"
      ],
      "text/plain": [
       "     N_pop      simtime  buildCPUTime    simCPUTime  writeCPUTime  \\\n",
       "0     1296  2676.381910      4.710913  86330.511570    586.471796   \n",
       "1      324   664.321608      4.064798  62028.760672    116.994858   \n",
       "2      441  1902.512563      5.387783  74981.198549    128.357410   \n",
       "3     2500  2732.663317      4.662275  90571.746588   2382.756233   \n",
       "4     1849  1635.175879      5.050659  74322.613001   1120.280027   \n",
       "..     ...          ...           ...           ...           ...   \n",
       "195   1444  2606.030151      4.149437  83879.153252    382.340908   \n",
       "196    324   931.658291      4.332304  64301.814318    110.289812   \n",
       "197   1225  2015.075377      4.499912  78651.786804    318.945408   \n",
       "198   3025  1958.793970      4.953384  79250.867367   2133.352995   \n",
       "199   1444  2254.271357      5.326748  78497.060299    345.886230   \n",
       "\n",
       "     simtime_N_pop  \n",
       "0     3.468591e+06  \n",
       "1     2.152402e+05  \n",
       "2     8.390080e+05  \n",
       "3     6.831658e+06  \n",
       "4     3.023440e+06  \n",
       "..             ...  \n",
       "195   3.763108e+06  \n",
       "196   3.018573e+05  \n",
       "197   2.468467e+06  \n",
       "198   5.925352e+06  \n",
       "199   3.255168e+06  \n",
       "\n",
       "[200 rows x 6 columns]"
      ]
     },
     "execution_count": 23,
     "metadata": {},
     "output_type": "execute_result"
    }
   ],
   "source": [
    "results_ext = results.copy()\n",
    "results_ext['simtime_N_pop'] = results_ext['simtime'] * results_ext['N_pop']\n",
    "results_ext"
   ]
  },
  {
   "cell_type": "code",
   "execution_count": 24,
   "metadata": {},
   "outputs": [],
   "source": [
    "variables_ext = ['N_pop', 'simtime_N_pop']\n",
    "X = results_ext[variables_ext].values.reshape(-1, len(variables_ext))\n"
   ]
  },
  {
   "cell_type": "markdown",
   "metadata": {},
   "source": [
    "https://aegis4048.github.io/mutiple_linear_regression_and_visualization_in_python"
   ]
  },
  {
   "cell_type": "markdown",
   "metadata": {},
   "source": [
    "See https://patsy.readthedocs.io/en/latest/quickstart.html"
   ]
  },
  {
   "cell_type": "code",
   "execution_count": 25,
   "metadata": {},
   "outputs": [
    {
     "name": "stdout",
     "output_type": "stream",
     "text": [
      "buildCPUTime (ms) = 0.002 * N_pop + 0.000/1000 * simtime (ms) * N_pop\n",
      "simCPUTime (ms) = 24.476 * N_pop + 6.483/1000 * simtime (ms) * N_pop\n",
      "writeCPUTime (ms) = 0.253 * N_pop + 0.186/1000 * simtime (ms) * N_pop\n"
     ]
    }
   ],
   "source": [
    "import patsy\n",
    "import statsmodels.api as sm\n",
    "\n",
    "for regressor in ['buildCPUTime', 'simCPUTime', 'writeCPUTime']:\n",
    "    y = results_ext[regressor].values\n",
    "    #print(variables_ext, X.shape, y.shape)\n",
    "    y, X = patsy.dmatrices('{regressor} ~ 0 + N_pop + simtime_N_pop'.format(regressor=regressor), data=results_ext, return_type='dataframe')\n",
    "\n",
    "    fit = sm.OLS(y, X).fit()\n",
    "    fit.summary()\n",
    "\n",
    "    print('{regressor} (ms) = {fit0:.3f} * N_pop + {fit1:.3f}/1000 * simtime (ms) * N_pop'.format(regressor=regressor, fit0=fit.params[0], fit1=fit.params[1]*1000))"
   ]
  }
 ],
 "metadata": {
  "anaconda-cloud": {},
  "kernelspec": {
   "display_name": "sPyNNaker",
   "language": "python",
   "name": "spynnaker"
  },
  "language_info": {
   "codemirror_mode": {
    "name": "ipython",
    "version": 3
   },
   "file_extension": ".py",
   "mimetype": "text/x-python",
   "name": "python",
   "nbconvert_exporter": "python",
   "pygments_lexer": "ipython3",
   "version": "3.6.9"
  },
  "toc": {
   "base_numbering": 1,
   "nav_menu": {},
   "number_sections": true,
   "sideBar": true,
   "skip_h1_title": false,
   "title_cell": "Table of Contents",
   "title_sidebar": "Contents",
   "toc_cell": false,
   "toc_position": {
    "height": "calc(100% - 180px)",
    "left": "10px",
    "top": "150px",
    "width": "414.667px"
   },
   "toc_section_display": true,
   "toc_window_display": true
  },
  "toc-autonumbering": true
 },
 "nbformat": 4,
 "nbformat_minor": 4
}
