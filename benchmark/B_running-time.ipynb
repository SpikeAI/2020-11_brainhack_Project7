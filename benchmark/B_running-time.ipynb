{
 "cells": [
  {
   "cell_type": "code",
   "execution_count": 1,
   "metadata": {},
   "outputs": [
    {
     "name": "stdout",
     "output_type": "stream",
     "text": [
      "CSAConnector: libneurosim support not available in NEST.\n",
      "Falling back on PyNN's default CSAConnector.\n",
      "Please re-compile NEST using --with-libneurosim=PATH\n"
     ]
    },
    {
     "name": "stderr",
     "output_type": "stream",
     "text": [
      "/home/laurent/.local/lib/python3.8/site-packages/pyNN/nest/__init__.py:53: UserWarning:Unable to install NEST extensions. Certain models may not be available.\n"
     ]
    },
    {
     "name": "stdout",
     "output_type": "stream",
     "text": [
      "Python implementation: CPython\n",
      "Python version       : 3.8.5\n",
      "IPython version      : 7.18.1\n",
      "\n",
      "numpy     : 1.19.2\n",
      "matplotlib: 3.3.2\n",
      "pyNN      : 0.9.5\n",
      "neo       : 0.8.0\n",
      "nixio     : 1.5.0b6\n",
      "pandas    : 0.25.3\n",
      "\n",
      "Compiler    : GCC 9.3.0\n",
      "OS          : Linux\n",
      "Release     : 5.4.0-56-generic\n",
      "Machine     : x86_64\n",
      "Processor   : x86_64\n",
      "CPU cores   : 4\n",
      "Architecture: 64bit\n",
      "\n",
      "Hostname: inv-ope-de06\n",
      "\n",
      "Git hash: 19c9ce9dd5fc286086d33adb94a47085bdca80f0\n",
      "\n",
      "Git repo: https://github.com/SpikeAI/2020-11_brainhack_Project7\n",
      "\n",
      "Git branch: main\n",
      "\n"
     ]
    }
   ],
   "source": [
    "%load_ext autoreload\n",
    "%autoreload 2\n",
    "%run A_simple_net.ipynb"
   ]
  },
  {
   "cell_type": "code",
   "execution_count": 2,
   "metadata": {},
   "outputs": [],
   "source": [
    "%mkdir -p outputs"
   ]
  },
  {
   "cell_type": "code",
   "execution_count": 3,
   "metadata": {},
   "outputs": [],
   "source": [
    "%mkdir -p Results/20201204/"
   ]
  },
  {
   "cell_type": "markdown",
   "metadata": {},
   "source": [
    "# scanning over single parameters"
   ]
  },
  {
   "cell_type": "markdown",
   "metadata": {},
   "source": [
    "## initializing parameters"
   ]
  },
  {
   "cell_type": "code",
   "execution_count": 4,
   "metadata": {},
   "outputs": [],
   "source": [
    "date = '2020-12-04'\n",
    "tag = date + '_scan_' + simulator"
   ]
  },
  {
   "cell_type": "code",
   "execution_count": 5,
   "metadata": {},
   "outputs": [
    {
     "name": "stderr",
     "output_type": "stream",
     "text": [
      "/usr/lib/python3.8/dist-packages/nest/lib/hl_api_helper.py:127: UserWarning:\n",
      "ResetNetwork is deprecated and will be removed in NEST 3.0.\n",
      "2020-12-04 16:27:18,739 WARNING  [PyNN] NEST does not allow setting an initial value for g_ex (/home/laurent/.local/lib/python3.8/site-packages/pyNN/nest/populations.py[174]:_set_initial_value_array)\n",
      "2020-12-04 16:27:18,741 WARNING  [PyNN] NEST does not allow setting an initial value for g_in (/home/laurent/.local/lib/python3.8/site-packages/pyNN/nest/populations.py[174]:_set_initial_value_array)\n"
     ]
    },
    {
     "name": "stdout",
     "output_type": "stream",
     "text": [
      "0 Creating cell populations...\n",
      "0 Initialising membrane potential to random values...\n",
      "0 Connecting populations...\n",
      "0 Setting up recording...0%                                                                                                                                                                                                                                           \n",
      "0 Running simulation...\n",
      "0 Writing data to file...\n",
      "\n",
      "--- Vogels-Abbott Network Simulation ---\n",
      "Nodes                  : 1\n",
      "Number of Neurons      : 1000\n",
      "Excitatory conductance : 4 nS\n",
      "Inhibitory conductance : 51 nS\n",
      "Excitatory rate        : 0.715 Hz\n",
      "Inhibitory rate        : 0.73 Hz\n",
      "Build time             : 1932.67 ms\n",
      "Simulation time        : 2367.59 ms\n",
      "Writing time           : 213.14 ms\n"
     ]
    }
   ],
   "source": [
    "buildCPUTime, simCPUTime, writeCPUTime = run(verbose=True)"
   ]
  },
  {
   "cell_type": "markdown",
   "metadata": {},
   "source": [
    "## Running Model and Loading Results"
   ]
  },
  {
   "cell_type": "code",
   "execution_count": 6,
   "metadata": {},
   "outputs": [],
   "source": [
    "import os\n",
    "import pandas as pd\n",
    "verbose = True\n",
    "def scan(variable, values, tag=tag, verbose=verbose):\n",
    "    filename = f'outputs/{tag}_{variable}.json'\n",
    "    try:\n",
    "        df = pd.read_json(filename)\n",
    "        print('Loaded file')\n",
    "    except:\n",
    "        df = pd.DataFrame([], columns=[variable, 'buildCPUTime', 'simCPUTime', 'writeCPUTime'])\n",
    "        for i, value in enumerate(values):\n",
    "            if verbose: print(f'{variable=}---{value=}')\n",
    "            args = {}\n",
    "            args[variable] = value\n",
    "            buildCPUTime, simCPUTime, writeCPUTime = run(**args)\n",
    "            df.loc[i]= {variable: value, 'buildCPUTime':buildCPUTime, 'simCPUTime':simCPUTime, 'writeCPUTime':writeCPUTime}\n",
    "        df.to_json(filename)\n",
    "    return df"
   ]
  },
  {
   "cell_type": "code",
   "execution_count": 7,
   "metadata": {},
   "outputs": [],
   "source": [
    "import matplotlib.pyplot as plt\n",
    "\n",
    "# https://stackoverflow.com/questions/31978948/python-stats-models-quadratic-term-in-regression\n",
    "def plot(df, do_intercept=False):\n",
    "    variable = df.columns[0]\n",
    "    fig, ax = plt.subplots(figsize=(8,8))\n",
    "    \n",
    "    for regressor, color in zip(['buildCPUTime', 'simCPUTime', 'writeCPUTime'],\n",
    "                                ['r', 'g', 'b']):\n",
    "\n",
    "        import patsy\n",
    "        if do_intercept:\n",
    "            y, X = patsy.dmatrices(f'{regressor} ~ {variable}', data=df, return_type='dataframe')\n",
    "        else:\n",
    "            y, X = patsy.dmatrices(f'{regressor} ~ 0 + {variable}', data=df, return_type='dataframe')\n",
    "\n",
    "        import statsmodels.api as sm\n",
    "        fit = sm.OLS(y, X).fit()\n",
    "        print(fit.summary())\n",
    "\n",
    "        if do_intercept: intercept = fit.params.Intercept\n",
    "        slope = fit.params[variable]\n",
    "\n",
    "        values = np.array(df[variable])\n",
    "        if do_intercept:\n",
    "            ax.plot(values, intercept + slope*values, c=color, lw=1)\n",
    "            df.plot(x=variable, y=regressor, c=color, lw=2, ls='-.', ax=ax, label=f\"{regressor}={intercept:.3f} + {slope:.3f}*{variable}\")\n",
    "        else:\n",
    "            ax.plot(values, slope*values, c=color, lw=1)\n",
    "            df.plot(x=variable, y=regressor, c=color, lw=2, ls='-.', ax=ax, label=f\"{regressor}={slope:.3f}*{variable}\")\n",
    "\n",
    "    ax.set_xlim(0)\n",
    "    ax.set_ylabel('Time (ms)')\n",
    "    ax.set_ylim(0)\n",
    "    ax.legend()\n",
    "    return fig, ax"
   ]
  },
  {
   "cell_type": "markdown",
   "metadata": {},
   "source": [
    "## plot as a function of neuron numbers"
   ]
  },
  {
   "cell_type": "code",
   "execution_count": 8,
   "metadata": {},
   "outputs": [
    {
     "data": {
      "text/plain": [
       "array([  64,  196,  361,  484,  625,  784,  961, 1089, 1225, 1369, 1521,\n",
       "       1681, 1849, 2025])"
      ]
     },
     "execution_count": 8,
     "metadata": {},
     "output_type": "execute_result"
    }
   ],
   "source": [
    "import numpy as np\n",
    "N_pops = np.array([int(k)**2 for k in np.linspace(8**2, 45**2, 14, endpoint=True)**.5])\n",
    "N_pops"
   ]
  },
  {
   "cell_type": "code",
   "execution_count": 9,
   "metadata": {},
   "outputs": [
    {
     "name": "stdout",
     "output_type": "stream",
     "text": [
      "Loaded file\n"
     ]
    }
   ],
   "source": [
    "results_pop = scan('N_pop', N_pops)"
   ]
  },
  {
   "cell_type": "code",
   "execution_count": 10,
   "metadata": {},
   "outputs": [
    {
     "name": "stderr",
     "output_type": "stream",
     "text": [
      "/usr/lib/python3/dist-packages/scipy/stats/stats.py:1449: UserWarning:kurtosistest only valid for n>=20 ... continuing anyway, n=14\n",
      "/usr/lib/python3/dist-packages/scipy/stats/stats.py:1449: UserWarning:kurtosistest only valid for n>=20 ... continuing anyway, n=14\n",
      "/usr/lib/python3/dist-packages/scipy/stats/stats.py:1449: UserWarning:kurtosistest only valid for n>=20 ... continuing anyway, n=14\n"
     ]
    },
    {
     "name": "stdout",
     "output_type": "stream",
     "text": [
      "                                 OLS Regression Results                                \n",
      "=======================================================================================\n",
      "Dep. Variable:           buildCPUTime   R-squared (uncentered):                   0.998\n",
      "Model:                            OLS   Adj. R-squared (uncentered):              0.998\n",
      "Method:                 Least Squares   F-statistic:                              5666.\n",
      "Date:                Fri, 04 Dec 2020   Prob (F-statistic):                    1.50e-18\n",
      "Time:                        16:27:23   Log-Likelihood:                         -66.297\n",
      "No. Observations:                  14   AIC:                                      134.6\n",
      "Df Residuals:                      13   BIC:                                      135.2\n",
      "Df Model:                           1                                                  \n",
      "Covariance Type:            nonrobust                                                  \n",
      "==============================================================================\n",
      "                 coef    std err          t      P>|t|      [0.025      0.975]\n",
      "------------------------------------------------------------------------------\n",
      "N_pop          0.4869      0.006     75.272      0.000       0.473       0.501\n",
      "==============================================================================\n",
      "Omnibus:                        2.454   Durbin-Watson:                   1.719\n",
      "Prob(Omnibus):                  0.293   Jarque-Bera (JB):                1.268\n",
      "Skew:                           0.737   Prob(JB):                        0.530\n",
      "Kurtosis:                       2.963   Cond. No.                         1.00\n",
      "==============================================================================\n",
      "\n",
      "Notes:\n",
      "[1] R² is computed without centering (uncentered) since the model does not contain a constant.\n",
      "[2] Standard Errors assume that the covariance matrix of the errors is correctly specified.\n",
      "                                 OLS Regression Results                                \n",
      "=======================================================================================\n",
      "Dep. Variable:             simCPUTime   R-squared (uncentered):                   0.998\n",
      "Model:                            OLS   Adj. R-squared (uncentered):              0.998\n",
      "Method:                 Least Squares   F-statistic:                              6722.\n",
      "Date:                Fri, 04 Dec 2020   Prob (F-statistic):                    4.94e-19\n",
      "Time:                        16:27:23   Log-Likelihood:                         -88.370\n",
      "No. Observations:                  14   AIC:                                      178.7\n",
      "Df Residuals:                      13   BIC:                                      179.4\n",
      "Df Model:                           1                                                  \n",
      "Covariance Type:            nonrobust                                                  \n",
      "==============================================================================\n",
      "                 coef    std err          t      P>|t|      [0.025      0.975]\n",
      "------------------------------------------------------------------------------\n",
      "N_pop          2.5662      0.031     81.985      0.000       2.499       2.634\n",
      "==============================================================================\n",
      "Omnibus:                        2.875   Durbin-Watson:                   0.239\n",
      "Prob(Omnibus):                  0.237   Jarque-Bera (JB):                1.765\n",
      "Skew:                           0.654   Prob(JB):                        0.414\n",
      "Kurtosis:                       1.853   Cond. No.                         1.00\n",
      "==============================================================================\n",
      "\n",
      "Notes:\n",
      "[1] R² is computed without centering (uncentered) since the model does not contain a constant.\n",
      "[2] Standard Errors assume that the covariance matrix of the errors is correctly specified.\n",
      "                                 OLS Regression Results                                \n",
      "=======================================================================================\n",
      "Dep. Variable:           writeCPUTime   R-squared (uncentered):                   0.980\n",
      "Model:                            OLS   Adj. R-squared (uncentered):              0.979\n",
      "Method:                 Least Squares   F-statistic:                              645.3\n",
      "Date:                Fri, 04 Dec 2020   Prob (F-statistic):                    1.82e-12\n",
      "Time:                        16:27:23   Log-Likelihood:                         -71.226\n",
      "No. Observations:                  14   AIC:                                      144.5\n",
      "Df Residuals:                      13   BIC:                                      145.1\n",
      "Df Model:                           1                                                  \n",
      "Covariance Type:            nonrobust                                                  \n",
      "==============================================================================\n",
      "                 coef    std err          t      P>|t|      [0.025      0.975]\n",
      "------------------------------------------------------------------------------\n",
      "N_pop          0.2337      0.009     25.403      0.000       0.214       0.254\n",
      "==============================================================================\n",
      "Omnibus:                        1.697   Durbin-Watson:                   1.606\n",
      "Prob(Omnibus):                  0.428   Jarque-Bera (JB):                1.249\n",
      "Skew:                           0.542   Prob(JB):                        0.536\n",
      "Kurtosis:                       2.017   Cond. No.                         1.00\n",
      "==============================================================================\n",
      "\n",
      "Notes:\n",
      "[1] R² is computed without centering (uncentered) since the model does not contain a constant.\n",
      "[2] Standard Errors assume that the covariance matrix of the errors is correctly specified.\n"
     ]
    },
    {
     "data": {
      "image/png": "[encoded data removed]",
      "text/plain": [
       "<Figure size 576x576 with 1 Axes>"
      ]
     },
     "metadata": {
      "needs_background": "light"
     },
     "output_type": "display_data"
    }
   ],
   "source": [
    "fig, ax = plot(results_pop)"
   ]
  },
  {
   "cell_type": "code",
   "execution_count": 11,
   "metadata": {},
   "outputs": [],
   "source": [
    "fig.savefig(tag + '_N_pop.png')"
   ]
  },
  {
   "cell_type": "markdown",
   "metadata": {},
   "source": [
    "## plot as a function of simtime"
   ]
  },
  {
   "cell_type": "code",
   "execution_count": 12,
   "metadata": {},
   "outputs": [
    {
     "data": {
      "text/plain": [
       "array([ 500.        ,  678.57142857,  857.14285714, 1035.71428571,\n",
       "       1214.28571429, 1392.85714286, 1571.42857143, 1750.        ,\n",
       "       1928.57142857, 2107.14285714, 2285.71428571, 2464.28571429,\n",
       "       2642.85714286, 2821.42857143, 3000.        ])"
      ]
     },
     "execution_count": 12,
     "metadata": {},
     "output_type": "execute_result"
    }
   ],
   "source": [
    "simtimes = np.linspace(500, 3000, 15, endpoint=True)\n",
    "simtimes"
   ]
  },
  {
   "cell_type": "code",
   "execution_count": 13,
   "metadata": {},
   "outputs": [
    {
     "name": "stdout",
     "output_type": "stream",
     "text": [
      "Loaded file\n"
     ]
    }
   ],
   "source": [
    "results_simtime = scan('simtime', simtimes)"
   ]
  },
  {
   "cell_type": "code",
   "execution_count": 14,
   "metadata": {},
   "outputs": [
    {
     "name": "stdout",
     "output_type": "stream",
     "text": [
      "                            OLS Regression Results                            \n",
      "==============================================================================\n",
      "Dep. Variable:           buildCPUTime   R-squared:                       0.081\n",
      "Model:                            OLS   Adj. R-squared:                  0.010\n",
      "Method:                 Least Squares   F-statistic:                     1.140\n",
      "Date:                Fri, 04 Dec 2020   Prob (F-statistic):              0.305\n",
      "Time:                        16:27:24   Log-Likelihood:                -62.102\n",
      "No. Observations:                  15   AIC:                             128.2\n",
      "Df Residuals:                      13   BIC:                             129.6\n",
      "Df Model:                           1                                         \n",
      "Covariance Type:            nonrobust                                         \n",
      "==============================================================================\n",
      "                 coef    std err          t      P>|t|      [0.025      0.975]\n",
      "------------------------------------------------------------------------------\n",
      "Intercept    493.2684     10.450     47.204      0.000     470.693     515.844\n",
      "simtime       -0.0058      0.005     -1.068      0.305      -0.018       0.006\n",
      "==============================================================================\n",
      "Omnibus:                        1.644   Durbin-Watson:                   2.149\n",
      "Prob(Omnibus):                  0.440   Jarque-Bera (JB):                0.434\n",
      "Skew:                           0.385   Prob(JB):                        0.805\n",
      "Kurtosis:                       3.317   Cond. No.                     4.74e+03\n",
      "==============================================================================\n",
      "\n",
      "Notes:\n",
      "[1] Standard Errors assume that the covariance matrix of the errors is correctly specified.\n",
      "[2] The condition number is large, 4.74e+03. This might indicate that there are\n",
      "strong multicollinearity or other numerical problems.\n",
      "                            OLS Regression Results                            \n",
      "==============================================================================\n",
      "Dep. Variable:             simCPUTime   R-squared:                       1.000\n",
      "Model:                            OLS   Adj. R-squared:                  1.000\n",
      "Method:                 Least Squares   F-statistic:                 1.315e+05\n",
      "Date:                Fri, 04 Dec 2020   Prob (F-statistic):           2.01e-27\n",
      "Time:                        16:27:24   Log-Likelihood:                -65.628\n",
      "No. Observations:                  15   AIC:                             135.3\n",
      "Df Residuals:                      13   BIC:                             136.7\n",
      "Df Model:                           1                                         \n",
      "Covariance Type:            nonrobust                                         \n",
      "==============================================================================\n",
      "                 coef    std err          t      P>|t|      [0.025      0.975]\n",
      "------------------------------------------------------------------------------\n",
      "Intercept    105.9540     13.218      8.016      0.000      77.398     134.510\n",
      "simtime        2.5065      0.007    362.667      0.000       2.492       2.521\n",
      "==============================================================================\n",
      "Omnibus:                        0.020   Durbin-Watson:                   1.585\n",
      "Prob(Omnibus):                  0.990   Jarque-Bera (JB):                0.235\n",
      "Skew:                           0.035   Prob(JB):                        0.889\n",
      "Kurtosis:                       2.391   Cond. No.                     4.74e+03\n",
      "==============================================================================\n",
      "\n",
      "Notes:\n",
      "[1] Standard Errors assume that the covariance matrix of the errors is correctly specified.\n",
      "[2] The condition number is large, 4.74e+03. This might indicate that there are\n",
      "strong multicollinearity or other numerical problems.\n",
      "                            OLS Regression Results                            \n",
      "==============================================================================\n",
      "Dep. Variable:           writeCPUTime   R-squared:                       0.221\n",
      "Model:                            OLS   Adj. R-squared:                  0.162\n",
      "Method:                 Least Squares   F-statistic:                     3.697\n",
      "Date:                Fri, 04 Dec 2020   Prob (F-statistic):             0.0767\n",
      "Time:                        16:27:24   Log-Likelihood:                -73.998\n",
      "No. Observations:                  15   AIC:                             152.0\n",
      "Df Residuals:                      13   BIC:                             153.4\n",
      "Df Model:                           1                                         \n",
      "Covariance Type:            nonrobust                                         \n",
      "==============================================================================\n",
      "                 coef    std err          t      P>|t|      [0.025      0.975]\n",
      "------------------------------------------------------------------------------\n",
      "Intercept    183.9892     23.095      7.967      0.000     134.095     233.883\n",
      "simtime        0.0232      0.012      1.923      0.077      -0.003       0.049\n",
      "==============================================================================\n",
      "Omnibus:                        3.473   Durbin-Watson:                   2.690\n",
      "Prob(Omnibus):                  0.176   Jarque-Bera (JB):                2.600\n",
      "Skew:                           0.925   Prob(JB):                        0.273\n",
      "Kurtosis:                       2.140   Cond. No.                     4.74e+03\n",
      "==============================================================================\n",
      "\n",
      "Notes:\n",
      "[1] Standard Errors assume that the covariance matrix of the errors is correctly specified.\n",
      "[2] The condition number is large, 4.74e+03. This might indicate that there are\n",
      "strong multicollinearity or other numerical problems.\n"
     ]
    },
    {
     "name": "stderr",
     "output_type": "stream",
     "text": [
      "/usr/lib/python3/dist-packages/scipy/stats/stats.py:1449: UserWarning:kurtosistest only valid for n>=20 ... continuing anyway, n=15\n",
      "/usr/lib/python3/dist-packages/scipy/stats/stats.py:1449: UserWarning:kurtosistest only valid for n>=20 ... continuing anyway, n=15\n",
      "/usr/lib/python3/dist-packages/scipy/stats/stats.py:1449: UserWarning:kurtosistest only valid for n>=20 ... continuing anyway, n=15\n"
     ]
    },
    {
     "data": {
      "image/png": "[encoded data removed]",
      "text/plain": [
       "<Figure size 576x576 with 1 Axes>"
      ]
     },
     "metadata": {
      "needs_background": "light"
     },
     "output_type": "display_data"
    }
   ],
   "source": [
    "fig, ax = plot(results_simtime, do_intercept=True)      "
   ]
  },
  {
   "cell_type": "code",
   "execution_count": 15,
   "metadata": {},
   "outputs": [],
   "source": [
    "fig.savefig(tag + '_simtime.png')"
   ]
  },
  {
   "cell_type": "markdown",
   "metadata": {},
   "source": [
    "# scanning over two parameters"
   ]
  },
  {
   "cell_type": "markdown",
   "metadata": {},
   "source": [
    "## Setting-up model and initializing parameters"
   ]
  },
  {
   "cell_type": "code",
   "execution_count": 16,
   "metadata": {},
   "outputs": [],
   "source": [
    "tag = date + '_scan-2D_' + simulator"
   ]
  },
  {
   "cell_type": "markdown",
   "metadata": {},
   "source": [
    "## Running Model and Loading Results"
   ]
  },
  {
   "cell_type": "code",
   "execution_count": 17,
   "metadata": {},
   "outputs": [],
   "source": [
    "variables = ['N_pop', 'simtime']\n",
    "filename = f'outputs/{tag}'\n",
    "for variable in variables: filename +=  '_' + variable\n",
    "filename += '.json'"
   ]
  },
  {
   "cell_type": "code",
   "execution_count": 18,
   "metadata": {},
   "outputs": [],
   "source": [
    "import os\n",
    "import time\n",
    "import pandas as pd\n",
    "verbose = True\n",
    "def scan(variables, values, tag=tag, verbose=verbose):\n",
    "    filename = f'outputs/{tag}'\n",
    "    for variable in variables: filename +=  '_' + variable\n",
    "    filename += '.json'\n",
    "    try:\n",
    "        df = pd.read_json(filename)\n",
    "        print('Loaded file')\n",
    "    except:\n",
    "        df = pd.DataFrame([], columns=variables + ['buildCPUTime', 'simCPUTime', 'writeCPUTime'])\n",
    "        for i, values_ in enumerate(values):\n",
    "            if verbose: print(f'{variable=}---{values_=}')\n",
    "            args = {}\n",
    "            for variable, value in zip(variables, values_):\n",
    "                args[variable] = value\n",
    "            buildCPUTime, simCPUTime, writeCPUTime = run(**args)\n",
    "            df.loc[i]= dict(zip(variables + ['buildCPUTime', 'simCPUTime', 'writeCPUTime'], \n",
    "                                list(values_) + [buildCPUTime, simCPUTime, writeCPUTime]))\n",
    "\n",
    "        df.to_json(filename)\n",
    "        \n",
    "    return df"
   ]
  },
  {
   "cell_type": "markdown",
   "metadata": {},
   "source": [
    "## Running time as a function of neuron numbers and simtime"
   ]
  },
  {
   "cell_type": "code",
   "execution_count": 19,
   "metadata": {},
   "outputs": [],
   "source": [
    "import numpy as np"
   ]
  },
  {
   "cell_type": "code",
   "execution_count": 20,
   "metadata": {},
   "outputs": [],
   "source": [
    "N_trials = 200\n",
    "N_pops = [int(k)**2 for k in np.linspace(15, 60, N_trials, endpoint=True)]\n",
    "simtimes = np.linspace(200, 3000, N_trials, endpoint=True)"
   ]
  },
  {
   "cell_type": "code",
   "execution_count": 21,
   "metadata": {},
   "outputs": [],
   "source": [
    "np.random.seed(42)\n",
    "np.random.shuffle(N_pops)\n",
    "np.random.shuffle(simtimes)\n",
    "values = zip(N_pops, simtimes)"
   ]
  },
  {
   "cell_type": "code",
   "execution_count": 22,
   "metadata": {},
   "outputs": [
    {
     "name": "stdout",
     "output_type": "stream",
     "text": [
      "Loaded file\n"
     ]
    },
    {
     "data": {
      "text/html": [
       "<div>\n",
       "<style scoped>\n",
       "    .dataframe tbody tr th:only-of-type {\n",
       "        vertical-align: middle;\n",
       "    }\n",
       "\n",
       "    .dataframe tbody tr th {\n",
       "        vertical-align: top;\n",
       "    }\n",
       "\n",
       "    .dataframe thead th {\n",
       "        text-align: right;\n",
       "    }\n",
       "</style>\n",
       "<table border=\"1\" class=\"dataframe\">\n",
       "  <thead>\n",
       "    <tr style=\"text-align: right;\">\n",
       "      <th></th>\n",
       "      <th>N_pop</th>\n",
       "      <th>simtime</th>\n",
       "      <th>buildCPUTime</th>\n",
       "      <th>simCPUTime</th>\n",
       "      <th>writeCPUTime</th>\n",
       "    </tr>\n",
       "  </thead>\n",
       "  <tbody>\n",
       "    <tr>\n",
       "      <th>0</th>\n",
       "      <td>1296</td>\n",
       "      <td>2676.381910</td>\n",
       "      <td>599.036455</td>\n",
       "      <td>8520.785809</td>\n",
       "      <td>326.922178</td>\n",
       "    </tr>\n",
       "    <tr>\n",
       "      <th>1</th>\n",
       "      <td>324</td>\n",
       "      <td>664.321608</td>\n",
       "      <td>143.315792</td>\n",
       "      <td>512.142181</td>\n",
       "      <td>98.772764</td>\n",
       "    </tr>\n",
       "    <tr>\n",
       "      <th>2</th>\n",
       "      <td>441</td>\n",
       "      <td>1902.512563</td>\n",
       "      <td>178.263664</td>\n",
       "      <td>1931.942940</td>\n",
       "      <td>130.185366</td>\n",
       "    </tr>\n",
       "    <tr>\n",
       "      <th>3</th>\n",
       "      <td>2500</td>\n",
       "      <td>2732.663317</td>\n",
       "      <td>1222.176790</td>\n",
       "      <td>17846.006632</td>\n",
       "      <td>796.371222</td>\n",
       "    </tr>\n",
       "    <tr>\n",
       "      <th>4</th>\n",
       "      <td>1849</td>\n",
       "      <td>1635.175879</td>\n",
       "      <td>866.493940</td>\n",
       "      <td>8081.131458</td>\n",
       "      <td>480.911016</td>\n",
       "    </tr>\n",
       "    <tr>\n",
       "      <th>...</th>\n",
       "      <td>...</td>\n",
       "      <td>...</td>\n",
       "      <td>...</td>\n",
       "      <td>...</td>\n",
       "      <td>...</td>\n",
       "    </tr>\n",
       "    <tr>\n",
       "      <th>195</th>\n",
       "      <td>1444</td>\n",
       "      <td>2606.030151</td>\n",
       "      <td>1030.984640</td>\n",
       "      <td>11107.993126</td>\n",
       "      <td>378.175497</td>\n",
       "    </tr>\n",
       "    <tr>\n",
       "      <th>196</th>\n",
       "      <td>324</td>\n",
       "      <td>931.658291</td>\n",
       "      <td>201.613426</td>\n",
       "      <td>747.238398</td>\n",
       "      <td>99.138975</td>\n",
       "    </tr>\n",
       "    <tr>\n",
       "      <th>197</th>\n",
       "      <td>1225</td>\n",
       "      <td>2015.075377</td>\n",
       "      <td>843.507290</td>\n",
       "      <td>6943.225384</td>\n",
       "      <td>258.156776</td>\n",
       "    </tr>\n",
       "    <tr>\n",
       "      <th>198</th>\n",
       "      <td>3025</td>\n",
       "      <td>1958.793970</td>\n",
       "      <td>2219.290733</td>\n",
       "      <td>17289.569378</td>\n",
       "      <td>917.819977</td>\n",
       "    </tr>\n",
       "    <tr>\n",
       "      <th>199</th>\n",
       "      <td>1444</td>\n",
       "      <td>2254.271357</td>\n",
       "      <td>1031.268120</td>\n",
       "      <td>9618.199110</td>\n",
       "      <td>382.264853</td>\n",
       "    </tr>\n",
       "  </tbody>\n",
       "</table>\n",
       "<p>200 rows × 5 columns</p>\n",
       "</div>"
      ],
      "text/plain": [
       "     N_pop      simtime  buildCPUTime    simCPUTime  writeCPUTime\n",
       "0     1296  2676.381910    599.036455   8520.785809    326.922178\n",
       "1      324   664.321608    143.315792    512.142181     98.772764\n",
       "2      441  1902.512563    178.263664   1931.942940    130.185366\n",
       "3     2500  2732.663317   1222.176790  17846.006632    796.371222\n",
       "4     1849  1635.175879    866.493940   8081.131458    480.911016\n",
       "..     ...          ...           ...           ...           ...\n",
       "195   1444  2606.030151   1030.984640  11107.993126    378.175497\n",
       "196    324   931.658291    201.613426    747.238398     99.138975\n",
       "197   1225  2015.075377    843.507290   6943.225384    258.156776\n",
       "198   3025  1958.793970   2219.290733  17289.569378    917.819977\n",
       "199   1444  2254.271357   1031.268120   9618.199110    382.264853\n",
       "\n",
       "[200 rows x 5 columns]"
      ]
     },
     "execution_count": 22,
     "metadata": {},
     "output_type": "execute_result"
    }
   ],
   "source": [
    "results = scan(variables=variables, values=values)\n",
    "results"
   ]
  },
  {
   "cell_type": "markdown",
   "metadata": {},
   "source": [
    "## analysis"
   ]
  },
  {
   "cell_type": "code",
   "execution_count": 23,
   "metadata": {},
   "outputs": [
    {
     "data": {
      "text/html": [
       "<div>\n",
       "<style scoped>\n",
       "    .dataframe tbody tr th:only-of-type {\n",
       "        vertical-align: middle;\n",
       "    }\n",
       "\n",
       "    .dataframe tbody tr th {\n",
       "        vertical-align: top;\n",
       "    }\n",
       "\n",
       "    .dataframe thead th {\n",
       "        text-align: right;\n",
       "    }\n",
       "</style>\n",
       "<table border=\"1\" class=\"dataframe\">\n",
       "  <thead>\n",
       "    <tr style=\"text-align: right;\">\n",
       "      <th></th>\n",
       "      <th>N_pop</th>\n",
       "      <th>simtime</th>\n",
       "      <th>buildCPUTime</th>\n",
       "      <th>simCPUTime</th>\n",
       "      <th>writeCPUTime</th>\n",
       "      <th>simtime_N_pop</th>\n",
       "    </tr>\n",
       "  </thead>\n",
       "  <tbody>\n",
       "    <tr>\n",
       "      <th>0</th>\n",
       "      <td>1296</td>\n",
       "      <td>2676.381910</td>\n",
       "      <td>599.036455</td>\n",
       "      <td>8520.785809</td>\n",
       "      <td>326.922178</td>\n",
       "      <td>3.468591e+06</td>\n",
       "    </tr>\n",
       "    <tr>\n",
       "      <th>1</th>\n",
       "      <td>324</td>\n",
       "      <td>664.321608</td>\n",
       "      <td>143.315792</td>\n",
       "      <td>512.142181</td>\n",
       "      <td>98.772764</td>\n",
       "      <td>2.152402e+05</td>\n",
       "    </tr>\n",
       "    <tr>\n",
       "      <th>2</th>\n",
       "      <td>441</td>\n",
       "      <td>1902.512563</td>\n",
       "      <td>178.263664</td>\n",
       "      <td>1931.942940</td>\n",
       "      <td>130.185366</td>\n",
       "      <td>8.390080e+05</td>\n",
       "    </tr>\n",
       "    <tr>\n",
       "      <th>3</th>\n",
       "      <td>2500</td>\n",
       "      <td>2732.663317</td>\n",
       "      <td>1222.176790</td>\n",
       "      <td>17846.006632</td>\n",
       "      <td>796.371222</td>\n",
       "      <td>6.831658e+06</td>\n",
       "    </tr>\n",
       "    <tr>\n",
       "      <th>4</th>\n",
       "      <td>1849</td>\n",
       "      <td>1635.175879</td>\n",
       "      <td>866.493940</td>\n",
       "      <td>8081.131458</td>\n",
       "      <td>480.911016</td>\n",
       "      <td>3.023440e+06</td>\n",
       "    </tr>\n",
       "    <tr>\n",
       "      <th>...</th>\n",
       "      <td>...</td>\n",
       "      <td>...</td>\n",
       "      <td>...</td>\n",
       "      <td>...</td>\n",
       "      <td>...</td>\n",
       "      <td>...</td>\n",
       "    </tr>\n",
       "    <tr>\n",
       "      <th>195</th>\n",
       "      <td>1444</td>\n",
       "      <td>2606.030151</td>\n",
       "      <td>1030.984640</td>\n",
       "      <td>11107.993126</td>\n",
       "      <td>378.175497</td>\n",
       "      <td>3.763108e+06</td>\n",
       "    </tr>\n",
       "    <tr>\n",
       "      <th>196</th>\n",
       "      <td>324</td>\n",
       "      <td>931.658291</td>\n",
       "      <td>201.613426</td>\n",
       "      <td>747.238398</td>\n",
       "      <td>99.138975</td>\n",
       "      <td>3.018573e+05</td>\n",
       "    </tr>\n",
       "    <tr>\n",
       "      <th>197</th>\n",
       "      <td>1225</td>\n",
       "      <td>2015.075377</td>\n",
       "      <td>843.507290</td>\n",
       "      <td>6943.225384</td>\n",
       "      <td>258.156776</td>\n",
       "      <td>2.468467e+06</td>\n",
       "    </tr>\n",
       "    <tr>\n",
       "      <th>198</th>\n",
       "      <td>3025</td>\n",
       "      <td>1958.793970</td>\n",
       "      <td>2219.290733</td>\n",
       "      <td>17289.569378</td>\n",
       "      <td>917.819977</td>\n",
       "      <td>5.925352e+06</td>\n",
       "    </tr>\n",
       "    <tr>\n",
       "      <th>199</th>\n",
       "      <td>1444</td>\n",
       "      <td>2254.271357</td>\n",
       "      <td>1031.268120</td>\n",
       "      <td>9618.199110</td>\n",
       "      <td>382.264853</td>\n",
       "      <td>3.255168e+06</td>\n",
       "    </tr>\n",
       "  </tbody>\n",
       "</table>\n",
       "<p>200 rows × 6 columns</p>\n",
       "</div>"
      ],
      "text/plain": [
       "     N_pop      simtime  buildCPUTime    simCPUTime  writeCPUTime  \\\n",
       "0     1296  2676.381910    599.036455   8520.785809    326.922178   \n",
       "1      324   664.321608    143.315792    512.142181     98.772764   \n",
       "2      441  1902.512563    178.263664   1931.942940    130.185366   \n",
       "3     2500  2732.663317   1222.176790  17846.006632    796.371222   \n",
       "4     1849  1635.175879    866.493940   8081.131458    480.911016   \n",
       "..     ...          ...           ...           ...           ...   \n",
       "195   1444  2606.030151   1030.984640  11107.993126    378.175497   \n",
       "196    324   931.658291    201.613426    747.238398     99.138975   \n",
       "197   1225  2015.075377    843.507290   6943.225384    258.156776   \n",
       "198   3025  1958.793970   2219.290733  17289.569378    917.819977   \n",
       "199   1444  2254.271357   1031.268120   9618.199110    382.264853   \n",
       "\n",
       "     simtime_N_pop  \n",
       "0     3.468591e+06  \n",
       "1     2.152402e+05  \n",
       "2     8.390080e+05  \n",
       "3     6.831658e+06  \n",
       "4     3.023440e+06  \n",
       "..             ...  \n",
       "195   3.763108e+06  \n",
       "196   3.018573e+05  \n",
       "197   2.468467e+06  \n",
       "198   5.925352e+06  \n",
       "199   3.255168e+06  \n",
       "\n",
       "[200 rows x 6 columns]"
      ]
     },
     "execution_count": 23,
     "metadata": {},
     "output_type": "execute_result"
    }
   ],
   "source": [
    "results_ext = results.copy()\n",
    "results_ext['simtime_N_pop'] = results_ext['simtime'] * results_ext['N_pop']\n",
    "results_ext"
   ]
  },
  {
   "cell_type": "code",
   "execution_count": 24,
   "metadata": {},
   "outputs": [],
   "source": [
    "variables_ext = ['N_pop', 'simtime_N_pop']\n",
    "X = results_ext[variables_ext].values.reshape(-1, len(variables_ext))\n"
   ]
  },
  {
   "cell_type": "markdown",
   "metadata": {},
   "source": [
    "https://aegis4048.github.io/mutiple_linear_regression_and_visualization_in_python"
   ]
  },
  {
   "cell_type": "markdown",
   "metadata": {},
   "source": [
    "See https://patsy.readthedocs.io/en/latest/quickstart.html"
   ]
  },
  {
   "cell_type": "code",
   "execution_count": 25,
   "metadata": {},
   "outputs": [
    {
     "name": "stdout",
     "output_type": "stream",
     "text": [
      "buildCPUTime (ms) = 0.583 * N_pop + 0.016 * simtime (ms) * N_pop/1000\n",
      "simCPUTime (ms) = -0.007 * N_pop + 2.841 * simtime (ms) * N_pop/1000\n",
      "writeCPUTime (ms) = 0.202 * N_pop + 0.035 * simtime (ms) * N_pop/1000\n"
     ]
    }
   ],
   "source": [
    "import patsy\n",
    "import statsmodels.api as sm\n",
    "\n",
    "for regressor in ['buildCPUTime', 'simCPUTime', 'writeCPUTime']:\n",
    "    y = results_ext[regressor].values\n",
    "    #print(variables_ext, X.shape, y.shape)\n",
    "    y, X = patsy.dmatrices(f'{regressor} ~ 0 + N_pop + simtime_N_pop', data=results_ext, return_type='dataframe')\n",
    "\n",
    "    fit = sm.OLS(y, X).fit()\n",
    "    fit.summary()\n",
    "\n",
    "    print(f'{regressor} (ms) = {fit.params[0]:.3f} * N_pop + {fit.params[1]*1000:.3f} * simtime (ms) * N_pop/1000')"
   ]
  }
 ],
 "metadata": {
  "anaconda-cloud": {},
  "kernelspec": {
   "display_name": "Python 3",
   "language": "python",
   "name": "python3"
  },
  "language_info": {
   "codemirror_mode": {
    "name": "ipython",
    "version": 3
   },
   "file_extension": ".py",
   "mimetype": "text/x-python",
   "name": "python",
   "nbconvert_exporter": "python",
   "pygments_lexer": "ipython3",
   "version": "3.8.5"
  },
  "toc": {
   "base_numbering": 1,
   "nav_menu": {},
   "number_sections": true,
   "sideBar": true,
   "skip_h1_title": false,
   "title_cell": "Table of Contents",
   "title_sidebar": "Contents",
   "toc_cell": false,
   "toc_position": {
    "height": "calc(100% - 180px)",
    "left": "10px",
    "top": "150px",
    "width": "414.667px"
   },
   "toc_section_display": true,
   "toc_window_display": true
  },
  "toc-autonumbering": true
 },
 "nbformat": 4,
 "nbformat_minor": 4
}
