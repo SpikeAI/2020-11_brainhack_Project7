{
 "cells": [
  {
   "cell_type": "code",
   "execution_count": 1,
   "metadata": {},
   "outputs": [
    {
     "data": {
      "text/plain": [
       "Namespace(E_expPar=3.0, E_v_tresh=-50, E_weight=0.08, Eone_weight=0.08, I_expPar=3.0, I_v_tresh=-50, I_weight=0.08, Ione_weight=0.08, N_pop=900, N_tau=30.0, do_save=True, dt=1, figpath='figures', im_contrast=0.1, im_noise=0.0, max_delay=100, min_delay=1, outpath='outputs', scalePar=0.001, simtime=1000, simulator='pyNN.nest', tag='2020-10-29_N_pop=900_E_expPar=3.0_I_expPar=3.0_sim=pyNN.nest', verbose=True, waveVelocity=0.1)"
      ]
     },
     "execution_count": 1,
     "metadata": {},
     "output_type": "execute_result"
    }
   ],
   "source": [
    "import numpy as np\n",
    "import VisionSNN\n",
    "#import pyNN.spiNNaker as sim\n",
    "\n",
    "# loading args\n",
    "args = VisionSNN.init()\n",
    "args.simulator = \"pyNN.nest\"\n",
    "args.N_pop = 900\n",
    "args.dt = 1 # ms\n",
    "args.min_delay = 1 # ms\n",
    "args.max_delay = 100 # ms\n",
    "args.simtime = 1000 # ms # timebin = simtime / dt\n",
    "args.waveVelocity = 0.1 # [mm/ms] in Muller 2014 is 0.35 m/s http://www.int.univ-amu.fr/IMG/pdf/Muller_Nature_Communications2014.pdf\n",
    "args.scalePar = 0.001 # distance scale par to have millimiters instead of microns\n",
    "args.E_expPar = 3.0\n",
    "args.I_expPar = 3.0\n",
    "args.tag = '2020-10-29' + '_N_pop=' + str(args.N_pop) + \"_E_expPar=\" + str(args.E_expPar) + \"_I_expPar=\" + str(args.I_expPar) + \"_sim=\" + str(args.simulator)\n",
    "b = VisionSNN.Bump2D(args)\n",
    "args"
   ]
  },
  {
   "cell_type": "code",
   "execution_count": 2,
   "metadata": {},
   "outputs": [
    {
     "name": "stdout",
     "output_type": "stream",
     "text": [
      "Loaded data\n",
      "v\n",
      "gsyn_exc\n",
      "gsyn_inh\n",
      "v\n",
      "gsyn_exc\n",
      "gsyn_inh\n"
     ]
    }
   ],
   "source": [
    "# runs simulations\n",
    "c = b.run()\n"
   ]
  },
  {
   "cell_type": "code",
   "execution_count": 3,
   "metadata": {},
   "outputs": [
    {
     "name": "stdout",
     "output_type": "stream",
     "text": [
      "Loaded data\n",
      "v\n",
      "gsyn_exc\n",
      "gsyn_inh\n",
      "v\n",
      "gsyn_exc\n",
      "gsyn_inh\n"
     ]
    }
   ],
   "source": [
    "# load results\n",
    "c = b.run() #to load the results"
   ]
  },
  {
   "cell_type": "code",
   "execution_count": 4,
   "metadata": {},
   "outputs": [],
   "source": [
    "# TO-DO\n",
    "# insert network structure from past notebook with benvenuti's phenomenological model\n",
    "# b.plot_network('True')"
   ]
  },
  {
   "cell_type": "code",
   "execution_count": null,
   "metadata": {},
   "outputs": [
    {
     "data": {
      "text/plain": [
       "<Figure size 432x864 with 0 Axes>"
      ]
     },
     "metadata": {},
     "output_type": "display_data"
    },
    {
     "name": "stderr",
     "output_type": "stream",
     "text": [
      "/home/laurent/quantic/science/WaveAlberto/2020-12_brainhack_Project7/benchmark/VisionSNN/probabilistic_2D_bump_attractor.py:1628: UserWarning: This figure was using constrained_layout==True, but that is incompatible with subplots_adjust and or tight_layout: setting constrained_layout==False. \n",
      "  fig.subplots_adjust(hspace=0.5,wspace=0.8)\n",
      "/home/laurent/.local/lib/python3.8/site-packages/seaborn/distributions.py:2551: FutureWarning: `distplot` is a deprecated function and will be removed in a future version. Please adapt your code to use either `displot` (a figure-level function with similar flexibility) or `histplot` (an axes-level function for histograms).\n",
      "  warnings.warn(msg, FutureWarning)\n"
     ]
    }
   ],
   "source": [
    "b.plot_projections('True')"
   ]
  },
  {
   "cell_type": "code",
   "execution_count": null,
   "metadata": {},
   "outputs": [],
   "source": [
    "b.plot_overview('true')"
   ]
  },
  {
   "cell_type": "code",
   "execution_count": null,
   "metadata": {},
   "outputs": [],
   "source": [
    "b.plot_spikes('True')"
   ]
  },
  {
   "cell_type": "code",
   "execution_count": null,
   "metadata": {},
   "outputs": [],
   "source": [
    "fr = b.plot_firingrates('True')\n"
   ]
  },
  {
   "cell_type": "code",
   "execution_count": null,
   "metadata": {},
   "outputs": [],
   "source": [
    "b.plot_abstract(fr[1], fr[2], 'True')"
   ]
  },
  {
   "cell_type": "code",
   "execution_count": null,
   "metadata": {},
   "outputs": [],
   "source": [
    "b.plot_signalprocessing('True')"
   ]
  },
  {
   "cell_type": "code",
   "execution_count": null,
   "metadata": {},
   "outputs": [],
   "source": [
    "b.plot_voltage('True')"
   ]
  },
  {
   "cell_type": "code",
   "execution_count": null,
   "metadata": {},
   "outputs": [],
   "source": [
    "b.plot_conductances('True')"
   ]
  },
  {
   "cell_type": "code",
   "execution_count": null,
   "metadata": {},
   "outputs": [],
   "source": [
    "b.plot_movingbumps() #check also output/figures/moving_bump folder"
   ]
  },
  {
   "cell_type": "code",
   "execution_count": null,
   "metadata": {},
   "outputs": [],
   "source": []
  },
  {
   "cell_type": "code",
   "execution_count": null,
   "metadata": {},
   "outputs": [],
   "source": [
    "#out = b.plot_movingWaves()"
   ]
  }
 ],
 "metadata": {
  "kernelspec": {
   "display_name": "Python 3",
   "language": "python",
   "name": "python3"
  },
  "language_info": {
   "codemirror_mode": {
    "name": "ipython",
    "version": 3
   },
   "file_extension": ".py",
   "mimetype": "text/x-python",
   "name": "python",
   "nbconvert_exporter": "python",
   "pygments_lexer": "ipython3",
   "version": "3.8.5"
  },
  "toc": {
   "base_numbering": 1,
   "nav_menu": {},
   "number_sections": true,
   "sideBar": true,
   "skip_h1_title": false,
   "title_cell": "Table of Contents",
   "title_sidebar": "Contents",
   "toc_cell": false,
   "toc_position": {},
   "toc_section_display": true,
   "toc_window_display": false
  }
 },
 "nbformat": 4,
 "nbformat_minor": 4
}
