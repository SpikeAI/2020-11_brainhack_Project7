{
 "cells": [
  {
   "cell_type": "code",
   "execution_count": 1,
   "metadata": {},
   "outputs": [
    {
     "data": {
      "text/html": [
       "<script>\n",
       "code_show=true; \n",
       "function code_toggle() {\n",
       " if (code_show){\n",
       " $('div.input').hide();\n",
       " } else {\n",
       " $('div.input').show();\n",
       " }\n",
       " code_show = !code_show\n",
       "} \n",
       "$( document ).ready(code_toggle);\n",
       "</script>\n",
       "<form action=\"javascript:code_toggle()\"><input type=\"submit\" value=\"Click here to toggle on/off the raw code.\">\n",
       "</form>"
      ],
      "text/plain": [
       "<IPython.core.display.HTML object>"
      ]
     },
     "execution_count": 1,
     "metadata": {},
     "output_type": "execute_result"
    }
   ],
   "source": [
    "from IPython.display import HTML\n",
    "\n",
    "HTML('''<script>\n",
    "code_show=true; \n",
    "function code_toggle() {\n",
    " if (code_show){\n",
    " $('div.input').hide();\n",
    " } else {\n",
    " $('div.input').show();\n",
    " }\n",
    " code_show = !code_show\n",
    "} \n",
    "$( document ).ready(code_toggle);\n",
    "</script>\n",
    "<form action=\"javascript:code_toggle()\"><input type=\"submit\" value=\"Click here to toggle on/off the raw code.\">\n",
    "</form>''')"
   ]
  },
  {
   "cell_type": "markdown",
   "metadata": {},
   "source": [
    "<H1> Modulation of activity by travelling waves in V1 topographical model</H1>\n",
    "\n",
    "<br>\n",
    "<p>The principal tasks are:\n",
    "    <ul>\n",
    "    <li> <b>translate</b> in a spiking neuronal network (SNNs) model the phenomenological model of V1 topographic map presented in\n",
    "        <a href=\"https://www.biorxiv.org/content/10.1101/2020.03.26.010017v2\"> Benvenuti et al 2020</a>\n",
    "    <li> <b>reproduce</b> the anticipation effect </p>\n",
    "    </ul>\n"
   ]
  },
  {
   "cell_type": "markdown",
   "metadata": {},
   "source": [
    "## introduction and motivations"
   ]
  },
  {
   "cell_type": "markdown",
   "metadata": {},
   "source": [
    "### neural anticipation "
   ]
  },
  {
   "cell_type": "markdown",
   "metadata": {},
   "source": [
    "<img src='extras/anticipation.png' alt='2DBump' width='700' height='600'>"
   ]
  },
  {
   "cell_type": "markdown",
   "metadata": {},
   "source": [
    "### the phenomenological model (Benvenuti et al 2020):\n"
   ]
  },
  {
   "cell_type": "markdown",
   "metadata": {},
   "source": [
    "<img src='extras/benvenuti_model.png' alt='2DBump' width='700' height='600'>"
   ]
  },
  {
   "cell_type": "markdown",
   "metadata": {},
   "source": [
    "### the bump attractor network model"
   ]
  },
  {
   "cell_type": "code",
   "execution_count": 2,
   "metadata": {},
   "outputs": [
    {
     "data": {
      "text/html": [
       "\n",
       "        <iframe\n",
       "            width=\"1000\"\n",
       "            height=\"500\"\n",
       "            src=\"extras/diagram-20201123.png\"\n",
       "            frameborder=\"0\"\n",
       "            allowfullscreen\n",
       "        ></iframe>\n",
       "        "
      ],
      "text/plain": [
       "<IPython.lib.display.IFrame at 0x7fd6ec85e390>"
      ]
     },
     "execution_count": 2,
     "metadata": {},
     "output_type": "execute_result"
    }
   ],
   "source": [
    "from IPython.display import IFrame\n",
    "IFrame('extras/diagram-20201123.png', width=1000, height=500)"
   ]
  },
  {
   "cell_type": "markdown",
   "metadata": {},
   "source": [
    "### the neuronal model"
   ]
  },
  {
   "cell_type": "markdown",
   "metadata": {},
   "source": [
    "<p>Leaky integrate and fire model with fixed threshold and exponentially-decaying post-sinaptic conductance</p>\n",
    "<p> <a href=\"https://neuralensemble.org/PyNN/\"> https://neuralensemble.org/PyNN/ </a>\n",
    "<p> <a href=\"https://www.nest-simulator.org/\"> https://www.nest-simulator.org/ </a>\n",
    "<p> <a href=\"http://spinnakermanchester.github.io/\"> http://spinnakermanchester.github.io/ </a>"
   ]
  },
  {
   "cell_type": "code",
   "execution_count": 3,
   "metadata": {},
   "outputs": [
    {
     "data": {
      "text/latex": [
       "$\\displaystyle \\frac{dV_M}{dt} =  \\frac{( -I_{Leak} - I^{syn}_{Ex} - I^{syn}_{In} + I_{Ext} )}{C_M}$"
      ],
      "text/plain": [
       "<IPython.core.display.Math object>"
      ]
     },
     "metadata": {},
     "output_type": "display_data"
    },
    {
     "data": {
      "text/latex": [
       "$\\displaystyle I^{syn}_{Exc} = G_{Ex} \\times ( V_M - E^{rev}_{Ex} )$"
      ],
      "text/plain": [
       "<IPython.core.display.Math object>"
      ]
     },
     "metadata": {},
     "output_type": "display_data"
    },
    {
     "data": {
      "text/latex": [
       "$\\displaystyle I^{syn}_{Inh} = G_{In} \\times ( V_M - E^{rev}_{In} )$"
      ],
      "text/plain": [
       "<IPython.core.display.Math object>"
      ]
     },
     "metadata": {},
     "output_type": "display_data"
    },
    {
     "data": {
      "text/latex": [
       "$\\displaystyle I_{Leak} = \\frac { C_M \\times (V_M - V_{rest})}{\\tau_M}$"
      ],
      "text/plain": [
       "<IPython.core.display.Math object>"
      ]
     },
     "metadata": {},
     "output_type": "display_data"
    },
    {
     "data": {
      "text/latex": [
       "$\\displaystyle G_{Ex}(t) = k_{Ex} \\times t \\times e^{-\\frac{t}{\\tau^{syn}_{Ex}}}$"
      ],
      "text/plain": [
       "<IPython.core.display.Math object>"
      ]
     },
     "metadata": {},
     "output_type": "display_data"
    },
    {
     "data": {
      "text/latex": [
       "$\\displaystyle G_{In}(t) = k_{In} \\times t \\times e^{-\\frac{t}{\\tau^{syn}_{In}}}$"
      ],
      "text/plain": [
       "<IPython.core.display.Math object>"
      ]
     },
     "metadata": {},
     "output_type": "display_data"
    }
   ],
   "source": [
    "from IPython.display import display, Math, Latex\n",
    "display(Math(r'\\frac{dV_M}{dt} =  \\frac{( -I_{Leak} - I^{syn}_{Ex} - I^{syn}_{In} + I_{Ext} )}{C_M}'))\n",
    "display(Math(r'I^{syn}_{Exc} = G_{Ex} \\times ( V_M - E^{rev}_{Ex} )'))\n",
    "display(Math(r'I^{syn}_{Inh} = G_{In} \\times ( V_M - E^{rev}_{In} )'))\n",
    "display(Math(r'I_{Leak} = \\frac { C_M \\times (V_M - V_{rest})}{\\tau_M}'))\n",
    "display(Math(r'G_{Ex}(t) = k_{Ex} \\times t \\times e^{-\\frac{t}{\\tau^{syn}_{Ex}}}'))\n",
    "display(Math(r'G_{In}(t) = k_{In} \\times t \\times e^{-\\frac{t}{\\tau^{syn}_{In}}}'))"
   ]
  },
  {
   "cell_type": "markdown",
   "metadata": {},
   "source": [
    "## simulation configurations and results"
   ]
  },
  {
   "cell_type": "code",
   "execution_count": 5,
   "metadata": {},
   "outputs": [
    {
     "name": "stdout",
     "output_type": "stream",
     "text": [
      "Detected PyNN version 0.9.4 and Neo version 0.6.1\n"
     ]
    },
    {
     "name": "stderr",
     "output_type": "stream",
     "text": [
      "2020-11-30 15:12:26 INFO: Read cfg files: /home/spinnaker/sPyNNaker/lib/python3.6/site-packages/spinn_front_end_common/interface/spinnaker.cfg, /home/spinnaker/sPyNNaker/lib/python3.6/site-packages/spynnaker/pyNN/spynnaker.cfg, /home/spinnaker/.spynnaker.cfg\n",
      "2020-11-30 15:12:26 INFO: Will search these locations for binaries: /home/spinnaker/sPyNNaker/lib/python3.6/site-packages/spinn_front_end_common/common_model_binaries : /home/spinnaker/sPyNNaker/lib/python3.6/site-packages/spynnaker/pyNN/model_binaries\n",
      "2020-11-30 15:12:26 INFO: Setting time scale factor to 1.\n",
      "2020-11-30 15:12:26 INFO: Setting machine time step to 1000 micro-seconds.\n",
      "2020-11-30 15:12:26 WARNING: Extra params {'debug': 0} have been applied to the setup command which we do not consider\n"
     ]
    },
    {
     "name": "stdout",
     "output_type": "stream",
     "text": [
      "['/home/spinnaker/sPyNNaker/lib/python3.6/site-packages/spinn_front_end_common/interface/spinnaker.cfg', '/home/spinnaker/sPyNNaker/lib/python3.6/site-packages/spynnaker/pyNN/spynnaker.cfg', '/home/spinnaker/.spynnaker.cfg']\n",
      "pop <spynnaker8.models.populations.population.Population object at 0x7fd68c6ccd48>\n",
      "pop <spynnaker8.models.populations.population.Population object at 0x7fd68c6cce18>\n",
      "connType is float\n",
      "connType is string\n",
      "connType is string\n",
      "connType is float\n",
      "connType is string\n",
      "connType is string\n",
      "connType is string\n",
      "connType is string\n"
     ]
    },
    {
     "name": "stderr",
     "output_type": "stream",
     "text": [
      "2020-11-30 15:13:00 INFO: Simulating for 1000 1.0ms timesteps using a hardware timestep of 1000us\n",
      "2020-11-30 15:13:00 INFO: Starting execution process\n",
      "2020-11-30 15:13:03 INFO: Time 0:00:03.288636 taken by SpallocMaxMachineGenerator\n",
      "Pre allocating resources for Extra Monitor support vertices\n",
      "|0%                          50%                         100%|\n",
      " ============================================================\n",
      "2020-11-30 15:13:12 INFO: Time 0:00:09.367079 taken by PreAllocateResourcesForExtraMonitorSupport\n",
      "Partitioning graph vertices\n",
      "|0%                          50%                         100%|\n",
      " ============================================================\n",
      "Partitioning graph edges\n",
      "|0%                          50%                         100%|\n",
      " ============================================================\n",
      "2020-11-30 15:13:18 INFO: Time 0:00:05.244079 taken by PartitionAndPlacePartitioner\n",
      "Created spalloc job 5535503\n",
      "2020-11-30 15:13:18 INFO: Created spalloc job 5535503\n",
      "Waiting for board power commands to complete.\n",
      "2020-11-30 15:13:18 INFO: Waiting for board power commands to complete.\n",
      "2020-11-30 15:13:23 INFO: Time 0:00:05.050282 taken by SpallocAllocator\n",
      "2020-11-30 15:13:23 INFO: Creating transceiver for 10.11.197.17\n",
      "2020-11-30 15:13:23 INFO: Working out if machine is booted\n",
      "2020-11-30 15:13:27 INFO: Attempting to boot machine\n",
      "2020-11-30 15:13:32 INFO: Found board with version [Version: SC&MP 3.2.5 at SpiNNaker:0:0:0 (built Thu Aug  1 08:15:06 2019)]\n",
      "2020-11-30 15:13:32 INFO: Machine communication successful\n",
      "2020-11-30 15:13:32 INFO: Detected a machine on IP address 10.11.197.17 which has 853 cores and 120.0 links\n",
      "2020-11-30 15:13:32 INFO: Time 0:00:09.634526 taken by MachineGenerator\n",
      "Generating partitioner report\n",
      "|0%                          50%                         100%|\n",
      " ============================================================\n",
      "2020-11-30 15:13:32 INFO: Time 0:00:00.007646 taken by PartitionerReport\n",
      "2020-11-30 15:13:32 INFO: Time 0:00:00.000339 taken by NetworkSpecificationReport\n",
      "Allocating virtual identifiers\n",
      "|0%                          50%                         100%|\n",
      " ============================================================\n",
      "2020-11-30 15:13:32 INFO: Time 0:00:00.035028 taken by MallocBasedChipIDAllocator\n",
      "Inserting extra monitors into graphs\n",
      "|0%                          50%                         100%|\n",
      " ============================================================\n",
      "2020-11-30 15:13:32 INFO: Time 0:00:00.042595 taken by InsertExtraMonitorVerticesToGraphs\n",
      "Writing the board chip report\n",
      "|0%                          50%                         100%|\n",
      " ============================================================\n",
      "2020-11-30 15:13:32 INFO: Time 0:00:00.006690 taken by BoardChipReport\n",
      "Filtering edges\n",
      "|0%                          50%                         100%|\n",
      " ===============================================/home/spinnaker/sPyNNaker/lib/python3.6/site-packages/spynnaker/pyNN/models/neural_projections/connectors/from_list_connector.py:129: VisibleDeprecationWarning: Creating an ndarray from ragged nested sequences (which is a list-or-tuple of lists-or-tuples-or ndarrays with different lengths or shapes) is deprecated. If you meant to do this, you must specify 'dtype=object' when creating the ndarray\n",
      "  sort_indices, numpy.cumsum(index_count)))\n",
      "=============\n",
      "2020-11-30 15:13:32 INFO: Time 0:00:00.069853 taken by GraphEdgeFilter\n",
      "Placing graph vertices\n",
      "|0%                          50%                         100%|\n",
      " ============================================================\n",
      "2020-11-30 15:13:33 INFO: Time 0:00:00.046945 taken by OneToOnePlacer\n",
      "Inserting edges between vertices which require FR speed up functionality.\n",
      "|0%                          50%                         100%|\n",
      " ============================================================\n",
      "2020-11-30 15:13:33 INFO: Time 0:00:00.054063 taken by InsertEdgesToExtraMonitorFunctionality\n",
      "Generating routing tables for data in system processes\n",
      "|0%                          50%                         100%|\n",
      " ============================================================\n",
      "2020-11-30 15:13:33 INFO: Time 0:00:00.009619 taken by DataInMulticastRoutingGenerator\n",
      "Generating fixed router routes\n",
      "|0%                          50%                         100%|\n",
      " ============================================================\n",
      "2020-11-30 15:13:33 INFO: Time 0:00:00.005285 taken by FixedRouteRouter\n",
      "Generating placement report\n",
      "|0%                          50%                         100%|\n",
      " ============================================================\n",
      "Generating placement by core report\n",
      "|0%                          50%                         100%|\n",
      " ============================================================\n",
      "2020-11-30 15:13:33 INFO: Time 0:00:00.065133 taken by PlacerReportWithApplicationGraph\n",
      "Routing\n",
      "|0%                          50%                         100%|\n",
      " ============================================================\n",
      "\n",
      "2020-11-30 15:13:33 INFO: Time 0:00:00.049216 taken by NerRoute\n",
      "Discovering tags\n",
      "|0%                          50%                         100%|\n",
      " ============================================================\n",
      "Allocating tags\n",
      "|0%                          50%                         100%|\n",
      " ============================================================\n",
      "2020-11-30 15:13:33 INFO: Time 0:00:00.048658 taken by BasicTagAllocator\n",
      "Reporting Tags\n",
      "|0%                          50%                         100%|\n",
      " ============================================================\n",
      "2020-11-30 15:13:33 INFO: Time 0:00:00.008281 taken by TagReport\n",
      "Getting number of keys required by each edge using application graph\n",
      "|0%                          50%                         100%|\n",
      " ============================================================\n",
      "2020-11-30 15:13:33 INFO: Time 0:00:00.035540 taken by EdgeToNKeysMapper\n",
      "Getting constraints for application graph\n",
      "|0%                          50%                         100%|\n",
      " ============================================================\n",
      "2020-11-30 15:13:33 INFO: Time 0:00:00.032058 taken by ProcessPartitionConstraints\n",
      "Allocating routing keys\n",
      "|0%                          50%                         100%|\n",
      " ============================================================\n",
      "2020-11-30 15:13:33 INFO: Time 0:00:00.062541 taken by MallocBasedRoutingInfoAllocator\n",
      "Generating Routing info report\n",
      "|0%                          50%                         100%|\n",
      " ============================================================\n",
      "2020-11-30 15:13:33 INFO: Time 0:00:00.034812 taken by routingInfoReports\n",
      "Generating routing tables\n",
      "|0%                          50%                         100%|\n",
      " ============================================================\n",
      "2020-11-30 15:13:33 INFO: Time 0:00:00.030817 taken by BasicRoutingTableGenerator\n",
      "Finding executable start types\n",
      "|0%                          50%                         100%|\n",
      " ============================================================\n",
      "2020-11-30 15:13:33 INFO: Time 0:00:00.045421 taken by LocateExecutableStartType\n",
      "Initialising buffers\n",
      "|0%                          50%                         100%|\n",
      " ============================================================\n",
      "2020-11-30 15:13:33 INFO: Time 0:00:00.031804 taken by BufferManagerCreator\n",
      "Generating data specifications\n",
      "|0%                          50%                         100%|\n",
      " ============================================================\n",
      "2020-11-30 15:13:34 INFO: Time 0:00:00.734887 taken by SpynnakerDataSpecificationWriter\n",
      "Preparing Routing Tables\n",
      "|0%                          50%                         100%|\n",
      " ============================================================\n",
      "2020-11-30 15:13:34 INFO: Time 0:00:00.010732 taken by RoutingSetup\n",
      "Finding binaries\n",
      "|0%                          50%                         100%|\n",
      " ============================================================\n",
      "2020-11-30 15:13:34 INFO: Time 0:00:00.035552 taken by GraphBinaryGatherer\n",
      "Running routing table compression on chip\n",
      "|0%                          50%                         100%|\n",
      " ============================================================\n",
      "2020-11-30 15:13:38 INFO: Time 0:00:04.552603 taken by MundyOnChipRouterCompression\n",
      "Generating Router table report\n",
      "|0%                          50%                         100%|\n",
      " ============================================================\n",
      "2020-11-30 15:13:38 INFO: Time 0:00:00.010626 taken by unCompressedRoutingTableReports\n",
      "loading fixed routes\n",
      "|0%                          50%                         100%|\n",
      " ============================================================\n",
      "2020-11-30 15:13:38 INFO: Time 0:00:00.047838 taken by LoadFixedRoutes\n",
      "Executing data specifications and loading data for system vertices\n",
      "|0%                          50%                         100%|\n",
      " ============================================================\n",
      "2020-11-30 15:13:39 INFO: Time 0:00:00.149745 taken by HostExecuteSystemDataSpecification\n",
      "Loading system executables onto the machine\n",
      "|0%                          50%                         100%|\n",
      " ============================================================\n",
      "2020-11-30 15:13:44 INFO: Time 0:00:05.712156 taken by LoadSystemExecutableImages\n",
      "Clearing tags\n",
      "|0%                          50%                         100%|\n",
      " ============================================================\n",
      "Loading Tags\n",
      "|0%                          50%                         100%|\n",
      " ============================================================\n",
      "2020-11-30 15:13:44 INFO: Time 0:00:00.019747 taken by TagsLoader\n",
      "Writing data\n",
      "|0%                          50%                         100%|\n",
      " ============================================================\n",
      "2020-11-30 15:13:44 INFO: Time 0:00:00.052127 taken by WriteMemoryIOData\n",
      "Executing data specifications and loading data for application vertices\n",
      "|0%                          50%                         100%|\n",
      " ============================================================\n",
      "2020-11-30 15:13:46 INFO: Time 0:00:01.158031 taken by HostExecuteApplicationDataSpecification\n",
      "Expanding Synapses\n",
      "|0%                          50%                         100%|\n",
      " ============================================================\n",
      "2020-11-30 15:13:46 INFO: Time 0:00:00.542938 taken by SynapseExpander\n",
      "Writing fixed route report\n",
      "|0%                          50%                         100%|\n",
      " ============================================================\n",
      "2020-11-30 15:13:46 INFO: Time 0:00:00.045716 taken by FixedRouteFromMachineReport\n",
      "Loading executables onto the machine\n",
      "|0%                          50%                         100%|\n",
      " ============================================================\n",
      "2020-11-30 15:13:56 INFO: Time 0:00:09.569962 taken by LoadApplicationExecutableImages\n",
      "Reading Routing Tables from Machine\n",
      "|0%                          50%                         100%|\n",
      " ============================================================\n",
      "2020-11-30 15:13:56 INFO: Time 0:00:00.030615 taken by RoutingTableFromMachineReport\n",
      "Generating compressed router table report\n",
      "|0%                          50%                         100%|\n",
      " ============================================================\n",
      "2020-11-30 15:13:56 INFO: Time 0:00:00.009006 taken by compressedRoutingTableReports\n",
      "Generating comparison of router table report\n",
      "|0%                          50%                         100%|\n",
      " ============================================================\n",
      "2020-11-30 15:13:56 INFO: Time 0:00:00.008417 taken by comparisonOfRoutingTablesReport\n",
      "2020-11-30 15:13:56 INFO: Running for 1 steps for a total of 1000.0ms\n",
      "2020-11-30 15:13:56 INFO: Run 1 of 1\n",
      "Generating SDRAM usage report\n",
      "|0%                          50%                         100%|\n",
      " ============================================================\n",
      "2020-11-30 15:13:56 INFO: Time 0:00:00.069512 taken by SdramUsageReportPerChip\n",
      "Updating run time\n",
      "|0%                          50%                         100%|\n",
      " ============================================================\n",
      "2020-11-30 15:13:56 INFO: Time 0:00:00.035556 taken by ChipRuntimeUpdater\n",
      "2020-11-30 15:13:56 INFO: creating live event connection database in /home/spinnaker/2020-11_brainhack_Project7/application_generated_data_files/2020-11-30-15-12-26-172788/run_1/input_output_database.db\n",
      "Creating graph description database\n",
      "|0%                          50%                         100%|\n",
      " ============================================================\n",
      "2020-11-30 15:13:56 INFO: Time 0:00:00.096686 taken by DatabaseInterface\n",
      "2020-11-30 15:13:56 INFO: ** Notifying external sources that the database is ready for reading **\n",
      "2020-11-30 15:13:56 INFO: Time 0:00:00.001223 taken by NotificationProtocol\n",
      "2020-11-30 15:13:56 INFO: *** Running simulation... *** \n",
      "Loading buffers\n",
      "|0%                          50%                         100%|\n",
      " ============================================================\n",
      "2020-11-30 15:13:56 INFO: ** Awaiting for a response from an external source to state its ready for the simulation to start **\n",
      "2020-11-30 15:13:56 INFO: ** Sending start / resume message to external sources to state the simulation has started or resumed. **\n",
      "2020-11-30 15:13:56 INFO: ** Awaiting for a response from an external source to state its ready for the simulation to start **\n",
      "2020-11-30 15:13:56 INFO: Application started; waiting 1.1s for it to stop\n",
      "2020-11-30 15:13:57 INFO: ** Sending pause / stop message to external sources to state the simulation has been paused or stopped. **\n",
      "2020-11-30 15:13:57 INFO: Time 0:00:01.430507 taken by ApplicationRunner\n",
      "Extracting buffers from the last run\n",
      "|0%                          50%                         100%|\n",
      " ============================================================\n",
      "2020-11-30 15:14:02 INFO: Time 0:00:04.626148 taken by BufferExtractor\n",
      "Getting provenance data from machine graph\n",
      "|0%                          50%                         100%|\n",
      " ============================================================\n",
      "Getting provenance data from application graph\n",
      "|0%                          50%                         100%|\n",
      " ============================================================\n",
      "2020-11-30 15:14:02 INFO: Time 0:00:00.114607 taken by GraphProvenanceGatherer\n",
      "Getting provenance data\n",
      "|0%                          50%                         100%|\n",
      " ============================================================\n",
      "2020-11-30 15:14:02 INFO: Time 0:00:00.048497 taken by PlacementsProvenanceGatherer\n",
      "Getting Router Provenance\n",
      "|0%                          50%                         100%|\n",
      " ============================================================\n",
      "2020-11-30 15:14:02 INFO: Time 0:00:00.051895 taken by RouterProvenanceGatherer\n",
      "Getting profile data\n",
      "|0%                          50%                         100%|\n",
      " ============================================================\n",
      "2020-11-30 15:14:02 INFO: Time 0:00:00.042480 taken by ProfileDataGatherer\n",
      "Getting spikes for 2D-bumpNN\n",
      "|0%                          50%                         100%|\n",
      " ============================================================\n",
      "Getting v for 2D-bumpNN\n",
      "|0%                          50%                         100%|\n",
      " ============================================================\n",
      "Getting gsyn_exc for 2D-bumpNN\n",
      "|0%                          50%                         100%|\n",
      " ============================================================\n",
      "Getting gsyn_inh for 2D-bumpNN\n",
      "|0%                          50%                         100%|\n",
      " ============================================================\n",
      "Getting spikes for 2D-bumpNN1\n",
      "|0%                          50%                         100%|\n",
      " ============================================================\n",
      "Getting v for 2D-bumpNN1\n",
      "|0%                          50%                         100%|\n",
      " ============================================================\n",
      "2020-11-30 15:14:03 WARNING: Warning getting data on a whole population when selective recording is active will result in only the requested neurons being returned in numerical order and without repeats.\n",
      "Getting gsyn_exc for 2D-bumpNN1\n",
      "|0%                          50%                         100%|\n",
      " ============================================================\n",
      "Getting gsyn_inh for 2D-bumpNN1\n",
      "|0%                          50%                         100%|\n",
      " ============================================================\n",
      "Getting spikes for SpikeSourceArrayVertex_2\n",
      "|0%                          50%                         100%|\n",
      " ============================================================\n",
      "Getting ['source', 'target', 'weight', 'delay']s for projection between SpikeSourceArrayVertex_2 and 2D-bumpNN\n",
      "|0%                          50%                         100%|\n",
      " ==============="
     ]
    },
    {
     "name": "stdout",
     "output_type": "stream",
     "text": [
      "v\n",
      "v\n",
      "gsyn_exc\n",
      "gsyn_exc\n",
      "gsyn_inh\n",
      "gsyn_inh\n"
     ]
    },
    {
     "name": "stderr",
     "output_type": "stream",
     "text": [
      "=============================================\n",
      "Getting ['source', 'target', 'weight', 'delay']s for projection between 2D-bumpNN and 2D-bumpNN\n",
      "|0%                          50%                         100%|\n",
      " ============================================================\n",
      "Getting ['source', 'target', 'weight', 'delay']s for projection between 2D-bumpNN and 2D-bumpNN1\n",
      "|0%                          50%                         100%|\n",
      " ============================================================\n",
      "Getting ['source', 'target', 'weight', 'delay']s for projection between 2D-bumpNN1 and 2D-bumpNN1\n",
      "|0%                          50%                         100%|\n",
      " ============================================================\n",
      "Getting ['source', 'target', 'weight', 'delay']s for projection between 2D-bumpNN1 and 2D-bumpNN\n",
      "|0%                          50%                         100%|\n",
      " ============================================================"
     ]
    },
    {
     "name": "stdout",
     "output_type": "stream",
     "text": [
      "v\n",
      "gsyn_exc\n",
      "gsyn_inh\n",
      "v\n",
      "gsyn_exc\n",
      "gsyn_inh\n"
     ]
    },
    {
     "name": "stderr",
     "output_type": "stream",
     "text": [
      "\n"
     ]
    }
   ],
   "source": [
    "import numpy as np\n",
    "import VisionSNN\n",
    "\n",
    "# loading args\n",
    "args = VisionSNN.init()\n",
    "args.simulator = \"pyNN.spiNNaker\" # https://spinn-20.cs.man.ac.uk/ import pyNN.spiNNaker as sim\n",
    "args.N_pop = 900 # numbers of neurons for each layer (LGN, EXC, INH)\n",
    "\n",
    "# simulations pars\n",
    "args.dt = 1 # ms\n",
    "args.min_delay = 1 # ms\n",
    "args.max_delay = 100 # ms\n",
    "args.simtime = 1000 # ms # timebin = simtime / dt\n",
    "\n",
    "# stimulus\n",
    "args.im_noise = 0.025 # 2.5 %\n",
    "args.im_contrast = 0.15 # 15 %  \n",
    "\n",
    "# network pars\n",
    "args.E_expPar = 1.2 # horizontal projection exponential parameter for E layer\n",
    "args.I_expPar = 1.15 # horizontal projection exponential parameter for I layer\n",
    "\n",
    "args.E_weight = 0.06 # [uS] from E to E (distance based delay)\n",
    "args.Eone_weight =  0.40 # [uS] from E to I (with 30ms of delay)\n",
    "args.I_weight = 2.5 # [uS] from I to I (distance based delay)\n",
    "args.Ione_weight = 9.0  # [uS] from I to E (with 30ms of delay)\n",
    "\n",
    "args.waveVelocity = 0.35 # [mm/ms] in Muller 2014 is 0.35 m/s http://www.int.univ-amu.fr/IMG/pdf/Muller_Nature_Communications2014.pdf\n",
    "args.scalePar = 1.0 # distance scale par \n",
    "\n",
    "args.E_v_tresh = -50.0 # [mv] excitatory neuron voltage treshold\n",
    "args.I_v_tresh = -50.0 # [mv] inhibitry neuron voltage treshold\n",
    "\n",
    "# tag and bump class call\n",
    "args.tag = '2020-XX-XX_whiteNotebook' + '_noise=' + str(args.im_noise) + '_im_contrast=' + str(args.im_contrast) + '_Ivt=' + str(args.I_v_tresh) + '_Evt=' + str(args.E_v_tresh)+ \"_EexpPar=\" + str(args.E_expPar) + \"_IexpPar=\" + str(args.I_expPar) + \"_Eweight=\" + str(args.E_weight)+ \"_Iweight=\" + str(args.I_weight) + \"_Eoneweight=\" + str(args.Eone_weight)+ \"_Ioneweight=\" + str(args.Ione_weight)\n",
    "bump = VisionSNN.Bump2D(args)\n",
    "\n",
    "# runs simulations / load simulutions\n",
    "results = bump.run()"
   ]
  },
  {
   "cell_type": "code",
   "execution_count": 6,
   "metadata": {},
   "outputs": [
    {
     "name": "stdout",
     "output_type": "stream",
     "text": [
      "Loaded data\n",
      "v\n",
      "gsyn_exc\n",
      "gsyn_inh\n",
      "v\n",
      "gsyn_exc\n",
      "gsyn_inh\n"
     ]
    }
   ],
   "source": [
    "# runs simulations / load simulutions\n",
    "results = bump.run()\n",
    "\n",
    "# post processing class call\n",
    "p = VisionSNN.PlotSNN(args, results)"
   ]
  },
  {
   "cell_type": "markdown",
   "metadata": {},
   "source": [
    "### average firing rate for the different sub-layers of the model"
   ]
  },
  {
   "cell_type": "code",
   "execution_count": 7,
   "metadata": {},
   "outputs": [
    {
     "data": {
      "application/vnd.jupyter.widget-view+json": {
       "model_id": "30169565e23741ba82f3c762ac71275d",
       "version_major": 2,
       "version_minor": 0
      },
      "text/plain": [
       "Canvas(toolbar=Toolbar(toolitems=[('Home', 'Reset original view', 'home', 'home'), ('Back', 'Back to previous …"
      ]
     },
     "metadata": {},
     "output_type": "display_data"
    }
   ],
   "source": [
    "startingTime = 0 # ms\n",
    "endingTime = 1000 # ms\n",
    "windowStep = 200 # ms \n",
    "p.plot_figure1(startingTime, endingTime, windowStep, showArg='True', figsize=(14,12))  \n"
   ]
  },
  {
   "cell_type": "markdown",
   "metadata": {},
   "source": [
    "### differential activity in the different sub-layers for three positions along the dot’s trajectory"
   ]
  },
  {
   "cell_type": "code",
   "execution_count": 8,
   "metadata": {
    "scrolled": true
   },
   "outputs": [
    {
     "name": "stdout",
     "output_type": "stream",
     "text": [
      "8 14 20\n",
      "14 14 14\n"
     ]
    },
    {
     "data": {
      "application/vnd.jupyter.widget-view+json": {
       "model_id": "3ef799acbe3b4d2babef47720ca7b9b0",
       "version_major": 2,
       "version_minor": 0
      },
      "text/plain": [
       "Canvas(toolbar=Toolbar(toolitems=[('Home', 'Reset original view', 'home', 'home'), ('Back', 'Back to previous …"
      ]
     },
     "metadata": {},
     "output_type": "display_data"
    }
   ],
   "source": [
    "n1=428 #(14, 8)\n",
    "n2=434 #(14, 14)\n",
    "n3=440 #(14, 20)\n",
    "print(n1%30, n2%30, n3%30)\n",
    "print(n1//30, n2//30, n3//30)\n",
    "p.plot_figure2(n1, n2, n3, showArg='True', figsize=(13,5)) "
   ]
  },
  {
   "cell_type": "markdown",
   "metadata": {},
   "source": [
    "## next steps "
   ]
  },
  {
   "cell_type": "markdown",
   "metadata": {},
   "source": [
    "## other plots"
   ]
  },
  {
   "cell_type": "markdown",
   "metadata": {},
   "source": [
    "### conductances "
   ]
  },
  {
   "cell_type": "code",
   "execution_count": null,
   "metadata": {},
   "outputs": [],
   "source": [
    "p.plot_conductances(showArg='True') # it makes three figures"
   ]
  },
  {
   "cell_type": "markdown",
   "metadata": {},
   "source": [
    "### voltages"
   ]
  },
  {
   "cell_type": "code",
   "execution_count": null,
   "metadata": {},
   "outputs": [],
   "source": [
    "p.plot_voltage(showArg='False', fname='voltage.png', figsize=(12, 12)) "
   ]
  },
  {
   "cell_type": "code",
   "execution_count": null,
   "metadata": {},
   "outputs": [],
   "source": [
    "## see in postprocessing class other plots"
   ]
  },
  {
   "cell_type": "code",
   "execution_count": 9,
   "metadata": {},
   "outputs": [
    {
     "name": "stdout",
     "output_type": "stream",
     "text": [
      " 2020-11-26_whiteNotebook_spinnaker.ipynb   \u001b[0m\u001b[01;34mfigures\u001b[0m/    \u001b[01;34mreports\u001b[0m/\n",
      " 2020-11-30_whiteNotebook_nest.ipynb        LICENSE    \u001b[01;34m'Untitled Folder'\u001b[0m/\n",
      " \u001b[01;34mapplication_generated_data_files\u001b[0m/          \u001b[01;34moutputs\u001b[0m/    \u001b[01;34mVisionSNN\u001b[0m/\n",
      " \u001b[01;34mextras\u001b[0m/                                    README.md\n"
     ]
    }
   ],
   "source": [
    "%ls\n"
   ]
  },
  {
   "cell_type": "code",
   "execution_count": null,
   "metadata": {},
   "outputs": [],
   "source": []
  }
 ],
 "metadata": {
  "kernelspec": {
   "display_name": "sPyNNaker",
   "language": "python",
   "name": "spynnaker"
  },
  "language_info": {
   "codemirror_mode": {
    "name": "ipython",
    "version": 3
   },
   "file_extension": ".py",
   "mimetype": "text/x-python",
   "name": "python",
   "nbconvert_exporter": "python",
   "pygments_lexer": "ipython3",
   "version": "3.6.9"
  },
  "toc": {
   "base_numbering": 1,
   "nav_menu": {},
   "number_sections": true,
   "sideBar": true,
   "skip_h1_title": false,
   "title_cell": "Table of Contents",
   "title_sidebar": "Contents",
   "toc_cell": false,
   "toc_position": {
    "height": "calc(100% - 180px)",
    "left": "10px",
    "top": "150px",
    "width": "302.5px"
   },
   "toc_section_display": true,
   "toc_window_display": true
  }
 },
 "nbformat": 4,
 "nbformat_minor": 4
}
