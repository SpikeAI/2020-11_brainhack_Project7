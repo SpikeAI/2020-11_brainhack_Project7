{
 "cells": [
  {
   "cell_type": "code",
   "execution_count": 1,
   "metadata": {},
   "outputs": [
    {
     "name": "stdout",
     "output_type": "stream",
     "text": [
      "Python implementation: CPython\n",
      "Python version       : 3.8.5\n",
      "IPython version      : 7.18.1\n",
      "\n",
      "numpy     : 1.19.2\n",
      "matplotlib: 3.3.2\n",
      "pyNN      : 0.9.5\n",
      "neo       : 0.8.0\n",
      "moviepy   : 1.0.3\n",
      "imageio   : 2.9.0\n",
      "\n",
      "Compiler    : GCC 9.3.0\n",
      "OS          : Linux\n",
      "Release     : 5.4.0-53-generic\n",
      "Machine     : x86_64\n",
      "Processor   : x86_64\n",
      "CPU cores   : 4\n",
      "Architecture: 64bit\n",
      "\n",
      "Hostname: inv-ope-de06\n",
      "\n",
      "Git hash: 54e2e1d532ac3beede3f6c9fe029385d6e72a537\n",
      "\n",
      "Git repo: https://github.com/SpikeAI/2020-11_brainhack_Project7\n",
      "\n",
      "Git branch: main\n",
      "\n"
     ]
    }
   ],
   "source": [
    "%run boilerplate.ipynb"
   ]
  },
  {
   "cell_type": "code",
   "execution_count": 2,
   "metadata": {},
   "outputs": [
    {
     "name": "stdout",
     "output_type": "stream",
     "text": [
      "movie.min()=-0.5132932038292664 - movie.max()=1.0 \n"
     ]
    },
    {
     "data": {
      "text/plain": [
       "(128, 128, 200)"
      ]
     },
     "execution_count": 2,
     "metadata": {},
     "output_type": "execute_result"
    }
   ],
   "source": [
    "width = int(np.sqrt(N_pop))\n",
    "\n",
    "input_movie = generate_dot( width, width,\n",
    "                            time_bins,\n",
    "                            flash_start=0.2,\n",
    "                            flash_duration=0.6,\n",
    "                            dot_size = 0.1,\n",
    "                            im_noise = .1,\n",
    "                            im_contrast = .9)\n",
    "minmax(input_movie)\n",
    "input_movie.shape"
   ]
  },
  {
   "cell_type": "code",
   "execution_count": null,
   "metadata": {},
   "outputs": [],
   "source": [
    "show(make_movie(input_movie, label='input_movie'))"
   ]
  },
  {
   "cell_type": "code",
   "execution_count": null,
   "metadata": {},
   "outputs": [],
   "source": [
    "input_movie_spikes = (input_movie > np.random.rand(width, width, time_bins))*1.\n",
    "input_movie_spikes[..., :2] = 0 # avoid having a spike at the first time bin"
   ]
  },
  {
   "cell_type": "code",
   "execution_count": null,
   "metadata": {},
   "outputs": [],
   "source": [
    "minmax(input_movie), minmax(input_movie_spikes)"
   ]
  },
  {
   "cell_type": "code",
   "execution_count": null,
   "metadata": {},
   "outputs": [],
   "source": [
    "show(make_movie(input_movie_spikes, label='poisson'))"
   ]
  },
  {
   "cell_type": "raw",
   "metadata": {},
   "source": [
    "show(make_mp4(f'{output_dir}/poisson.mp4', generate_images(input_movie_spikes, label='spikes', output_dir=output_dir, verbose=False), fps), width=width)"
   ]
  },
  {
   "cell_type": "raw",
   "metadata": {},
   "source": [
    "input_movie = input_movie.transpose(2, 1, 0)\n",
    "input_movie.shape"
   ]
  },
  {
   "cell_type": "code",
   "execution_count": null,
   "metadata": {},
   "outputs": [],
   "source": [
    "cellSourceSpikes = []\n",
    "for i in range(N_pop):\n",
    "    row = i//width\n",
    "    col = i%width\n",
    "    spike_times = np.where(input_movie_spikes[row, col, :]==True)[0]\n",
    "    cellSourceSpikes.append(spike_times)\n",
    "\n",
    "cellSourceSpikes = [list(elem) for elem in cellSourceSpikes]\n",
    "len(cellSourceSpikes), cellSourceSpikes[0], np.sum([len(st) for st in cellSourceSpikes])"
   ]
  },
  {
   "cell_type": "code",
   "execution_count": null,
   "metadata": {},
   "outputs": [],
   "source": [
    "try:\n",
    "    import pyNN.spiNNaker as sim\n",
    "    simulator = 'spinnaker'\n",
    "except ModuleNotFoundError:\n",
    "    import pyNN.nest as sim\n",
    "    simulator = 'nest'"
   ]
  },
  {
   "cell_type": "code",
   "execution_count": null,
   "metadata": {},
   "outputs": [],
   "source": [
    "sim.setup(timestep=.1,\n",
    "          min_delay=1,\n",
    "          max_delay=100,\n",
    "          debug=0)\n",
    "\n",
    "sources = sim.SpikeSourceArray(spike_times=cellSourceSpikes)\n",
    "spikeSource = sim.Population(N_pop, sources)    \n",
    "spikeSource.record(['spikes'])"
   ]
  },
  {
   "cell_type": "code",
   "execution_count": null,
   "metadata": {},
   "outputs": [],
   "source": [
    "sim.run(simtime=simtime)"
   ]
  },
  {
   "cell_type": "code",
   "execution_count": null,
   "metadata": {},
   "outputs": [],
   "source": [
    "spikeSources  = spikeSource.get_data()#.segments[0].spiketrains\n",
    "S_spikes = spikeSources.segments[0].spiketrains"
   ]
  },
  {
   "cell_type": "code",
   "execution_count": null,
   "metadata": {},
   "outputs": [],
   "source": [
    "sim.end()"
   ]
  },
  {
   "cell_type": "code",
   "execution_count": null,
   "metadata": {},
   "outputs": [],
   "source": [
    "st = S_spikes[0]\n",
    "st"
   ]
  },
  {
   "cell_type": "code",
   "execution_count": null,
   "metadata": {},
   "outputs": [],
   "source": [
    "st.as_array()"
   ]
  },
  {
   "cell_type": "code",
   "execution_count": null,
   "metadata": {},
   "outputs": [],
   "source": [
    "st.magnitude "
   ]
  },
  {
   "cell_type": "code",
   "execution_count": null,
   "metadata": {},
   "outputs": [],
   "source": [
    "all_spikes = np.hstack([st.magnitude for st in S_spikes])\n",
    "len(all_spikes)"
   ]
  },
  {
   "cell_type": "code",
   "execution_count": null,
   "metadata": {},
   "outputs": [],
   "source": [
    "output_spike = np.zeros((width, width, time_bins))\n",
    "for i in range(N_pop):\n",
    "    row = i//width\n",
    "    col = i%width\n",
    "    for spiketime in st.as_array():\n",
    "        output_spike[row, col, int(spiketime)] = 1\n",
    "\n",
    "output_spike[0, 0, :]   "
   ]
  },
  {
   "cell_type": "code",
   "execution_count": null,
   "metadata": {},
   "outputs": [],
   "source": [
    "int(spiketime), output_spike.shape"
   ]
  },
  {
   "cell_type": "code",
   "execution_count": null,
   "metadata": {},
   "outputs": [],
   "source": [
    "show(make_movie(output_spike, label='output_spike'))"
   ]
  },
  {
   "cell_type": "code",
   "execution_count": null,
   "metadata": {},
   "outputs": [],
   "source": [
    "show(make_mp4(f'{output_dir}/output_spike.mp4', generate_images(output_spike, label='output_spike', output_dir=output_dir, verbose=False), fps), width=width)"
   ]
  },
  {
   "cell_type": "code",
   "execution_count": null,
   "metadata": {},
   "outputs": [],
   "source": [
    "show(make_mp4(f'{output_dir}/test_stop.mp4', generate_images(input_movie, label='image', output_dir=output_dir, verbose=False), fps), width=width)"
   ]
  },
  {
   "cell_type": "code",
   "execution_count": null,
   "metadata": {},
   "outputs": [],
   "source": [
    "for i in range(N_pop): # loops over sources\n",
    "    S_spike_train = S_spikes[i].as_array() # makes each source as array\n",
    "    S_spike_times = [int(t) for t in S_spike_train]\n",
    "    S_spk_list.append(S_spikes[i].as_array())\n",
    "    for spike_time in S_spike_times: # loops over spikes for each source\n",
    "            #print(spike_time, i)\n",
    "            S_binMat[spike_time-1, i-1] = 1 # the -1 in the args traslates the values in list indeces\n",
    "                            # (e.g. 50th cell spikes at 1000ms -> E_binMat[49, 999])"
   ]
  },
  {
   "cell_type": "code",
   "execution_count": null,
   "metadata": {},
   "outputs": [],
   "source": [
    "import matplotlib.pyplot as plt\n",
    "fig = plt.figure(figsize=(6,12))\n",
    "fig.suptitle(\"Spike trains in Sources and E layers\", fontsize=18)\n",
    "\n",
    "ax = fig.add_subplot(10,1,1)\n",
    "inSpikes = spikeSource.get_data().segments[0].spiketrains\n",
    "im = plt.eventplot(inSpikes, colors='blue')\n",
    "ax.set_title(\"Spikes in Sources Layer \", y=1.10, fontsize=16)\n",
    "ax.set_xlabel(\"[ms]\", fontsize=14); \n",
    "ax.set_ylabel(\"neurons\", fontsize=14)\n"
   ]
  },
  {
   "cell_type": "code",
   "execution_count": null,
   "metadata": {},
   "outputs": [],
   "source": [
    "segment.spiketrains ['spike_times']"
   ]
  },
  {
   "cell_type": "code",
   "execution_count": null,
   "metadata": {},
   "outputs": [],
   "source": [
    "st.annotations['source_id']"
   ]
  },
  {
   "cell_type": "code",
   "execution_count": null,
   "metadata": {},
   "outputs": [],
   "source": []
  },
  {
   "cell_type": "code",
   "execution_count": null,
   "metadata": {
    "scrolled": true
   },
   "outputs": [],
   "source": [
    "plt.eventplot(E_spikes, colors='red')\n"
   ]
  },
  {
   "cell_type": "code",
   "execution_count": null,
   "metadata": {
    "scrolled": true
   },
   "outputs": [],
   "source": [
    "fig = plt.figure(figsize=(6,12))\n",
    "fig.suptitle(\"Spike trains in Sources and E layers\", fontsize=18)\n",
    "\n",
    "ax = fig.add_subplot(4,1,1)\n",
    "im = plt.eventplot(inSpikes, colors='blue')\n",
    "ax.set_title(\"Spikes in Sources Layer \", y=1.10, fontsize=16)\n",
    "ax.set_xlabel(\"[ms]\", fontsize=14); \n",
    "ax.set_ylabel(\"neurons\", fontsize=14)\n",
    "#spikeSourceTimes[-1]\n",
    "\n",
    "ax = fig.add_subplot(4,1,2)\n",
    "im = plt.eventplot(E_spikes, colors='red')\n",
    "ax.set_title(\"Spikes in E Layer \", y=1.10, fontsize=16)\n",
    "ax.set_xlabel(\"[ms]\", fontsize=14); \n",
    "ax.set_ylim(350,550)\n",
    "\n",
    "ax.set_ylabel(\"neurons\", fontsize=14)\n",
    "fig.suptitle(\"Spike trains in Sources and E layers\", fontsize=18)\n",
    "\n",
    "ax = fig.add_subplot(4,1,3)\n",
    "im=ax.matshow(E_v.T); fig.colorbar(im)\n",
    "ax.set_title(\"[mV] in E layer\", fontsize=14,y=1.15)\n",
    "ax.set_xlabel(\"[ms]\", fontsize=14); \n",
    "ax.set_ylabel(\"neurons\", fontsize=14)\n",
    "#ax.set_ylim(0,len(spikeSourceTimes))  \n",
    "\n",
    "ax = fig.add_subplot(4,1,4)\n",
    "im=ax.matshow(E_gsynE.T); fig.colorbar(im)\n",
    "ax.set_title(\" Exc [uS] in E layer\", fontsize=14,y=1.15)\n",
    "ax.set_xlabel(\"[ms]\", fontsize=14); \n",
    "ax.set_ylabel(\"neurons\", fontsize=14)\n",
    "#ax.set_ylim(0,len(spikeSourceTimes))  \n",
    "\n",
    "fig.subplots_adjust(hspace=0.75,wspace=0)"
   ]
  },
  {
   "cell_type": "code",
   "execution_count": null,
   "metadata": {},
   "outputs": [],
   "source": [
    "E_varV = []\n",
    "for i in range(len(E_v)):\n",
    "    E_varV.append([np.var(E_v[i])])\n",
    "a=np.asarray(E_varV)\n",
    "a=a\n",
    "a.resize(30,30)\n",
    "plt.matshow(a)\n",
    "a.shape"
   ]
  },
  {
   "cell_type": "code",
   "execution_count": null,
   "metadata": {},
   "outputs": [],
   "source": [
    "E_var_gsynE = []\n",
    "for i in range(len(E_gsynE.T)):\n",
    "    c = E_gsynE.T\n",
    "    E_var_gsynE.append([np.var(c[i])])\n",
    "b=np.asarray(E_var_gsynE)\n",
    "b.resize(30,30)\n",
    "plt.matshow(b)\n",
    "b.shape\n",
    "len(E_gsynE)"
   ]
  },
  {
   "cell_type": "code",
   "execution_count": null,
   "metadata": {},
   "outputs": [],
   "source": []
  },
  {
   "cell_type": "code",
   "execution_count": null,
   "metadata": {},
   "outputs": [],
   "source": []
  },
  {
   "cell_type": "code",
   "execution_count": null,
   "metadata": {},
   "outputs": [],
   "source": [
    "plt.eventplot(spikeSources.segments[0].spiketrains, colors='black')"
   ]
  }
 ],
 "metadata": {
  "kernelspec": {
   "display_name": "Python 3",
   "language": "python",
   "name": "python3"
  },
  "language_info": {
   "codemirror_mode": {
    "name": "ipython",
    "version": 3
   },
   "file_extension": ".py",
   "mimetype": "text/x-python",
   "name": "python",
   "nbconvert_exporter": "python",
   "pygments_lexer": "ipython3",
   "version": "3.8.5"
  },
  "toc": {
   "base_numbering": 1,
   "nav_menu": {},
   "number_sections": true,
   "sideBar": true,
   "skip_h1_title": false,
   "title_cell": "Table of Contents",
   "title_sidebar": "Contents",
   "toc_cell": false,
   "toc_position": {},
   "toc_section_display": true,
   "toc_window_display": false
  }
 },
 "nbformat": 4,
 "nbformat_minor": 4
}
