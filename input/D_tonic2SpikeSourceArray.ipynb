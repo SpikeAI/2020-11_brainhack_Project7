{
 "cells": [
  {
   "cell_type": "code",
   "execution_count": 1,
   "metadata": {},
   "outputs": [],
   "source": [
    "import os\n",
    "download = not os.path.isfile('data/nmnist_test.zip')\n",
    "download\n",
    "\n",
    "import tonic\n",
    "import tonic.transforms as transforms\n",
    "\n",
    "testset = tonic.datasets.NMNIST(save_to='./data', download=download, train=False)\n",
    "testloader = tonic.datasets.DataLoader(testset,\n",
    "                                       batch_size=1,\n",
    "                                       shuffle=True)\n",
    "\n",
    "events, target = next(iter(testloader))"
   ]
  },
  {
   "cell_type": "raw",
   "metadata": {},
   "source": [
    "from tonic.utils import plot_events\n",
    "plot_events(events.squeeze(), sensor_size=testset.sensor_size, ordering=testset.ordering)"
   ]
  },
  {
   "cell_type": "code",
   "execution_count": 2,
   "metadata": {},
   "outputs": [
    {
     "name": "stdout",
     "output_type": "stream",
     "text": [
      "Python implementation: CPython\n",
      "Python version       : 3.8.5\n",
      "IPython version      : 7.18.1\n",
      "\n",
      "numpy     : 1.19.2\n",
      "matplotlib: 3.3.2\n",
      "pyNN      : 0.9.5\n",
      "neo       : 0.8.0\n",
      "moviepy   : 1.0.3\n",
      "imageio   : 2.9.0\n",
      "\n",
      "Compiler    : GCC 9.3.0\n",
      "OS          : Linux\n",
      "Release     : 5.4.0-53-generic\n",
      "Machine     : x86_64\n",
      "Processor   : x86_64\n",
      "CPU cores   : 4\n",
      "Architecture: 64bit\n",
      "\n",
      "Hostname: inv-ope-de06\n",
      "\n",
      "Git hash: 48979300bebb405fe2ff6bd586076952fed3996a\n",
      "\n",
      "Git repo: https://github.com/SpikeAI/2020-11_brainhack_Project7\n",
      "\n",
      "Git branch: main\n",
      "\n"
     ]
    }
   ],
   "source": [
    "%run boilerplate.ipynb"
   ]
  },
  {
   "cell_type": "code",
   "execution_count": 3,
   "metadata": {},
   "outputs": [
    {
     "data": {
      "text/plain": [
       "((34, 34), 'xytp')"
      ]
     },
     "execution_count": 3,
     "metadata": {},
     "output_type": "execute_result"
    }
   ],
   "source": [
    "testset.sensor_size, testset.ordering"
   ]
  },
  {
   "cell_type": "code",
   "execution_count": 4,
   "metadata": {},
   "outputs": [
    {
     "data": {
      "text/plain": [
       "1156"
      ]
     },
     "execution_count": 4,
     "metadata": {},
     "output_type": "execute_result"
    }
   ],
   "source": [
    "N_pop = np.prod(testset.sensor_size)\n",
    "N_pop"
   ]
  },
  {
   "cell_type": "code",
   "execution_count": 5,
   "metadata": {},
   "outputs": [
    {
     "data": {
      "text/plain": [
       "torch.Size([1, 4417, 4])"
      ]
     },
     "execution_count": 5,
     "metadata": {},
     "output_type": "execute_result"
    }
   ],
   "source": [
    "events.shape"
   ]
  },
  {
   "cell_type": "markdown",
   "metadata": {},
   "source": [
    "Timings are in microseconds"
   ]
  },
  {
   "cell_type": "code",
   "execution_count": 6,
   "metadata": {},
   "outputs": [
    {
     "data": {
      "text/plain": [
       "tensor([0.0007, 0.0023, 0.0024,  ..., 0.3078, 0.3093, 0.3103])"
      ]
     },
     "execution_count": 6,
     "metadata": {},
     "output_type": "execute_result"
    }
   ],
   "source": [
    "events[0, :, testset.ordering.find(\"t\")]*1e-6"
   ]
  },
  {
   "cell_type": "code",
   "execution_count": 7,
   "metadata": {},
   "outputs": [
    {
     "data": {
      "text/plain": [
       "(0, 1, 2)"
      ]
     },
     "execution_count": 7,
     "metadata": {},
     "output_type": "execute_result"
    }
   ],
   "source": [
    "index_x = testset.ordering.find(\"x\")\n",
    "index_y = testset.ordering.find(\"y\")\n",
    "index_t = testset.ordering.find(\"t\")\n",
    "index_x, index_y, index_t"
   ]
  },
  {
   "cell_type": "code",
   "execution_count": 8,
   "metadata": {},
   "outputs": [
    {
     "data": {
      "text/plain": [
       "(tensor([23, 16, 15,  ..., 22, 18, 18], dtype=torch.int32),\n",
       " tensor([21,  8, 16,  ..., 12, 30, 30], dtype=torch.int32))"
      ]
     },
     "execution_count": 8,
     "metadata": {},
     "output_type": "execute_result"
    }
   ],
   "source": [
    "events[0, :, index_x], events[0, :, index_y] "
   ]
  },
  {
   "cell_type": "code",
   "execution_count": 9,
   "metadata": {},
   "outputs": [
    {
     "data": {
      "text/plain": [
       "tensor([ True, False, False,  ..., False, False, False])"
      ]
     },
     "execution_count": 9,
     "metadata": {},
     "output_type": "execute_result"
    }
   ],
   "source": [
    "events[0, :, index_x] == events[0, 0, index_x]"
   ]
  },
  {
   "cell_type": "code",
   "execution_count": 10,
   "metadata": {},
   "outputs": [
    {
     "data": {
      "text/plain": [
       "tensor([True, True, True,  ..., True, True, True])"
      ]
     },
     "execution_count": 10,
     "metadata": {},
     "output_type": "execute_result"
    }
   ],
   "source": [
    "events[0, :, index_y] == events[0, :, index_y]"
   ]
  },
  {
   "cell_type": "code",
   "execution_count": 11,
   "metadata": {},
   "outputs": [
    {
     "data": {
      "text/plain": [
       "tensor([True, True, True,  ..., True, True, True])"
      ]
     },
     "execution_count": 11,
     "metadata": {},
     "output_type": "execute_result"
    }
   ],
   "source": [
    "(events[0, :, index_x] == events[0, :, index_x]) & (events[0, :, index_y] == events[0, :, index_y])"
   ]
  },
  {
   "cell_type": "code",
   "execution_count": 12,
   "metadata": {},
   "outputs": [
    {
     "data": {
      "text/plain": [
       "array([   0,    1,    2, ..., 4414, 4415, 4416])"
      ]
     },
     "execution_count": 12,
     "metadata": {},
     "output_type": "execute_result"
    }
   ],
   "source": [
    "np.where((events[0, :, index_x] == events[0, :, index_x]) & (events[0, :, index_y] == events[0, :, index_y]))[0]"
   ]
  },
  {
   "cell_type": "code",
   "execution_count": 13,
   "metadata": {},
   "outputs": [
    {
     "data": {
      "text/plain": [
       "tensor([   684,   2283,   2411,  ..., 307779, 309294, 310256],\n",
       "       dtype=torch.int32)"
      ]
     },
     "execution_count": 13,
     "metadata": {},
     "output_type": "execute_result"
    }
   ],
   "source": [
    "events[0, np.where((events[0, :, index_x] == events[0, :, index_x]) & (events[0, :, index_y] == events[0, :, index_y]))[0], index_t ]"
   ]
  },
  {
   "cell_type": "code",
   "execution_count": 14,
   "metadata": {},
   "outputs": [
    {
     "data": {
      "text/plain": [
       "(1156,\n",
       " [0.684,\n",
       "  14.441,\n",
       "  19.689,\n",
       "  32.294000000000004,\n",
       "  34.714,\n",
       "  37.373,\n",
       "  40.151,\n",
       "  49.207,\n",
       "  145.489,\n",
       "  148.651,\n",
       "  150.889,\n",
       "  153.142,\n",
       "  155.44400000000002,\n",
       "  164.973,\n",
       "  167.434,\n",
       "  170.817,\n",
       "  177.458,\n",
       "  244.078,\n",
       "  252.981,\n",
       "  260.807,\n",
       "  277.954],\n",
       " 4417)"
      ]
     },
     "execution_count": 14,
     "metadata": {},
     "output_type": "execute_result"
    }
   ],
   "source": [
    "events_np = events.numpy()\n",
    "cellSourceSpikes = []\n",
    "for i in range(N_pop):\n",
    "    row = i//(testset.sensor_size[0])\n",
    "    col = i%(testset.sensor_size[0])\n",
    "    spike_idx = np.where((events_np[0, :, index_x] == row) & (events_np[0, :, index_y] == col))[0]\n",
    "    spike_times = events_np[0, spike_idx, index_t] * 1.e-3 # in milliseconds\n",
    "    cellSourceSpikes.append(spike_times)\n",
    "\n",
    "cellSourceSpikes = [list(elem) for elem in cellSourceSpikes]\n",
    "idx = events[0, 0, index_x]*(testset.sensor_size[0]) + events[0, 0, index_y] # first spike\n",
    "len(cellSourceSpikes), cellSourceSpikes[idx], np.sum([len(st) for st in cellSourceSpikes])"
   ]
  },
  {
   "cell_type": "code",
   "execution_count": 15,
   "metadata": {},
   "outputs": [
    {
     "name": "stdout",
     "output_type": "stream",
     "text": [
      "CSAConnector: libneurosim support not available in NEST.\n",
      "Falling back on PyNN's default CSAConnector.\n",
      "Please re-compile NEST using --with-libneurosim=PATH\n"
     ]
    }
   ],
   "source": [
    "try:\n",
    "    import pyNN.spiNNaker as sim\n",
    "    simulator = 'spinnaker'\n",
    "except ModuleNotFoundError:\n",
    "    import pyNN.nest as sim\n",
    "    simulator = 'nest'"
   ]
  },
  {
   "cell_type": "code",
   "execution_count": 16,
   "metadata": {},
   "outputs": [],
   "source": [
    "sim.setup(timestep=.1,\n",
    "          min_delay=1,\n",
    "          max_delay=100,\n",
    "          debug=0)\n",
    "\n",
    "sources = sim.SpikeSourceArray(spike_times=cellSourceSpikes)\n",
    "spikeSource = sim.Population(N_pop, sources)    \n",
    "spikeSource.record(['spikes'])"
   ]
  },
  {
   "cell_type": "code",
   "execution_count": 17,
   "metadata": {},
   "outputs": [
    {
     "data": {
      "text/plain": [
       "350.0"
      ]
     },
     "execution_count": 17,
     "metadata": {},
     "output_type": "execute_result"
    }
   ],
   "source": [
    "sim.run(simtime=simtime)"
   ]
  },
  {
   "cell_type": "code",
   "execution_count": 18,
   "metadata": {},
   "outputs": [],
   "source": [
    "spikeSources  = spikeSource.get_data()#.segments[0].spiketrains\n",
    "S_spikes = spikeSources.segments[0].spiketrains"
   ]
  },
  {
   "cell_type": "code",
   "execution_count": 19,
   "metadata": {},
   "outputs": [],
   "source": [
    "sim.end()"
   ]
  },
  {
   "cell_type": "code",
   "execution_count": 20,
   "metadata": {},
   "outputs": [
    {
     "data": {
      "text/plain": [
       "array([ 14.441,  19.689,  32.294,  34.714,  37.373,  40.151,  49.207,\n",
       "       145.489, 148.651, 150.889, 153.142, 155.444, 164.973, 167.434,\n",
       "       170.817, 177.458, 244.078, 252.981, 260.807, 277.954])"
      ]
     },
     "execution_count": 20,
     "metadata": {},
     "output_type": "execute_result"
    }
   ],
   "source": [
    "st = S_spikes[idx]\n",
    "st.as_array()"
   ]
  },
  {
   "cell_type": "code",
   "execution_count": 28,
   "metadata": {},
   "outputs": [],
   "source": [
    "def spikelist2numpy(spikelist):\n",
    "    output_spike = np.zeros((testset.sensor_size[0], testset.sensor_size[1], time_bins))\n",
    "    for i, spiketrain in enumerate(spikelist):\n",
    "        row = i//(testset.sensor_size[0])\n",
    "        col = i%(testset.sensor_size[0])\n",
    "        for spiketime in spiketrain.as_array():\n",
    "            # print(int(spiketime))\n",
    "            output_spike[row, col, int(spiketime)] = 1\n",
    "    return output_spike"
   ]
  },
  {
   "cell_type": "code",
   "execution_count": 29,
   "metadata": {},
   "outputs": [
    {
     "name": "stdout",
     "output_type": "stream",
     "text": [
      "movie.min()=0.0 - movie.max()=1.0 \n"
     ]
    }
   ],
   "source": [
    "nmnist_spike = spikelist2numpy(S_spikes)\n",
    "minmax(nmnist_spike)"
   ]
  },
  {
   "cell_type": "code",
   "execution_count": 30,
   "metadata": {},
   "outputs": [
    {
     "name": "stderr",
     "output_type": "stream",
     "text": [
      "t:  23%|██▎       | 82/350 [00:00<00:00, 812.08it/s, now=None]"
     ]
    },
    {
     "name": "stdout",
     "output_type": "stream",
     "text": [
      "Moviepy - Building video output/nmnist_spike.mp4.\n",
      "Moviepy - Writing video output/nmnist_spike.mp4\n",
      "\n"
     ]
    },
    {
     "name": "stderr",
     "output_type": "stream",
     "text": [
      "                                                               \r"
     ]
    },
    {
     "name": "stdout",
     "output_type": "stream",
     "text": [
      "Moviepy - Done !\n",
      "Moviepy - video ready output/nmnist_spike.mp4\n"
     ]
    },
    {
     "data": {
      "text/html": [
       "<div align=middle><video mwidth='100%' autoplay='True' loop='True'src='data:video/mp4;base64,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' controls>Sorry, seems like your browser doesn't support HTML5 audio/video</video></div>"
      ],
      "text/plain": [
       "<moviepy.video.io.html_tools.HTML2 object>"
      ]
     },
     "execution_count": 30,
     "metadata": {},
     "output_type": "execute_result"
    }
   ],
   "source": [
    "show(make_movie(nmnist_spike, label='nmnist_spike'), mwidth='100%')"
   ]
  },
  {
   "cell_type": "code",
   "execution_count": 31,
   "metadata": {},
   "outputs": [
    {
     "data": {
      "text/plain": [
       "(34, 34, 350)"
      ]
     },
     "execution_count": 31,
     "metadata": {},
     "output_type": "execute_result"
    }
   ],
   "source": [
    "nmnist_spike.shape"
   ]
  },
  {
   "cell_type": "code",
   "execution_count": 32,
   "metadata": {},
   "outputs": [
    {
     "data": {
      "text/plain": [
       "4410.0"
      ]
     },
     "execution_count": 32,
     "metadata": {},
     "output_type": "execute_result"
    }
   ],
   "source": [
    "nmnist_spike.sum()"
   ]
  },
  {
   "cell_type": "code",
   "execution_count": null,
   "metadata": {},
   "outputs": [],
   "source": []
  },
  {
   "cell_type": "code",
   "execution_count": null,
   "metadata": {},
   "outputs": [],
   "source": []
  }
 ],
 "metadata": {
  "kernelspec": {
   "display_name": "Python 3",
   "language": "python",
   "name": "python3"
  },
  "language_info": {
   "codemirror_mode": {
    "name": "ipython",
    "version": 3
   },
   "file_extension": ".py",
   "mimetype": "text/x-python",
   "name": "python",
   "nbconvert_exporter": "python",
   "pygments_lexer": "ipython3",
   "version": "3.8.5"
  },
  "toc": {
   "base_numbering": 1,
   "nav_menu": {},
   "number_sections": true,
   "sideBar": true,
   "skip_h1_title": false,
   "title_cell": "Table of Contents",
   "title_sidebar": "Contents",
   "toc_cell": false,
   "toc_position": {},
   "toc_section_display": true,
   "toc_window_display": false
  }
 },
 "nbformat": 4,
 "nbformat_minor": 4
}
