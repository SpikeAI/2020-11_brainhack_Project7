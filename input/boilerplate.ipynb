{
 "cells": [
  {
   "cell_type": "code",
   "execution_count": null,
   "metadata": {},
   "outputs": [],
   "source": [
    "import os"
   ]
  },
  {
   "cell_type": "markdown",
   "metadata": {},
   "source": [
    "## dot stimulus\n",
    "\n",
    "see https://github.com/laurentperrinet/Khoei_2017_PLoSCB/blob/master/scripts/MotionParticlesFLE.py#L1946\n",
    "\n"
   ]
  },
  {
   "cell_type": "code",
   "execution_count": null,
   "metadata": {},
   "outputs": [],
   "source": [
    "mwidth = 1024\n",
    "fps = 50\n",
    "simtime = 350 # ms\n",
    "time_bins = 350\n",
    "dt = simtime/time_bins\n",
    "N_pop = 128**2\n"
   ]
  },
  {
   "cell_type": "code",
   "execution_count": 3,
   "metadata": {},
   "outputs": [],
   "source": [
    "import numpy as np\n",
    "\n",
    "def generate_dot(N_X, N_Y, N_frame,\n",
    "                X_0=-1., Y_0=0.0, #initial position\n",
    "                V_X=1., V_Y=0., #target speed\n",
    "                dot_size=.05,\n",
    "                blank_duration=0., blank_start=0.,\n",
    "                flash_duration=0., flash_start=0., #flashing=False,\n",
    "                width=2.,\n",
    "                im_noise=0.05, #std of the background noise in images\n",
    "                im_contrast=1.,\n",
    "                NoisyTrajectory=False, traj_Xnoise=0, traj_Vnoise=0, reversal=False,\n",
    "                hard=False, second_order=False, f=8, texture=False, sf_0=0.15,\n",
    "                pink_noise=False, do_clip=True,\n",
    "                **kwargs):\n",
    "\n",
    "    \"\"\"\n",
    "\n",
    "    >> pylab.imshow(concatenate((image[16,:,:],image[16,:,:]), axis=-1))\n",
    "\n",
    "    \"\"\"\n",
    "    r_x = width / 2.\n",
    "    r_y = r_x * N_Y / N_X\n",
    "    x, y, t = np.mgrid[r_x*(-1+1./(N_X)):r_x*(1-1./(N_X)):1j*N_X,\n",
    "                    r_y*(-1+1./(N_Y)):r_y*(1-1./(N_Y)):1j*N_Y,\n",
    "                    0:(1-1./(N_frame+1)):1j*N_frame]\n",
    "\n",
    "    if NoisyTrajectory:\n",
    "       V_Y +=  traj_Vnoise/ np.float(N_frame) * np.random.randn(1, N_frame)\n",
    "       V_X +=  traj_Vnoise/ np.float(N_frame) * np.random.randn(1, N_frame)\n",
    "\n",
    "    x_ = np.amin([np.abs((x - X_0) - V_X*t*width), width - np.abs((x - X_0) - V_X*t*width)], axis=0)\n",
    "    y_ = np.amin([np.abs((y - Y_0)- (V_Y )*t*width), width * N_Y / N_X - np.abs((y - Y_0) - V_Y*t*width)], axis=0)\n",
    "\n",
    "    tube = np.exp(- (x_**2 + y_**2) /2. / dot_size**2) # size is relative to the width of the torus\n",
    "\n",
    "    if hard : tube = (tube > np.exp(-1./2)) * 1.\n",
    "\n",
    "    if texture:\n",
    "        from experiment_cloud import generate as cloud\n",
    "        texture = cloud(N_X, N_Y, N_frame, V_X=V_X, V_Y=V_Y, sf_0=sf_0, noise=0)\n",
    "        texture /= np.abs(texture).max()\n",
    "        tube *= texture\n",
    "        #np.random.rand(N_X, N_Y, N_frame)\n",
    "\n",
    "    if second_order:\n",
    "        from experiment_fullgrating import generate as fullgrating\n",
    "        tube *= fullgrating(N_X=N_X, N_Y=N_Y, N_frame=N_frame, width=width,\n",
    "                            V_X=0., noise=0., f=f)\n",
    "\n",
    "    tube /= tube.max()\n",
    "    tube *= im_contrast\n",
    "\n",
    "    # trimming\n",
    "    if blank_duration>0.:\n",
    "        N_start = np.floor(blank_start * N_frame)\n",
    "        N_blank = np.floor(blank_duration * N_frame)\n",
    "        tube[:, :, N_start:N_start + N_blank] = 0.\n",
    "\n",
    "    if flash_duration>0.:\n",
    "        N_start = int(flash_start * N_frame)\n",
    "        N_flash = int(flash_duration * N_frame)\n",
    "        # to have stationary flash, set speed to zero\n",
    "        tube[:, :, :N_start] = 0.\n",
    "        tube[:, :, (N_start + N_flash):] = 0.\n",
    "\n",
    "    if reversal:\n",
    "        # mirroring the second half period\n",
    "        tube[:, :, N_frame//2:] = tube[::-1, :, N_frame//2:]\n",
    "\n",
    "    # adding noise\n",
    "    if pink_noise:\n",
    "        from MotionClouds import get_grids, envelope_color, random_cloud, rectif\n",
    "        fx, fy, ft = get_grids(N_X, N_Y, N_frame)\n",
    "        envelope = envelope_color(fx, fy, ft, alpha=1) #V_X=V_X*N_Y/N_frame, V_Y=V_Y*N_X/N_frame, sf_0=sf_0, B_V=B_V, B_sf=B_sf, B_theta=B_theta)\n",
    "        noise_image = 2*rectif(random_cloud(envelope))-1\n",
    "#         print(noise_image.min(), noise_image.max())\n",
    "        tube += im_noise * noise_image #np.random.randn(N_X, N_Y, N_frame)\n",
    "    else:\n",
    "        tube += im_noise * np.random.randn(N_X, N_Y, N_frame)\n",
    "\n",
    "    if do_clip:\n",
    "        tube = np.maximum( -1, np.minimum( 1, tube ) )\n",
    "        \n",
    "    return tube"
   ]
  },
  {
   "cell_type": "markdown",
   "metadata": {},
   "source": [
    "## movie generation\n",
    "\n",
    "see https://github.com/laurentperrinet/Khoei_2017_PLoSCB/blob/master/scripts/MotionParticlesFLE.py#L1946\n",
    "\n"
   ]
  },
  {
   "cell_type": "code",
   "execution_count": 4,
   "metadata": {},
   "outputs": [],
   "source": [
    "def rectify(movie):\n",
    "    return (movie + 1) / 2\n",
    "\n",
    "def minmax(movie):\n",
    "    print(f'{movie.min()=} - {movie.max()=} ')"
   ]
  },
  {
   "cell_type": "code",
   "execution_count": 5,
   "metadata": {},
   "outputs": [],
   "source": [
    "output_dir = 'output'"
   ]
  },
  {
   "cell_type": "code",
   "execution_count": 6,
   "metadata": {},
   "outputs": [],
   "source": [
    "%mkdir -p {output_dir}"
   ]
  },
  {
   "cell_type": "raw",
   "metadata": {},
   "source": [
    "%rm {output_dir}/*png"
   ]
  },
  {
   "cell_type": "code",
   "execution_count": 7,
   "metadata": {},
   "outputs": [],
   "source": [
    "import imageio\n",
    "def generate_images(movie, label='image', output_dir=output_dir, verbose=False):\n",
    "    fnames = []\n",
    "    N_frame = movie.shape[2]\n",
    "    for i_image in range(N_frame):\n",
    "        fname = os.path.join(output_dir, f'{label}_{i_image:05d}.png')\n",
    "        if verbose: print('fname=', fname)\n",
    "        frame = movie[:, :, i_image]\n",
    "        frame = frame[:, :, None] * np.ones((1, 1, 3))\n",
    "        frame = (frame*255).astype(np.uint8)\n",
    "        imageio.imsave(fname, frame, dpi=(36, 36))\n",
    "        fnames.append(fname)\n",
    "    return fnames"
   ]
  },
  {
   "cell_type": "code",
   "execution_count": 8,
   "metadata": {},
   "outputs": [],
   "source": [
    "from IPython.display import Video, HTML\n",
    "\n",
    "def make_gif(gifname, fnames, fps):\n",
    "    import imageio\n",
    "\n",
    "    with imageio.get_writer(gifname, mode='I', fps=fps) as writer:\n",
    "        for fname in fnames:\n",
    "            writer.append_data(imageio.imread(fname))\n",
    "\n",
    "    from pygifsicle import optimize\n",
    "    optimize(str(gifname))\n",
    "    return gifname\n",
    "\n",
    "import moviepy.editor as mpy\n",
    "\n",
    "import moviepy.video.io.ImageSequenceClip\n",
    "def make_mp4(moviename, fnames, fps):\n",
    "    clip = moviepy.video.io.ImageSequenceClip.ImageSequenceClip(fnames, fps=fps)\n",
    "    clip.write_videofile(moviename)\n",
    "    return moviename\n",
    "\n",
    "def cleanup(fnames):\n",
    "    for fname in fnames: os.remove(fname)\n",
    "    \n",
    "\n",
    "def show(filename, mwidth=mwidth):\n",
    "    return mpy.ipython_display(filename, fps=fps, mwidth=mwidth, autoplay=True, loop=True)\n",
    "\n",
    "def make_movie(movie, label, fps=fps):\n",
    "    fnames = generate_images(movie, label='image', output_dir=output_dir, verbose=False)\n",
    "    moviename = f'{output_dir}/{label}.mp4'\n",
    "    moviename = make_mp4(moviename, fnames, fps)\n",
    "    cleanup(fnames)\n",
    "    return moviename\n"
   ]
  },
  {
   "cell_type": "code",
   "execution_count": 9,
   "metadata": {},
   "outputs": [
    {
     "name": "stdout",
     "output_type": "stream",
     "text": [
      "Python implementation: CPython\n",
      "Python version       : 3.8.5\n",
      "IPython version      : 7.18.1\n",
      "\n",
      "numpy     : 1.19.2\n",
      "matplotlib: 3.3.2\n",
      "pyNN      : 0.9.5\n",
      "neo       : 0.8.0\n",
      "moviepy   : 1.0.3\n",
      "imageio   : 2.9.0\n",
      "\n",
      "Compiler    : GCC 9.3.0\n",
      "OS          : Linux\n",
      "Release     : 5.4.0-53-generic\n",
      "Machine     : x86_64\n",
      "Processor   : x86_64\n",
      "CPU cores   : 4\n",
      "Architecture: 64bit\n",
      "\n",
      "Hostname: inv-ope-de06\n",
      "\n",
      "Git hash: 48979300bebb405fe2ff6bd586076952fed3996a\n",
      "\n",
      "Git repo: https://github.com/SpikeAI/2020-11_brainhack_Project7\n",
      "\n",
      "Git branch: main\n",
      "\n"
     ]
    }
   ],
   "source": [
    "%load_ext watermark\n",
    "%watermark -i -h -m -v -p numpy,matplotlib,pyNN,neo,moviepy,imageio  -r -g -b"
   ]
  }
 ],
 "metadata": {
  "kernelspec": {
   "display_name": "Python 3",
   "language": "python",
   "name": "python3"
  },
  "language_info": {
   "codemirror_mode": {
    "name": "ipython",
    "version": 3
   },
   "file_extension": ".py",
   "mimetype": "text/x-python",
   "name": "python",
   "nbconvert_exporter": "python",
   "pygments_lexer": "ipython3",
   "version": "3.8.5"
  },
  "toc": {
   "base_numbering": 1,
   "nav_menu": {},
   "number_sections": true,
   "sideBar": true,
   "skip_h1_title": false,
   "title_cell": "Table of Contents",
   "title_sidebar": "Contents",
   "toc_cell": false,
   "toc_position": {},
   "toc_section_display": true,
   "toc_window_display": false
  }
 },
 "nbformat": 4,
 "nbformat_minor": 4
}
