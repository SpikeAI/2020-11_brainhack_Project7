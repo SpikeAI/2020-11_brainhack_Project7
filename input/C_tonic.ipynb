{
 "cells": [
  {
   "cell_type": "code",
   "execution_count": 1,
   "metadata": {},
   "outputs": [
    {
     "name": "stdout",
     "output_type": "stream",
     "text": [
      "Defaulting to user installation because normal site-packages is not writeable\n",
      "Collecting tonic\n",
      "  Downloading tonic-0.2.2.tar.gz (210 kB)\n",
      "\u001b[K     |████████████████████████████████| 210 kB 4.7 MB/s eta 0:00:01\n",
      "\u001b[?25hRequirement already satisfied: numpy in /home/laurent/.local/lib/python3.8/site-packages (from tonic) (1.19.2)\n",
      "Requirement already satisfied: tqdm in /home/laurent/.local/lib/python3.8/site-packages (from tonic) (4.50.2)\n",
      "Collecting loris\n",
      "  Downloading loris-0.5.0.tar.gz (8.9 MB)\n",
      "\u001b[K     |████████████████████████████████| 8.9 MB 7.6 MB/s eta 0:00:01\n",
      "\u001b[?25hRequirement already satisfied: numpy in /home/laurent/.local/lib/python3.8/site-packages (from tonic) (1.19.2)\n",
      "Requirement already satisfied: tqdm in /home/laurent/.local/lib/python3.8/site-packages (from tonic) (4.50.2)\n",
      "Collecting aedat\n",
      "  Downloading aedat-1.0.1-cp38-cp38-manylinux1_x86_64.whl (292 kB)\n",
      "\u001b[K     |████████████████████████████████| 292 kB 41.4 MB/s eta 0:00:01     |████████████████████▏           | 184 kB 41.4 MB/s eta 0:00:01\n",
      "\u001b[?25hRequirement already satisfied: numpy in /home/laurent/.local/lib/python3.8/site-packages (from tonic) (1.19.2)\n",
      "Building wheels for collected packages: tonic, loris\n",
      "  Building wheel for tonic (setup.py) ... \u001b[?25ldone\n",
      "\u001b[?25h  Created wheel for tonic: filename=tonic-0.2.2-py3-none-any.whl size=31776 sha256=c84ed47a7708b74c3d0934176049650f2201f615b354cb34399e6365c3ca280c\n",
      "  Stored in directory: /home/laurent/.cache/pip/wheels/69/93/13/d27b27a5d52154ab14788123243f19eaf83ffeece4a4c6ecce\n",
      "  Building wheel for loris (setup.py) ... \u001b[?25ldone\n",
      "\u001b[?25h  Created wheel for loris: filename=loris-0.5.0-cp38-cp38-linux_x86_64.whl size=650482 sha256=47e097f1aa603ec33a04e1700808a6027ee3b2ac90b439d9b63b2bfa7f95efcc\n",
      "  Stored in directory: /home/laurent/.cache/pip/wheels/4f/4b/41/2832ce2dc22c077c5c578e3768e97d91909753bea14fcf16ec\n",
      "Successfully built tonic loris\n",
      "Installing collected packages: aedat, loris, tonic\n",
      "Successfully installed aedat-1.0.1 loris-0.5.0 tonic-0.2.2\n",
      "Note: you may need to restart the kernel to use updated packages.\n"
     ]
    }
   ],
   "source": [
    "%pip install tonic"
   ]
  },
  {
   "cell_type": "code",
   "execution_count": 14,
   "metadata": {},
   "outputs": [],
   "source": [
    "import tonic\n",
    "import tonic.transforms as transforms\n",
    "\n",
    "testset = tonic.datasets.NMNIST(save_to='./data', train=False)"
   ]
  },
  {
   "cell_type": "code",
   "execution_count": 21,
   "metadata": {},
   "outputs": [
    {
     "data": {
      "text/plain": [
       "((34, 34), 'xytp')"
      ]
     },
     "execution_count": 21,
     "metadata": {},
     "output_type": "execute_result"
    }
   ],
   "source": [
    "testset.sensor_size, testset.ordering"
   ]
  },
  {
   "cell_type": "code",
   "execution_count": 22,
   "metadata": {},
   "outputs": [],
   "source": [
    "testloader = tonic.datasets.DataLoader(testset,\n",
    "                                       batch_size=10,\n",
    "                                       collate_fn=tonic.utils.pad_events,\n",
    "                                       shuffle=True)\n",
    "\n",
    "events, target = next(iter(testloader))"
   ]
  },
  {
   "cell_type": "code",
   "execution_count": 23,
   "metadata": {},
   "outputs": [
    {
     "data": {
      "text/plain": [
       "[9, 8, 4, 8, 8, 7, 1, 3, 2, 0]"
      ]
     },
     "execution_count": 23,
     "metadata": {},
     "output_type": "execute_result"
    }
   ],
   "source": [
    "target"
   ]
  },
  {
   "cell_type": "code",
   "execution_count": 24,
   "metadata": {},
   "outputs": [
    {
     "data": {
      "text/plain": [
       "(10, 5905, 4)"
      ]
     },
     "execution_count": 24,
     "metadata": {},
     "output_type": "execute_result"
    }
   ],
   "source": [
    "events.shape"
   ]
  },
  {
   "cell_type": "code",
   "execution_count": 28,
   "metadata": {},
   "outputs": [
    {
     "ename": "AttributeError",
     "evalue": "module 'tonic.transforms' has no attribute 'MaskIsolated'",
     "output_type": "error",
     "traceback": [
      "\u001b[0;31m---------------------------------------------------------------------------\u001b[0m",
      "\u001b[0;31mAttributeError\u001b[0m                            Traceback (most recent call last)",
      "\u001b[0;32m<ipython-input-28-51af50c808eb>\u001b[0m in \u001b[0;36m<module>\u001b[0;34m\u001b[0m\n\u001b[1;32m      1\u001b[0m \u001b[0;32mfrom\u001b[0m \u001b[0mtonic\u001b[0m\u001b[0;34m.\u001b[0m\u001b[0mutils\u001b[0m \u001b[0;32mimport\u001b[0m \u001b[0mplot_events\u001b[0m\u001b[0;34m\u001b[0m\u001b[0;34m\u001b[0m\u001b[0m\n\u001b[0;32m----> 2\u001b[0;31m \u001b[0mplot_events\u001b[0m\u001b[0;34m(\u001b[0m\u001b[0mevents\u001b[0m\u001b[0;34m,\u001b[0m \u001b[0msensor_size\u001b[0m\u001b[0;34m=\u001b[0m\u001b[0mtestset\u001b[0m\u001b[0;34m.\u001b[0m\u001b[0msensor_size\u001b[0m\u001b[0;34m,\u001b[0m \u001b[0mordering\u001b[0m\u001b[0;34m=\u001b[0m\u001b[0mtestset\u001b[0m\u001b[0;34m.\u001b[0m\u001b[0mordering\u001b[0m\u001b[0;34m)\u001b[0m\u001b[0;34m\u001b[0m\u001b[0;34m\u001b[0m\u001b[0m\n\u001b[0m",
      "\u001b[0;32m~/.local/lib/python3.8/site-packages/tonic/utils.py\u001b[0m in \u001b[0;36mplot_events\u001b[0;34m(events, sensor_size, ordering, frame_time, repeat)\u001b[0m\n\u001b[1;32m     25\u001b[0m     transform = transforms.Compose(\n\u001b[1;32m     26\u001b[0m         [\n\u001b[0;32m---> 27\u001b[0;31m             \u001b[0mtransforms\u001b[0m\u001b[0;34m.\u001b[0m\u001b[0mMaskIsolated\u001b[0m\u001b[0;34m(\u001b[0m\u001b[0mtime_filter\u001b[0m\u001b[0;34m=\u001b[0m\u001b[0;36m20000\u001b[0m\u001b[0;34m)\u001b[0m\u001b[0;34m,\u001b[0m\u001b[0;34m\u001b[0m\u001b[0;34m\u001b[0m\u001b[0m\n\u001b[0m\u001b[1;32m     28\u001b[0m             \u001b[0mtransforms\u001b[0m\u001b[0;34m.\u001b[0m\u001b[0mToRatecodedFrame\u001b[0m\u001b[0;34m(\u001b[0m\u001b[0mframe_time\u001b[0m\u001b[0;34m=\u001b[0m\u001b[0mframe_time\u001b[0m\u001b[0;34m,\u001b[0m \u001b[0mmerge_polarities\u001b[0m\u001b[0;34m=\u001b[0m\u001b[0;32mTrue\u001b[0m\u001b[0;34m)\u001b[0m\u001b[0;34m,\u001b[0m\u001b[0;34m\u001b[0m\u001b[0;34m\u001b[0m\u001b[0m\n\u001b[1;32m     29\u001b[0m         ]\n",
      "\u001b[0;31mAttributeError\u001b[0m: module 'tonic.transforms' has no attribute 'MaskIsolated'"
     ]
    }
   ],
   "source": [
    "from tonic.utils import plot_events\n",
    "plot_events(events, sensor_size=testset.sensor_size, ordering=testset.ordering)"
   ]
  },
  {
   "cell_type": "code",
   "execution_count": null,
   "metadata": {},
   "outputs": [],
   "source": [
    "events[0, 0, :]"
   ]
  },
  {
   "cell_type": "code",
   "execution_count": null,
   "metadata": {},
   "outputs": [],
   "source": [
    "events[0, :, 0]"
   ]
  },
  {
   "cell_type": "markdown",
   "metadata": {},
   "source": [
    "## event representations : \n",
    "\n",
    "https://tonic.readthedocs.io/en/latest/transformations.html#event-representations"
   ]
  },
  {
   "cell_type": "code",
   "execution_count": 11,
   "metadata": {},
   "outputs": [
    {
     "name": "stdout",
     "output_type": "stream",
     "text": [
      "Using downloaded and verified file: ./data/nmnist_test.zip\n",
      "Extracting ./data/nmnist_test.zip to ./data\n"
     ]
    }
   ],
   "source": [
    "\n",
    "\n",
    "transform = transforms.Compose([transforms.Denoise(time_filter=10000),\n",
    "                                transforms.ToSparseTensor()]) \n",
    "\n",
    "testset = tonic.datasets.NMNIST(save_to='./data',\n",
    "                                train=False,\n",
    "                                transform=transform)\n",
    "\n",
    "testloader = tonic.datasets.DataLoader(testset, shuffle=True)\n",
    "events, target = next(iter(testloader))"
   ]
  },
  {
   "cell_type": "code",
   "execution_count": 11,
   "metadata": {},
   "outputs": [
    {
     "name": "stdout",
     "output_type": "stream",
     "text": [
      "Using downloaded and verified file: ./data/nmnist_test.zip\n",
      "Extracting ./data/nmnist_test.zip to ./data\n"
     ]
    }
   ],
   "source": [
    "\n",
    "\n",
    "transform = transforms.ToSparseTensor()\n",
    "\n",
    "testset = tonic.datasets.NMNIST(save_to='./data',\n",
    "                                train=False,\n",
    "                                transform=transform)\n",
    "\n",
    "testloader = tonic.datasets.DataLoader(testset, shuffle=True)\n",
    "events, target = next(iter(testloader))"
   ]
  },
  {
   "cell_type": "code",
   "execution_count": 12,
   "metadata": {},
   "outputs": [
    {
     "data": {
      "text/plain": [
       "torch.Size([1, 299306, 26, 34])"
      ]
     },
     "execution_count": 12,
     "metadata": {},
     "output_type": "execute_result"
    }
   ],
   "source": [
    "events.shape"
   ]
  },
  {
   "cell_type": "code",
   "execution_count": null,
   "metadata": {},
   "outputs": [],
   "source": []
  }
 ],
 "metadata": {
  "kernelspec": {
   "display_name": "Python 3",
   "language": "python",
   "name": "python3"
  },
  "language_info": {
   "codemirror_mode": {
    "name": "ipython",
    "version": 3
   },
   "file_extension": ".py",
   "mimetype": "text/x-python",
   "name": "python",
   "nbconvert_exporter": "python",
   "pygments_lexer": "ipython3",
   "version": "3.8.5"
  },
  "toc": {
   "base_numbering": 1,
   "nav_menu": {},
   "number_sections": true,
   "sideBar": true,
   "skip_h1_title": false,
   "title_cell": "Table of Contents",
   "title_sidebar": "Contents",
   "toc_cell": false,
   "toc_position": {},
   "toc_section_display": true,
   "toc_window_display": false
  }
 },
 "nbformat": 4,
 "nbformat_minor": 4
}
