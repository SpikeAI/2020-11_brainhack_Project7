{
 "cells": [
  {
   "cell_type": "code",
   "execution_count": 1,
   "metadata": {},
   "outputs": [
    {
     "name": "stdout",
     "output_type": "stream",
     "text": [
      "Found existing installation: tonic 0.2.2\n",
      "Uninstalling tonic-0.2.2:\n",
      "  Successfully uninstalled tonic-0.2.2\n",
      "Note: you may need to restart the kernel to use updated packages.\n"
     ]
    }
   ],
   "source": [
    "%pip uninstall -y tonic"
   ]
  },
  {
   "cell_type": "code",
   "execution_count": 2,
   "metadata": {},
   "outputs": [
    {
     "name": "stdout",
     "output_type": "stream",
     "text": [
      "\u001b[33mWARNING: Skipping tonic as it is not installed.\u001b[0m\n",
      "Note: you may need to restart the kernel to use updated packages.\n"
     ]
    }
   ],
   "source": [
    "%pip uninstall -y tonic"
   ]
  },
  {
   "cell_type": "code",
   "execution_count": 3,
   "metadata": {},
   "outputs": [
    {
     "name": "stdout",
     "output_type": "stream",
     "text": [
      "Defaulting to user installation because normal site-packages is not writeable\n",
      "Collecting git+https://github.com/SpikeAI/tonic\n",
      "  Cloning https://github.com/SpikeAI/tonic to /tmp/pip-req-build-rz68blvw\n",
      "Requirement already satisfied: loris in /home/laurent/.local/lib/python3.8/site-packages (from tonic==0.2.2) (0.5.0)\n",
      "Requirement already satisfied: numpy in /home/laurent/.local/lib/python3.8/site-packages (from tonic==0.2.2) (1.19.2)\n",
      "Requirement already satisfied: tqdm in /home/laurent/.local/lib/python3.8/site-packages (from tonic==0.2.2) (4.50.2)\n",
      "Requirement already satisfied: aedat in /home/laurent/.local/lib/python3.8/site-packages (from loris->tonic==0.2.2) (1.0.1)\n",
      "Requirement already satisfied: numpy in /home/laurent/.local/lib/python3.8/site-packages (from tonic==0.2.2) (1.19.2)\n",
      "Requirement already satisfied: tqdm in /home/laurent/.local/lib/python3.8/site-packages (from tonic==0.2.2) (4.50.2)\n",
      "Requirement already satisfied: numpy in /home/laurent/.local/lib/python3.8/site-packages (from tonic==0.2.2) (1.19.2)\n",
      "Building wheels for collected packages: tonic\n",
      "  Building wheel for tonic (setup.py) ... \u001b[?25ldone\n",
      "\u001b[?25h  Created wheel for tonic: filename=tonic-0.2.2-py3-none-any.whl size=44140 sha256=4b5f1834adb1cb2d93db739d60db07db90a2dfc672f874e4dff7e7d7d81ee7f8\n",
      "  Stored in directory: /tmp/pip-ephem-wheel-cache-oh_w11ra/wheels/9d/00/ff/df7307670d7224df23701587b8fe274e258cb1320f55f7432f\n",
      "Successfully built tonic\n",
      "Installing collected packages: tonic\n",
      "Successfully installed tonic-0.2.2\n",
      "Note: you may need to restart the kernel to use updated packages.\n"
     ]
    }
   ],
   "source": [
    "%pip install -U git+https://github.com/SpikeAI/tonic"
   ]
  },
  {
   "cell_type": "raw",
   "metadata": {},
   "source": [
    "!jupyter labextension install @jupyter-widgets/jupyterlab-manager\n",
    "!jupyter labextension install jupyter-matplotlib"
   ]
  },
  {
   "cell_type": "markdown",
   "metadata": {},
   "source": [
    "inspired by\n",
    "https://github.com/pytorch/vision\n",
    "transform\n",
    "https://github.com/pytorch/vision/blob/cffac640d703196ea9a369166fa8ae587cb5e64d/torchvision/datasets/mnist.py"
   ]
  },
  {
   "cell_type": "code",
   "execution_count": 4,
   "metadata": {},
   "outputs": [
    {
     "data": {
      "text/plain": [
       "False"
      ]
     },
     "execution_count": 4,
     "metadata": {},
     "output_type": "execute_result"
    }
   ],
   "source": [
    "import os\n",
    "download = not os.path.isfile('data/nmnist_test.zip')\n",
    "download"
   ]
  },
  {
   "cell_type": "code",
   "execution_count": 5,
   "metadata": {},
   "outputs": [],
   "source": [
    "import tonic\n",
    "import tonic.transforms as transforms\n",
    "\n",
    "testset = tonic.datasets.NMNIST(save_to='./data', download=download, train=False)"
   ]
  },
  {
   "cell_type": "code",
   "execution_count": 6,
   "metadata": {},
   "outputs": [
    {
     "data": {
      "text/plain": [
       "((34, 34), 'xytp')"
      ]
     },
     "execution_count": 6,
     "metadata": {},
     "output_type": "execute_result"
    }
   ],
   "source": [
    "testset.sensor_size, testset.ordering"
   ]
  },
  {
   "cell_type": "code",
   "execution_count": 7,
   "metadata": {},
   "outputs": [],
   "source": [
    "events, target = next(iter(testset))"
   ]
  },
  {
   "cell_type": "code",
   "execution_count": 8,
   "metadata": {},
   "outputs": [
    {
     "data": {
      "text/plain": [
       "(5783, 4)"
      ]
     },
     "execution_count": 8,
     "metadata": {},
     "output_type": "execute_result"
    }
   ],
   "source": [
    "events.shape"
   ]
  },
  {
   "cell_type": "markdown",
   "metadata": {},
   "source": [
    "Timings are in microseconds"
   ]
  },
  {
   "cell_type": "code",
   "execution_count": 9,
   "metadata": {},
   "outputs": [
    {
     "data": {
      "text/plain": [
       "array([0.001044, 0.00124 , 0.003752, ..., 0.308994, 0.309202, 0.309979])"
      ]
     },
     "execution_count": 9,
     "metadata": {},
     "output_type": "execute_result"
    }
   ],
   "source": [
    "events[:, testset.ordering.find(\"t\")]*1e-6"
   ]
  },
  {
   "cell_type": "raw",
   "metadata": {},
   "source": [
    "%pip install ipympl"
   ]
  },
  {
   "cell_type": "code",
   "execution_count": 10,
   "metadata": {},
   "outputs": [
    {
     "data": {
      "image/png": "[encoded data removed]",
      "text/plain": [
       "<Figure size 432x288 with 1 Axes>"
      ]
     },
     "metadata": {
      "needs_background": "light"
     },
     "output_type": "display_data"
    }
   ],
   "source": [
    "#%matplotlib notebook\n",
    "from tonic.utils import plot_events\n",
    "plot_events(events, sensor_size=testset.sensor_size, ordering=testset.ordering)"
   ]
  },
  {
   "cell_type": "code",
   "execution_count": 11,
   "metadata": {},
   "outputs": [],
   "source": [
    "testloader = tonic.datasets.DataLoader(testset,\n",
    "                                       batch_size=1,\n",
    "                                       collate_fn=tonic.utils.pad_events, # what do we do when a digit does not contain the same number of events?\n",
    "                                       shuffle=True)\n",
    "\n",
    "events, target = next(iter(testloader))"
   ]
  },
  {
   "cell_type": "code",
   "execution_count": 12,
   "metadata": {},
   "outputs": [
    {
     "data": {
      "text/plain": [
       "[5]"
      ]
     },
     "execution_count": 12,
     "metadata": {},
     "output_type": "execute_result"
    }
   ],
   "source": [
    "target"
   ]
  },
  {
   "cell_type": "code",
   "execution_count": 13,
   "metadata": {},
   "outputs": [
    {
     "data": {
      "text/plain": [
       "(1, 4902, 4)"
      ]
     },
     "execution_count": 13,
     "metadata": {},
     "output_type": "execute_result"
    }
   ],
   "source": [
    "events.shape"
   ]
  },
  {
   "cell_type": "code",
   "execution_count": 14,
   "metadata": {},
   "outputs": [
    {
     "data": {
      "text/plain": [
       "0"
      ]
     },
     "execution_count": 14,
     "metadata": {},
     "output_type": "execute_result"
    }
   ],
   "source": [
    "x_index = testset.ordering.find(\"x\")\n",
    "x_index"
   ]
  },
  {
   "cell_type": "code",
   "execution_count": 15,
   "metadata": {},
   "outputs": [
    {
     "data": {
      "text/plain": [
       "array([1.400e+01, 1.300e+01, 1.885e+03, 1.000e+00])"
      ]
     },
     "execution_count": 15,
     "metadata": {},
     "output_type": "execute_result"
    }
   ],
   "source": [
    "events[0, 0, :]"
   ]
  },
  {
   "cell_type": "code",
   "execution_count": 16,
   "metadata": {},
   "outputs": [
    {
     "data": {
      "text/plain": [
       "array([14., 16., 10., ..., 10.,  6., 14.])"
      ]
     },
     "execution_count": 16,
     "metadata": {},
     "output_type": "execute_result"
    }
   ],
   "source": [
    "events[0, :, 0]"
   ]
  },
  {
   "cell_type": "markdown",
   "metadata": {},
   "source": [
    "## event representations : \n",
    "\n",
    "https://tonic.readthedocs.io/en/latest/transformations.html#event-representations"
   ]
  },
  {
   "cell_type": "code",
   "execution_count": 17,
   "metadata": {},
   "outputs": [],
   "source": [
    "transform = transforms.Compose([transforms.Denoise(time_filter=10000),\n",
    "                                transforms.ToSparseTensor()]) \n",
    "\n",
    "testset = tonic.datasets.NMNIST(save_to='./data', download=download,\n",
    "                                train=False,\n",
    "                                transform=transform)\n",
    "\n",
    "events, target = next(iter(testset))"
   ]
  },
  {
   "cell_type": "code",
   "execution_count": 18,
   "metadata": {},
   "outputs": [
    {
     "data": {
      "text/plain": [
       "(torch.Size([308622, 31, 34]), (34, 34), 'xytp')"
      ]
     },
     "execution_count": 18,
     "metadata": {},
     "output_type": "execute_result"
    }
   ],
   "source": [
    "events.shape, testset.sensor_size, testset.ordering"
   ]
  },
  {
   "cell_type": "code",
   "execution_count": 19,
   "metadata": {},
   "outputs": [],
   "source": [
    "testset = tonic.datasets.NMNIST(save_to='./data', download=download,\n",
    "                                train=False,\n",
    "                                transform=transforms.ToSparseTensor())\n",
    "\n",
    "events, target = next(iter(testset))"
   ]
  },
  {
   "cell_type": "code",
   "execution_count": 20,
   "metadata": {},
   "outputs": [
    {
     "data": {
      "text/plain": [
       "tensor(indices=tensor([[  1044,   1240,   3752,  ..., 308994, 309202, 309979],\n",
       "                       [     0,     18,      6,  ...,     19,      4,     11],\n",
       "                       [    12,     27,     21,  ...,     24,      4,     22]]),\n",
       "       values=tensor([ 1.,  1., -1.,  ...,  1.,  1.,  1.]),\n",
       "       size=(309980, 34, 34), nnz=5783, layout=torch.sparse_coo)"
      ]
     },
     "execution_count": 20,
     "metadata": {},
     "output_type": "execute_result"
    }
   ],
   "source": [
    "events[0]"
   ]
  }
 ],
 "metadata": {
  "kernelspec": {
   "display_name": "Python 3",
   "language": "python",
   "name": "python3"
  },
  "language_info": {
   "codemirror_mode": {
    "name": "ipython",
    "version": 3
   },
   "file_extension": ".py",
   "mimetype": "text/x-python",
   "name": "python",
   "nbconvert_exporter": "python",
   "pygments_lexer": "ipython3",
   "version": "3.8.5"
  },
  "toc": {
   "base_numbering": 1,
   "nav_menu": {},
   "number_sections": true,
   "sideBar": true,
   "skip_h1_title": false,
   "title_cell": "Table of Contents",
   "title_sidebar": "Contents",
   "toc_cell": false,
   "toc_position": {},
   "toc_section_display": true,
   "toc_window_display": false
  }
 },
 "nbformat": 4,
 "nbformat_minor": 4
}
