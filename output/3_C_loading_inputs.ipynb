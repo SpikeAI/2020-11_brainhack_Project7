{
 "cells": [
  {
   "cell_type": "markdown",
   "metadata": {},
   "source": [
    "# open h5"
   ]
  },
  {
   "cell_type": "code",
   "execution_count": 1,
   "metadata": {},
   "outputs": [],
   "source": [
    "# laod h5\n",
    "%matplotlib inline\n",
    "import numpy as np\n",
    "import matplotlib.pyplot as plt\n",
    "import h5py\n",
    "import neo\n",
    "\n",
    "pathName = \"Results/20201204/VAbenchmarks_exc_nest_20201204-164459.h5\"\n",
    "with neo.NixIO(pathName) as io:\n",
    "    block = io.read_block()\n",
    "# start from here to open nix-hdf5"
   ]
  },
  {
   "cell_type": "markdown",
   "metadata": {},
   "source": [
    "# open pickle file"
   ]
  },
  {
   "cell_type": "code",
   "execution_count": 2,
   "metadata": {},
   "outputs": [],
   "source": [
    "import pickle \n",
    "\n",
    "def getPklData(pathData):\n",
    "    fileHandle = open(pathData, 'rb')\n",
    "    neoObj = pickle.load(fileHandle)\n",
    "    #segments = neoObj.segments[0]\n",
    "    #inputSpikes = segments.spiketrains\n",
    "    #voltage = segments.analogsignals[0]\n",
    "    return neoObj\n",
    "\n",
    "pathData = \"./Results/20201204/VAbenchmarks_exc_nest_20201204-164511.pkl\"\n",
    "neoObj = getPklData(pathData)\n"
   ]
  },
  {
   "cell_type": "markdown",
   "metadata": {},
   "source": [
    "# spikes comparison between neo and nixio"
   ]
  },
  {
   "cell_type": "code",
   "execution_count": 3,
   "metadata": {},
   "outputs": [],
   "source": [
    "%matplotlib inline\n",
    "import numpy as np\n",
    "import matplotlib.pyplot as plt\n",
    "\n",
    "def compareSpikes(spikesNeo, spikesNixio, alpha=.8):\n",
    "    #n_panels = sum(a.shape[1] for a in signal.segments[0].analogsignals) + 1\n",
    "    n_panels = len(spikesNeo.segments[0].analogsignals) +1 \n",
    "    fig, axs = plt.subplots(n_panels, 1, figsize=(12, 17))\n",
    "\n",
    "    def plot_spiketrains(ax, segment, title, color):\n",
    "        for spiketrain in segment.spiketrains[:100]:\n",
    "            y = np.ones_like(spiketrain) * spiketrain.annotations['source_id']\n",
    "            ax.plot(spiketrain, y, color)\n",
    "            ax.set_ylabel(segment.name)\n",
    "            ax.set_title(title)\n",
    "            #ax.legend()\n",
    "            #plt.setp(plt.gca().get_xticklabels(), visible=False)\n",
    "\n",
    "    plot_spiketrains(axs[0], spikesNeo.segments[0], 'neo', '+r')\n",
    "    plot_spiketrains(axs[1], spikesNixio.segments[0], 'nixio', '+b')\n",
    "    \n",
    "    return fig, axs\n",
    "\n"
   ]
  },
  {
   "cell_type": "code",
   "execution_count": 4,
   "metadata": {},
   "outputs": [
    {
     "data": {
      "image/png": "[encoded data removed]",
      "text/plain": [
       "<Figure size 864x1224 with 2 Axes>"
      ]
     },
     "metadata": {
      "needs_background": "light"
     },
     "output_type": "display_data"
    }
   ],
   "source": [
    "fig, axs = compareSpikes(neoObj,block)"
   ]
  },
  {
   "cell_type": "markdown",
   "metadata": {},
   "source": [
    "# voltage comparison between neo and nixio file format"
   ]
  },
  {
   "cell_type": "code",
   "execution_count": null,
   "metadata": {},
   "outputs": [],
   "source": [
    "fig_settings = {\n",
    "        'lines.linewidth': 0.5,\n",
    "        'axes.linewidth': 0.5,\n",
    "        'axes.labelsize': 'small',\n",
    "        'legend.fontsize': 'small',\n",
    "        'font.size': 14,\n",
    "        #'figsize': (13, 5)\n",
    "    }\n",
    "plt.rcParams.update(fig_settings)\n",
    "plt.plot(neoObj.segments[0].analogsignals[0][0:2000].times, neoObj.segments[0].analogsignals[0][0:2000], 'r.', label='pkl')\n",
    "plt.plot(block.segments[0].analogsignals[0][0:2000].times, block.segments[0].analogsignals[0][0:2000], 'b-', label='nixio')\n",
    "plt.title(\"two cells voltage comparison\")\n",
    "plt.xlabel(\"ms\")\n",
    "plt.ylabel(\"mv\")\n",
    "plt.legend()\n",
    "plt.savefig(\"comparison.png\")"
   ]
  },
  {
   "cell_type": "markdown",
   "metadata": {},
   "source": [
    "# old plot function"
   ]
  },
  {
   "cell_type": "code",
   "execution_count": null,
   "metadata": {},
   "outputs": [],
   "source": [
    "%matplotlib inline\n",
    "import numpy as np\n",
    "import matplotlib.pyplot as plt\n",
    "\n",
    "def plot(signal, spikes, alpha=.8):\n",
    "    fig_settings = {\n",
    "        'lines.linewidth': 0.5,\n",
    "        'axes.linewidth': 0.5,\n",
    "        'axes.labelsize': 'small',\n",
    "        'legend.fontsize': 'small',\n",
    "        'font.size': 14\n",
    "    }\n",
    "    plt.rcParams.update(fig_settings)\n",
    "\n",
    "    #n_panels = sum(a.shape[1] for a in signal.segments[0].analogsignals) + 1\n",
    "    n_panels = len(signal.segments[0].analogsignals) +1 \n",
    "    fig, axs = plt.subplots(n_panels, 1, figsize=(15, 21))\n",
    "\n",
    "    def plot_spiketrains(ax, segment):\n",
    "        for spiketrain in segment.spiketrains[:100]:\n",
    "            y = np.ones_like(spiketrain) * spiketrain.annotations['source_id']\n",
    "            ax.plot(spiketrain, y, '.')\n",
    "            ax.set_ylabel(segment.name)\n",
    "            #plt.setp(plt.gca().get_xticklabels(), visible=False)\n",
    "\n",
    "    def plot_signal(ax, signal, index, colour='k'):\n",
    "        label = \"Neuron %d\" % signal.annotations['source_ids'][index]\n",
    "        ax.plot(signal.times, signal[:, index], colour, label=label, alpha=alpha)\n",
    "        ax.set_ylabel(\"%s (%s)\" % (signal.name, signal.units._dimensionality.string))\n",
    "        #plt.setp(plt.gca().get_xticklabels(), visible=False)\n",
    "        #plt.legend()\n",
    "\n",
    "    plot_spiketrains(axs[0], spikes.segments[0])\n",
    "    #plot_spiketrains(axs[1], all_spikes.segments[0])\n",
    "    for i_panel, array in enumerate(signal.segments[0].analogsignals):\n",
    "        for i in range(array.shape[1]):\n",
    "            ax = axs[i_panel+1]\n",
    "            plot_signal(ax, array, i, colour='bg'[i_panel % 2])\n",
    "    ax.set_xlabel(\"time (%s)\" % array.times.units._dimensionality.string)\n",
    "    #plt.setp(plt.gca().get_xticklabels(), visible=True)\n",
    "    return fig, axs"
   ]
  },
  {
   "cell_type": "markdown",
   "metadata": {},
   "source": [
    "# pkl"
   ]
  },
  {
   "cell_type": "code",
   "execution_count": null,
   "metadata": {},
   "outputs": [],
   "source": [
    "plot(neoObj, neoObj, alpha=.8)"
   ]
  },
  {
   "cell_type": "markdown",
   "metadata": {},
   "source": [
    "# nixio"
   ]
  },
  {
   "cell_type": "code",
   "execution_count": null,
   "metadata": {},
   "outputs": [],
   "source": [
    "plot(block, block, alpha=.8)"
   ]
  },
  {
   "cell_type": "code",
   "execution_count": null,
   "metadata": {},
   "outputs": [],
   "source": []
  }
 ],
 "metadata": {
  "kernelspec": {
   "display_name": "Python 3",
   "language": "python",
   "name": "python3"
  },
  "language_info": {
   "codemirror_mode": {
    "name": "ipython",
    "version": 3
   },
   "file_extension": ".py",
   "mimetype": "text/x-python",
   "name": "python",
   "nbconvert_exporter": "python",
   "pygments_lexer": "ipython3",
   "version": "3.8.5"
  },
  "toc": {
   "base_numbering": 1,
   "nav_menu": {},
   "number_sections": true,
   "sideBar": true,
   "skip_h1_title": false,
   "title_cell": "Table of Contents",
   "title_sidebar": "Contents",
   "toc_cell": false,
   "toc_position": {},
   "toc_section_display": true,
   "toc_window_display": false
  }
 },
 "nbformat": 4,
 "nbformat_minor": 4
}
