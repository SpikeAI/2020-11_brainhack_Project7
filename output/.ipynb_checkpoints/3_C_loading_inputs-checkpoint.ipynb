{
 "cells": [
  {
   "cell_type": "markdown",
   "metadata": {},
   "source": [
    "# open h5"
   ]
  },
  {
   "cell_type": "code",
   "execution_count": null,
   "metadata": {},
   "outputs": [],
   "source": [
    "# laod h5\n",
    "%matplotlib inline\n",
    "import numpy as np\n",
    "import matplotlib.pyplot as plt\n",
    "import h5py\n",
    "import neo\n",
    "\n",
    "pathName = \"/home/spinnaker/2020-11_brainhack_Project7/dev/Results/20201203/VAbenchmarks_exc_spinnaker_20201203-144950.h5\"\n",
    "with neo.NixIO(pathName) as io:\n",
    "    block = io.read_block()\n",
    "    \n",
    "# start from here to open nix-hdf5"
   ]
  },
  {
   "cell_type": "markdown",
   "metadata": {},
   "source": [
    "# open pickle file"
   ]
  },
  {
   "cell_type": "code",
   "execution_count": null,
   "metadata": {},
   "outputs": [],
   "source": [
    "import pickle \n",
    "\n",
    "def getPklData(pathData):\n",
    "    fileHandle = open(pathData, 'rb')\n",
    "    neoObj = pickle.load(fileHandle)\n",
    "    #segments = neoObj.segments[0]\n",
    "    #inputSpikes = segments.spiketrains\n",
    "    #voltage = segments.analogsignals[0]\n",
    "    return neoObj\n",
    "\n",
    "pathData = \"/home/spinnaker/2020-11_brainhack_Project7/dev/Results/20201203/VAbenchmarks_exc_spinnaker_20201203-161750.pkl\"\n",
    "neoObj = getPklData(pathData)\n"
   ]
  },
  {
   "cell_type": "markdown",
   "metadata": {},
   "source": [
    "# define plot function"
   ]
  },
  {
   "cell_type": "code",
   "execution_count": null,
   "metadata": {},
   "outputs": [],
   "source": [
    "%matplotlib inline\n",
    "import numpy as np\n",
    "import matplotlib.pyplot as plt\n",
    "\n",
    "def plot(signal, spikes, alpha=.2):\n",
    "    fig_settings = {\n",
    "        'lines.linewidth': 0.5,\n",
    "        'axes.linewidth': 0.5,\n",
    "        'axes.labelsize': 'small',\n",
    "        'legend.fontsize': 'small',\n",
    "        'font.size': 14\n",
    "    }\n",
    "    plt.rcParams.update(fig_settings)\n",
    "\n",
    "    #n_panels = sum(a.shape[1] for a in signal.segments[0].analogsignals) + 1\n",
    "    n_panels = len(signal.segments[0].analogsignals) +1 \n",
    "    fig, axs = plt.subplots(n_panels, 1, figsize=(15, 21))\n",
    "\n",
    "    def plot_spiketrains(ax, segment):\n",
    "        for spiketrain in segment.spiketrains[:100]:\n",
    "            y = np.ones_like(spiketrain) * spiketrain.annotations['source_id']\n",
    "            ax.plot(spiketrain, y, '.')\n",
    "            ax.set_ylabel(segment.name)\n",
    "            #plt.setp(plt.gca().get_xticklabels(), visible=False)\n",
    "\n",
    "    def plot_signal(ax, signal, index, colour='b'):\n",
    "        label = \"Neuron %d\" % signal.annotations['source_ids'][index]\n",
    "        ax.plot(signal.times, signal[:, index], colour, label=label, alpha=alpha)\n",
    "        ax.set_ylabel(\"%s (%s)\" % (signal.name, signal.units._dimensionality.string))\n",
    "        #plt.setp(plt.gca().get_xticklabels(), visible=False)\n",
    "        #plt.legend()\n",
    "\n",
    "    plot_spiketrains(axs[0], spikes.segments[0])\n",
    "    #plot_spiketrains(axs[1], all_spikes.segments[0])\n",
    "    for i_panel, array in enumerate(signal.segments[0].analogsignals):\n",
    "        for i in range(array.shape[1]):\n",
    "            ax = axs[i_panel+1]\n",
    "            plot_signal(ax, array, i, colour='bg'[i_panel % 2])\n",
    "    ax.set_xlabel(\"time (%s)\" % array.times.units._dimensionality.string)\n",
    "    #plt.setp(plt.gca().get_xticklabels(), visible=True)\n",
    "    return fig, axs\n",
    "\n"
   ]
  },
  {
   "cell_type": "markdown",
   "metadata": {},
   "source": [
    "# plot pkl file"
   ]
  },
  {
   "cell_type": "code",
   "execution_count": null,
   "metadata": {},
   "outputs": [],
   "source": [
    "fig, axs = plot(neoObj,neoObj)"
   ]
  },
  {
   "cell_type": "code",
   "execution_count": null,
   "metadata": {},
   "outputs": [],
   "source": []
  },
  {
   "cell_type": "code",
   "execution_count": null,
   "metadata": {},
   "outputs": [],
   "source": [
    "# First create some toy data:\n",
    "x = np.linspace(0, 2*np.pi, 400)\n",
    "y = np.sin(x**2)\n",
    "\n",
    "# Create just a figure and only one subplot\n",
    "fig, ax = plt.subplots()\n",
    "ax.plot(x, y)\n",
    "ax.set_title('Simple plot')\n",
    "\n",
    "# Create two subplots and unpack the output array immediately\n",
    "f, (ax1, ax2) = plt.subplots(1, 2, sharey=True)\n",
    "ax1.plot(x, y)\n",
    "ax1.set_title('Sharing Y axis')\n",
    "ax2.scatter(x, y)\n",
    "\n",
    "# Create four polar axes and access them through the returned array\n",
    "fig, axs = plt.subplots(2, 2, subplot_kw=dict(polar=True))\n",
    "axs[0, 0].plot(x, y)\n",
    "axs[1, 1].scatter(x, y)\n",
    "\n",
    "# Share a X axis with each column of subplots\n",
    "plt.subplots(2, 2, sharex='col')\n",
    "\n",
    "# Share a Y axis with each row of subplots\n",
    "plt.subplots(2, 2, sharey='row')\n",
    "\n",
    "# Share both X and Y axes with all subplots\n",
    "plt.subplots(2, 2, sharex='all', sharey='all')\n",
    "\n",
    "# Note that this is the same as\n",
    "plt.subplots(2, 2, sharex=True, sharey=True)\n",
    "\n",
    "# Create figure number 10 with a single subplot\n",
    "# and clears it if it already exists.\n",
    "fig, ax = plt.subplots(num=10, clear=True)"
   ]
  },
  {
   "cell_type": "code",
   "execution_count": null,
   "metadata": {},
   "outputs": [],
   "source": []
  }
 ],
 "metadata": {
  "kernelspec": {
   "display_name": "sPyNNaker",
   "language": "python",
   "name": "spynnaker"
  },
  "language_info": {
   "codemirror_mode": {
    "name": "ipython",
    "version": 3
   },
   "file_extension": ".py",
   "mimetype": "text/x-python",
   "name": "python",
   "nbconvert_exporter": "python",
   "pygments_lexer": "ipython3",
   "version": "3.6.9"
  },
  "toc": {
   "base_numbering": 1,
   "nav_menu": {},
   "number_sections": true,
   "sideBar": true,
   "skip_h1_title": false,
   "title_cell": "Table of Contents",
   "title_sidebar": "Contents",
   "toc_cell": false,
   "toc_position": {},
   "toc_section_display": true,
   "toc_window_display": false
  }
 },
 "nbformat": 4,
 "nbformat_minor": 4
}
