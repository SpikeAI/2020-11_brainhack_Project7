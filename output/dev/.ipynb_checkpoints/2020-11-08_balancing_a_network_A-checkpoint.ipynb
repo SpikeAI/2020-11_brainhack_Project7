{
 "cells": [
  {
   "cell_type": "markdown",
   "metadata": {},
   "source": [
    "http://neuralensemble.org/docs/PyNN/examples/VAbenchmarks.html\n"
   ]
  },
  {
   "cell_type": "markdown",
   "metadata": {},
   "source": [
    "# balanced network"
   ]
  },
  {
   "cell_type": "code",
   "execution_count": 1,
   "metadata": {},
   "outputs": [
    {
     "name": "stdout",
     "output_type": "stream",
     "text": [
      "CSAConnector: libneurosim support not available in NEST.\n",
      "Falling back on PyNN's default CSAConnector.\n",
      "Please re-compile NEST using --with-libneurosim=PATH\n",
      "Host #1 \n",
      "0 Initialising the simulator with 1 thread(s)...\n"
     ]
    },
    {
     "name": "stderr",
     "output_type": "stream",
     "text": [
      "/home/laurent/.local/lib/python3.8/site-packages/pyNN/nest/__init__.py:53: UserWarning:Unable to install NEST extensions. Certain models may not be available.\n",
      "/usr/lib/python3.8/dist-packages/nest/lib/hl_api_helper.py:127: UserWarning:\n",
      "ResetNetwork is deprecated and will be removed in NEST 3.0.\n"
     ]
    }
   ],
   "source": [
    "# coding: utf-8\n",
    "\"\"\"\n",
    "Balanced network of excitatory and inhibitory neurons.\n",
    "\n",
    "An implementation of benchmarks 1 and 2 from\n",
    "\n",
    "    Brette et al. (2007) Journal of Computational Neuroscience 23: 349-398\n",
    "\n",
    "The network is based on the CUBA and COBA models of Vogels & Abbott\n",
    "(J. Neurosci, 2005).  The model consists of a network of excitatory and\n",
    "inhibitory neurons, connected via current-based \"exponential\"\n",
    "synapses (instantaneous rise, exponential decay).\n",
    "\n",
    "\n",
    "Usage: python VAbenchmarks.py [-h] [--plot-figure] [--use-views] [--use-assembly]\n",
    "                              [--use-csa] [--debug DEBUG]\n",
    "                              simulator benchmark\n",
    "\n",
    "positional arguments:\n",
    "  simulator       neuron, nest, brian or another backend simulator\n",
    "  benchmark       either CUBA or COBA\n",
    "\n",
    "optional arguments:\n",
    "  -h, --help      show this help message and exit\n",
    "  --plot-figure   plot the simulation results to a file\n",
    "  --use-views     use population views in creating the network\n",
    "  --use-assembly  use assemblies in creating the network\n",
    "  --use-csa       use the Connection Set Algebra to define the connectivity\n",
    "  --debug DEBUG   print debugging information\n",
    "\n",
    "\n",
    "Andrew Davison, UNIC, CNRS\n",
    "August 2006\n",
    "\n",
    "\"\"\"\n",
    "\n",
    "from math import *\n",
    "from pyNN.utility import Timer, ProgressBar, init_logging, normalized_filename\n",
    "from pyNN.random import NumpyRNG, RandomDistribution\n",
    "\n",
    "import pyNN.nest as sim\n",
    "\n",
    "# === Configure the simulator ================================================\n",
    "\n",
    "#sim, options = get_simulator(\n",
    "#                    (\"benchmark\", \"either CUBA or COBA\"),\n",
    "#                    (\"--plot-figure\", \"plot the simulation results to a file\", {\"action\": \"store_true\"}),\n",
    "#                    (\"--use-views\", \"use population views in creating the network\", {\"action\": \"store_true\"}),\n",
    "#                    (\"--use-assembly\", \"use assemblies in creating the network\", {\"action\": \"store_true\"}),\n",
    "#                    (\"--use-csa\", \"use the Connection Set Algebra to define the connectivity\", {\"action\": \"store_true\"}),\n",
    "#                    (\"--debug\", \"print debugging information\"))\n",
    "\n",
    "\n",
    "init_logging(None, debug=False)\n",
    "\n",
    "timer = Timer()\n",
    "\n",
    "# === Define parameters ========================================================\n",
    "\n",
    "threads  = 1\n",
    "rngseed  = 98765\n",
    "parallel_safe = True\n",
    "\n",
    "n        = 4000  # number of cells\n",
    "r_ei     = 4.0   # number of excitatory cells:number of inhibitory cells\n",
    "pconn    = 0.02  # connection probability\n",
    "stim_dur = 50.   # (ms) duration of random stimulation\n",
    "rate     = 100.  # (Hz) frequency of the random stimulation\n",
    "\n",
    "dt       = 0.1   # (ms) simulation timestep\n",
    "tstop    = 1000  # (ms) simulaton duration\n",
    "delay    = 0.2\n",
    "\n",
    "# Cell parameters\n",
    "area     = 20000. # (µm²)\n",
    "tau_m    = 20.    # (ms)\n",
    "cm       = 1.     # (µF/cm²)\n",
    "g_leak   = 5e-5   # (S/cm²)\n",
    "E_leak   = -60.  # (mV)\n",
    "v_thresh = -50.   # (mV)\n",
    "v_reset  = -60.   # (mV)\n",
    "t_refrac = 5.     # (ms) (clamped at v_reset)\n",
    "v_mean   = -60.   # (mV) 'mean' membrane potential, for calculating CUBA weights\n",
    "tau_exc  = 5.     # (ms)\n",
    "tau_inh  = 10.    # (ms)\n",
    "\n",
    "# Synapse parameters\n",
    "Gexc = 4.     # (nS)\n",
    "Ginh = 51.    # (nS)\n",
    "Erev_exc = 0.     # (mV)\n",
    "Erev_inh = -80.   # (mV)\n",
    "\n",
    "### what is the synaptic delay???\n",
    "\n",
    "# === Calculate derived parameters =============================================\n",
    "\n",
    "area  = area*1e-8                     # convert to cm²\n",
    "cm    = cm*area*1000                  # convert to nF\n",
    "Rm    = 1e-6/(g_leak*area)            # membrane resistance in MΩ\n",
    "assert tau_m == cm*Rm                 # just to check\n",
    "n_exc = int(round((n*r_ei/(1+r_ei)))) # number of excitatory cells\n",
    "n_inh = n - n_exc                     # number of inhibitory cells\n",
    "celltype = sim.IF_cond_exp\n",
    "w_exc    = Gexc*1e-3              # We convert conductances to uS\n",
    "w_inh    = Ginh*1e-3\n",
    "\n",
    "# === Build the network ========================================================\n",
    "benchmark = 'COBA'\n",
    "extra = {'threads' : threads,\n",
    "         'filename': \"va_%s.xml\" % benchmark,\n",
    "         'label': 'VA'}\n",
    "\n",
    "node_id = sim.setup(timestep=dt, min_delay=delay, max_delay=1.0, **extra)\n",
    "num_process = sim.num_processes()\n",
    "\n",
    "print(\"Host #%d \" % (node_id + 1))\n",
    "\n",
    "print(\"%s Initialising the simulator with %d thread(s)...\" % (node_id, extra['threads']))\n",
    "\n",
    "cell_params = {\n",
    "    'tau_m'      : tau_m,    'tau_syn_E'  : tau_exc,  'tau_syn_I'  : tau_inh,\n",
    "    'v_rest'     : E_leak,   'v_reset'    : v_reset,  'v_thresh'   : v_thresh,\n",
    "    'cm'         : cm,       'tau_refrac' : t_refrac}\n",
    "\n",
    "cell_params['e_rev_E'] = Erev_exc\n",
    "cell_params['e_rev_I'] = Erev_inh"
   ]
  },
  {
   "cell_type": "markdown",
   "metadata": {},
   "source": [
    "## initial script"
   ]
  },
  {
   "cell_type": "code",
   "execution_count": 2,
   "metadata": {},
   "outputs": [
    {
     "name": "stderr",
     "output_type": "stream",
     "text": [
      "2020-12-02 11:28:09,758 WARNING  [PyNN] NEST does not allow setting an initial value for g_ex (/home/laurent/.local/lib/python3.8/site-packages/pyNN/nest/populations.py[174]:_set_initial_value_array)\n",
      "2020-12-02 11:28:09,764 WARNING  [PyNN] NEST does not allow setting an initial value for g_in (/home/laurent/.local/lib/python3.8/site-packages/pyNN/nest/populations.py[174]:_set_initial_value_array)\n"
     ]
    },
    {
     "name": "stdout",
     "output_type": "stream",
     "text": [
      "0 Creating cell populations...\n",
      "0 Initialising membrane potential to random values...\n",
      "0 Connecting populations...\n",
      "0 Setting up recording...0%                                                                                                                                                                                                                                                                                                                                                                                                                                                                                                                                                                                                                                                                                                                                                                                              \n",
      "0 Running simulation...\n",
      "0 Writing data to file...\n"
     ]
    },
    {
     "name": "stderr",
     "output_type": "stream",
     "text": [
      "/home/laurent/.local/lib/python3.8/site-packages/pyNN/recording/__init__.py:264: UserWarning:Recorded at least one spike after t_stop\n"
     ]
    },
    {
     "name": "stdout",
     "output_type": "stream",
     "text": [
      "\n",
      "--- Vogels-Abbott Network Simulation ---\n",
      "Nodes                  : 1\n",
      "Simulation type        : COBA\n",
      "Number of Neurons      : 4000\n",
      "Number of Synapses     : 255687 e→e,i  63693 i→e,i\n",
      "Excitatory conductance : 4 nS\n",
      "Inhibitory conductance : 51 nS\n",
      "Excitatory rate        : 15.9541 Hz\n",
      "Inhibitory rate        : 15.3262 Hz\n",
      "Build time             : 12.0595 s\n",
      "Simulation time        : 9.86486 s\n",
      "Writing time           : 0.949881 s\n"
     ]
    }
   ],
   "source": [
    "timer.start()\n",
    "\n",
    "print(\"%s Creating cell populations...\" % node_id)\n",
    "use_views=True\n",
    "if use_views:\n",
    "    # create a single population of neurons, and then use population views to define\n",
    "    # excitatory and inhibitory sub-populations\n",
    "    all_cells = sim.Population(n_exc + n_inh, celltype(**cell_params), label=\"All Cells\")\n",
    "    exc_cells = all_cells[:n_exc]\n",
    "    exc_cells.label = \"Excitatory cells\"\n",
    "    inh_cells = all_cells[n_exc:]\n",
    "    inh_cells.label = \"Inhibitory cells\"\n",
    "else:\n",
    "    # create separate populations for excitatory and inhibitory neurons\n",
    "    exc_cells = sim.Population(n_exc, celltype(**cell_params), label=\"Excitatory_Cells\")\n",
    "    inh_cells = sim.Population(n_inh, celltype(**cell_params), label=\"Inhibitory_Cells\")\n",
    "    if options.use_assembly:\n",
    "        # group the populations into an assembly\n",
    "        all_cells = exc_cells + inh_cells\n",
    "\n",
    "ext_stim = sim.Population(20, sim.SpikeSourcePoisson(rate=rate, duration=stim_dur), label=\"expoisson\")\n",
    "rconn = 0.01\n",
    "ext_conn = sim.FixedProbabilityConnector(rconn)\n",
    "ext_syn = sim.StaticSynapse(weight=0.1)\n",
    "\n",
    "print(\"%s Initialising membrane potential to random values...\" % node_id)\n",
    "rng = NumpyRNG(seed=rngseed, parallel_safe=parallel_safe)\n",
    "uniformDistr = RandomDistribution('uniform', low=v_reset, high=v_thresh, rng=rng)\n",
    "if use_views:\n",
    "    all_cells.initialize(v=uniformDistr)\n",
    "else:\n",
    "    exc_cells.initialize(v=uniformDistr)\n",
    "    inh_cells.initialize(v=uniformDistr)\n",
    "\n",
    "print(\"%s Connecting populations...\" % node_id)\n",
    "progress_bar = ProgressBar(width=20)\n",
    "connector = sim.FixedProbabilityConnector(pconn, rng=rng, callback=progress_bar)\n",
    "exc_syn = sim.StaticSynapse(weight=w_exc, delay=delay)\n",
    "inh_syn = sim.StaticSynapse(weight=w_inh, delay=delay)\n",
    "\n",
    "connections = {}\n",
    "if use_views: # or options.use_assembly:\n",
    "    connections['exc'] = sim.Projection(exc_cells, all_cells, connector, exc_syn, receptor_type='excitatory')\n",
    "    connections['inh'] = sim.Projection(inh_cells, all_cells, connector, inh_syn, receptor_type='inhibitory')\n",
    "    connections['ext'] = sim.Projection(ext_stim, all_cells, ext_conn, ext_syn, receptor_type='excitatory')\n",
    "else:\n",
    "    connections['e2e'] = sim.Projection(exc_cells, exc_cells, connector, exc_syn, receptor_type='excitatory')\n",
    "    connections['e2i'] = sim.Projection(exc_cells, inh_cells, connector, exc_syn, receptor_type='excitatory')\n",
    "    connections['i2e'] = sim.Projection(inh_cells, exc_cells, connector, inh_syn, receptor_type='inhibitory')\n",
    "    connections['i2i'] = sim.Projection(inh_cells, inh_cells, connector, inh_syn, receptor_type='inhibitory')\n",
    "    connections['ext2e'] = sim.Projection(ext_stim, exc_cells, ext_conn, ext_syn, receptor_type='excitatory')\n",
    "    connections['ext2i'] = sim.Projection(ext_stim, inh_cells, ext_conn, ext_syn, receptor_type='excitatory')\n",
    "\n",
    "# === Setup recording ==========================================================\n",
    "print(\"%s Setting up recording...\" % node_id)\n",
    "if use_views: # or options.use_assembly:\n",
    "    all_cells.record('spikes')\n",
    "    exc_cells[[0, 1]].record('v')\n",
    "else:\n",
    "    exc_cells.record('spikes')\n",
    "    inh_cells.record('spikes')\n",
    "    exc_cells[0, 1].record('v')\n",
    "\n",
    "buildCPUTime = timer.diff()\n",
    "\n",
    "# === Save connections to file =================================================\n",
    "\n",
    "#for prj in connections.keys():\n",
    "    #connections[prj].saveConnections('Results/VAbenchmark_%s_%s_%s_np%d.conn' % (benchmark, prj, options.simulator, np))\n",
    "saveCPUTime = timer.diff()\n",
    "\n",
    "# === Run simulation ===========================================================\n",
    "\n",
    "print(\"%d Running simulation...\" % node_id)\n",
    "\n",
    "sim.run(tstop)\n",
    "\n",
    "simCPUTime = timer.diff()\n",
    "\n",
    "E_count = exc_cells.mean_spike_count()\n",
    "I_count = inh_cells.mean_spike_count()\n",
    "\n",
    "# === Print results to file ====================================================\n",
    "\n",
    "print(\"%d Writing data to file...\" % node_id)\n",
    "\n",
    "filename = normalized_filename(\"Results\", \"VAbenchmarks_%s_exc\" % benchmark, \"pkl\",\n",
    "                               'nest', 1)\n",
    "exc_cells.write_data(filename)\n",
    "inh_cells.write_data(filename.replace(\"exc\", \"inh\"))\n",
    "\n",
    "writeCPUTime = timer.diff()\n",
    "\n",
    "if use_views: # or options.use_assembly:\n",
    "    connections = \"%d e→e,i  %d i→e,i\" % (connections['exc'].size(),\n",
    "                                          connections['inh'].size())\n",
    "else:\n",
    "    connections = u\"%d e→e  %d e→i  %d i→e  %d i→i\" % (connections['e2e'].size(),\n",
    "                                                       connections['e2i'].size(),\n",
    "                                                       connections['i2e'].size(),\n",
    "                                                       connections['i2i'].size())\n",
    "\n",
    "if node_id == 0:\n",
    "    print(\"\\n--- Vogels-Abbott Network Simulation ---\")\n",
    "    print(\"Nodes                  : %d\" % 1)\n",
    "    print(\"Simulation type        : %s\" % benchmark)\n",
    "    print(\"Number of Neurons      : %d\" % n)\n",
    "    print(\"Number of Synapses     : %s\" % connections)\n",
    "    print(\"Excitatory conductance : %g nS\" % Gexc)\n",
    "    print(\"Inhibitory conductance : %g nS\" % Ginh)\n",
    "    print(\"Excitatory rate        : %g Hz\" % (E_count * 1000.0 / tstop,))\n",
    "    print(\"Inhibitory rate        : %g Hz\" % (I_count * 1000.0 / tstop,))\n",
    "    print(\"Build time             : %g s\" % buildCPUTime)\n",
    "    #print(\"Save connections time  : %g s\" % saveCPUTime)\n",
    "    print(\"Simulation time        : %g s\" % simCPUTime)\n",
    "    print(\"Writing time           : %g s\" % writeCPUTime)\n",
    "\n",
    "\n",
    "# === Finished with simulator ==================================================\n",
    "\n",
    "sim.end()"
   ]
  },
  {
   "cell_type": "markdown",
   "metadata": {},
   "source": [
    "## simplifying "
   ]
  },
  {
   "cell_type": "code",
   "execution_count": 3,
   "metadata": {},
   "outputs": [
    {
     "name": "stderr",
     "output_type": "stream",
     "text": [
      "2020-12-02 11:28:32,895 WARNING  [PyNN] NEST does not allow setting an initial value for g_ex (/home/laurent/.local/lib/python3.8/site-packages/pyNN/nest/populations.py[174]:_set_initial_value_array)\n",
      "2020-12-02 11:28:32,901 WARNING  [PyNN] NEST does not allow setting an initial value for g_in (/home/laurent/.local/lib/python3.8/site-packages/pyNN/nest/populations.py[174]:_set_initial_value_array)\n"
     ]
    },
    {
     "name": "stdout",
     "output_type": "stream",
     "text": [
      "0 Creating cell populations...\n",
      "0 Initialising membrane potential to random values...\n",
      "0 Connecting populations...\n",
      "0 Setting up recording...0%                                                                                                                                                                                                                                                                                                                                                                                                                                                                                                                                                                                                                                                                                                                           \n",
      "0 Running simulation...\n",
      "\n",
      "--- Vogels-Abbott Network Simulation ---\n",
      "Nodes                  : 1\n",
      "Simulation type        : COBA\n",
      "Number of Neurons      : 4000\n",
      "Number of Synapses     : 255687 e→e,i  63693 i→e,i\n",
      "Excitatory conductance : 4 nS\n",
      "Inhibitory conductance : 51 nS\n",
      "Excitatory rate        : 0 Hz\n",
      "Inhibitory rate        : 0 Hz\n",
      "Writing time           : 0.949881 s\n"
     ]
    }
   ],
   "source": [
    "print(\"%s Creating cell populations...\" % node_id)\n",
    "\n",
    "# create a single population of neurons, and then use population views to define\n",
    "# excitatory and inhibitory sub-populations\n",
    "all_cells = sim.Population(n_exc + n_inh, celltype(**cell_params), label=\"All Cells\")\n",
    "exc_cells = all_cells[:n_exc]\n",
    "exc_cells.label = \"Excitatory cells\"\n",
    "inh_cells = all_cells[n_exc:]\n",
    "inh_cells.label = \"Inhibitory cells\"\n",
    "\n",
    "ext_stim = sim.Population(20, sim.SpikeSourcePoisson(rate=rate, duration=stim_dur), label=\"expoisson\")\n",
    "rconn = 0.01\n",
    "ext_conn = sim.FixedProbabilityConnector(rconn)\n",
    "ext_syn = sim.StaticSynapse(weight=0.1)\n",
    "\n",
    "print(\"%s Initialising membrane potential to random values...\" % node_id)\n",
    "rng = NumpyRNG(seed=rngseed, parallel_safe=parallel_safe)\n",
    "uniformDistr = RandomDistribution('uniform', low=v_reset, high=v_thresh, rng=rng)\n",
    "all_cells.initialize(v=uniformDistr)\n",
    "\n",
    "print(\"%s Connecting populations...\" % node_id)\n",
    "progress_bar = ProgressBar(width=20)\n",
    "connector = sim.FixedProbabilityConnector(pconn, rng=rng, callback=progress_bar)\n",
    "exc_syn = sim.StaticSynapse(weight=w_exc, delay=delay)\n",
    "inh_syn = sim.StaticSynapse(weight=w_inh, delay=delay)\n",
    "\n",
    "connections = {}\n",
    "connections['exc'] = sim.Projection(exc_cells, all_cells, connector, exc_syn, receptor_type='excitatory')\n",
    "connections['inh'] = sim.Projection(inh_cells, all_cells, connector, inh_syn, receptor_type='inhibitory')\n",
    "connections['ext'] = sim.Projection(ext_stim, all_cells, ext_conn, ext_syn, receptor_type='excitatory')\n",
    "\n",
    "# === Setup recording ==========================================================\n",
    "print(\"%s Setting up recording...\" % node_id)\n",
    "all_cells.record('spikes')\n",
    "exc_cells[[0, 1]].record('v')\n",
    "\n",
    "# === Run simulation ===========================================================\n",
    "print(\"%d Running simulation...\" % node_id)\n",
    "sim.run(tstop)\n",
    "\n",
    "E_count = exc_cells.mean_spike_count()\n",
    "I_count = inh_cells.mean_spike_count()\n",
    "\n",
    "n_connections = \"%d e→e,i  %d i→e,i\" % (connections['exc'].size(),\n",
    "                                      connections['inh'].size())\n",
    "\n",
    "print(\"\\n--- Vogels-Abbott Network Simulation ---\")\n",
    "print(\"Nodes                  : %d\" % 1)\n",
    "print(\"Simulation type        : %s\" % benchmark)\n",
    "print(\"Number of Neurons      : %d\" % n)\n",
    "print(\"Number of Synapses     : %s\" % n_connections)\n",
    "print(\"Excitatory conductance : %g nS\" % Gexc)\n",
    "print(\"Inhibitory conductance : %g nS\" % Ginh)\n",
    "print(\"Excitatory rate        : %g Hz\" % (E_count * 1000.0 / tstop,))\n",
    "print(\"Inhibitory rate        : %g Hz\" % (I_count * 1000.0 / tstop,))\n",
    "print(\"Writing time           : %g s\" % writeCPUTime)\n",
    "\n",
    "\n",
    "# === Finished with simulator ==================================================\n",
    "\n",
    "sim.end()"
   ]
  },
  {
   "cell_type": "markdown",
   "metadata": {},
   "source": [
    "## Modifying connections\n",
    "\n",
    "http://neuralensemble.org/docs/PyNN/connections.html\n"
   ]
  },
  {
   "cell_type": "code",
   "execution_count": 4,
   "metadata": {},
   "outputs": [
    {
     "name": "stdout",
     "output_type": "stream",
     "text": [
      "(3200, 4000) (3200, 4000)\n",
      "(20, 4000) (20, 4000)\n",
      "(800, 4000) (800, 4000)\n"
     ]
    }
   ],
   "source": [
    "for pop in ['exc', 'ext', 'inh']:\n",
    "    weights, delays = connections[pop].get(['weight', 'delay'], format='array')\n",
    "    print(weights.shape, delays.shape)"
   ]
  },
  {
   "cell_type": "code",
   "execution_count": 5,
   "metadata": {},
   "outputs": [
    {
     "data": {
      "text/plain": [
       "Projection(\"Excitatory cells→All Cells\")"
      ]
     },
     "execution_count": 5,
     "metadata": {},
     "output_type": "execute_result"
    }
   ],
   "source": [
    "connections['exc']"
   ]
  },
  {
   "cell_type": "code",
   "execution_count": 6,
   "metadata": {},
   "outputs": [
    {
     "data": {
      "text/plain": [
       "{'exc': Projection(\"Excitatory cells→All Cells\"),\n",
       " 'inh': Projection(\"Inhibitory cells→All Cells\"),\n",
       " 'ext': Projection(\"expoisson→All Cells\")}"
      ]
     },
     "execution_count": 6,
     "metadata": {},
     "output_type": "execute_result"
    }
   ],
   "source": [
    "connections"
   ]
  },
  {
   "cell_type": "code",
   "execution_count": 7,
   "metadata": {},
   "outputs": [
    {
     "data": {
      "text/plain": [
       "(800, 4000)"
      ]
     },
     "execution_count": 7,
     "metadata": {},
     "output_type": "execute_result"
    }
   ],
   "source": [
    "weights.shape"
   ]
  },
  {
   "cell_type": "code",
   "execution_count": 8,
   "metadata": {},
   "outputs": [
    {
     "data": {
      "text/plain": [
       "array([nan, nan, nan, ..., nan, nan, nan])"
      ]
     },
     "execution_count": 8,
     "metadata": {},
     "output_type": "execute_result"
    }
   ],
   "source": [
    "weights.sum(axis=0)"
   ]
  },
  {
   "cell_type": "code",
   "execution_count": 9,
   "metadata": {},
   "outputs": [],
   "source": [
    "import numpy as np\n",
    "exists = ~np.isnan(weights)"
   ]
  },
  {
   "cell_type": "markdown",
   "metadata": {},
   "source": [
    "number of valid connections:"
   ]
  },
  {
   "cell_type": "code",
   "execution_count": 10,
   "metadata": {},
   "outputs": [
    {
     "data": {
      "text/plain": [
       "array([19, 19, 13, ..., 19, 13, 19])"
      ]
     },
     "execution_count": 10,
     "metadata": {},
     "output_type": "execute_result"
    }
   ],
   "source": [
    "exists.sum(axis=0)\n"
   ]
  },
  {
   "cell_type": "code",
   "execution_count": 11,
   "metadata": {},
   "outputs": [
    {
     "data": {
      "text/plain": [
       "(63693,)"
      ]
     },
     "execution_count": 11,
     "metadata": {},
     "output_type": "execute_result"
    }
   ],
   "source": [
    "weights[exists].shape"
   ]
  },
  {
   "cell_type": "code",
   "execution_count": 12,
   "metadata": {},
   "outputs": [
    {
     "data": {
      "text/plain": [
       "array([0.969, 0.969, 0.663, ..., 0.969, 0.663, 0.969])"
      ]
     },
     "execution_count": 12,
     "metadata": {},
     "output_type": "execute_result"
    }
   ],
   "source": [
    "weight_cp = weights.copy()\n",
    "weight_cp[np.isnan(weights)] = 0.\n",
    "\n",
    "weight_cp.sum(axis=0)"
   ]
  },
  {
   "cell_type": "code",
   "execution_count": 13,
   "metadata": {},
   "outputs": [],
   "source": [
    "weights_norm = weights / weight_cp.sum(axis=0)"
   ]
  },
  {
   "cell_type": "code",
   "execution_count": 14,
   "metadata": {},
   "outputs": [
    {
     "data": {
      "text/plain": [
       "array([1., 1., 1., ..., 1., 1., 1.])"
      ]
     },
     "execution_count": 14,
     "metadata": {},
     "output_type": "execute_result"
    }
   ],
   "source": [
    "weight_cp = weights_norm.copy()\n",
    "weight_cp[np.isnan(weights_norm)] = 0.\n",
    "\n",
    "weight_cp.sum(axis=0)"
   ]
  },
  {
   "cell_type": "code",
   "execution_count": null,
   "metadata": {},
   "outputs": [],
   "source": []
  }
 ],
 "metadata": {
  "kernelspec": {
   "display_name": "Python 3",
   "language": "python",
   "name": "python3"
  },
  "language_info": {
   "codemirror_mode": {
    "name": "ipython",
    "version": 3
   },
   "file_extension": ".py",
   "mimetype": "text/x-python",
   "name": "python",
   "nbconvert_exporter": "python",
   "pygments_lexer": "ipython3",
   "version": "3.8.5"
  },
  "toc": {
   "base_numbering": 1,
   "nav_menu": {},
   "number_sections": true,
   "sideBar": true,
   "skip_h1_title": false,
   "title_cell": "Table of Contents",
   "title_sidebar": "Contents",
   "toc_cell": false,
   "toc_position": {},
   "toc_section_display": true,
   "toc_window_display": false
  }
 },
 "nbformat": 4,
 "nbformat_minor": 4
}
